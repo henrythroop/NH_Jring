{
 "cells": [
  {
   "cell_type": "code",
   "execution_count": 64,
   "metadata": {
    "collapsed": false
   },
   "outputs": [],
   "source": [
    "import astropy.constants as c\n",
    "import astropy.units as u\n",
    "import numpy as np\n",
    "import matplotlib.pyplot as plt\n",
    "import math\n",
    "from astropy.analytic_functions import blackbody_lambda, blackbody_nu\n",
    "from astropy.utils.exceptions import AstropyDeprecationWarning"
   ]
  },
  {
   "cell_type": "markdown",
   "metadata": {},
   "source": [
    "## Cassini entry into Saturn atmosphere.\n",
    "\n",
    "- How big is Saturn (in pixels)\n",
    "- How many photon/sec is Saturn\n",
    "- How many photon/sec is the impact"
   ]
  },
  {
   "cell_type": "code",
   "execution_count": 65,
   "metadata": {
    "collapsed": false
   },
   "outputs": [],
   "source": [
    "d_hct = 2*u.m                # HCT telescope diameter\n",
    "d_aries = 3.6*u.m            # ARIES telescope diameter\n",
    "P_Cassini_max = 1e11*u.Watt  # Peak dissipation of Cassini = 1e10 W .. 1e11 W. \n",
    "                            # Duration = few seconds. This is from RL's PDF.\n",
    "    \n",
    "\n",
    "alam_arr = {}\n",
    "dlam_arr = {}\n",
    "alam_arr['J'] = 1200*u.nm\n",
    "alam_arr['H'] = 1600*u.nm\n",
    "alam_arr['K'] = 2200*u.nm\n",
    "dlam_arr['J'] = 200*u.nm\n",
    "dlam_arr['H'] = 300*u.nm\n",
    "dlam_arr['K'] = 300*u.nm\n",
    "\n",
    "# My estimate: Total solar flux in J, H, and K band is 5%, 3%, and 1% of solar flux.\n",
    "# Should be calculated analytically, but an eyeball plot from a black body \n",
    "# spectrum is probably just as good.\n",
    "\n",
    "frac_in_band = 0.01 # Rough estimate, best case, of amount of solar flux that is in JHK band.\n",
    "\n",
    "band = 'J'\n",
    "d = d_hct\n",
    "\n",
    "alam = alam_arr[band]\n",
    "dlam = dlam_arr[band]\n",
    "albedo_Saturn = 0.5\n",
    "\n",
    "dist_Saturn = 10*u.AU\n",
    "diam_Saturn = 70000*u.km"
   ]
  },
  {
   "cell_type": "markdown",
   "metadata": {},
   "source": [
    "# Calculate # of pixels of Saturn"
   ]
  },
  {
   "cell_type": "code",
   "execution_count": 66,
   "metadata": {
    "collapsed": false
   },
   "outputs": [],
   "source": [
    "d_Saturn_pix = (diam_Saturn / dist_Saturn) / (1.22*alam/d) "
   ]
  },
  {
   "cell_type": "code",
   "execution_count": 67,
   "metadata": {
    "collapsed": false
   },
   "outputs": [
    {
     "name": "stdout",
     "output_type": "stream",
     "text": [
      "At J band 1200.0 nm, Saturn = 63.9 pixels.\n"
     ]
    }
   ],
   "source": [
    "print(\"At {} band {}, Saturn = {:.1f} pixels.\".format(band, alam, d_Saturn_pix.to('1')))"
   ]
  },
  {
   "cell_type": "markdown",
   "metadata": {},
   "source": [
    "# Calculate total solar flux per pixel from Saturn, across all wavelengths"
   ]
  },
  {
   "cell_type": "code",
   "execution_count": 68,
   "metadata": {
    "collapsed": false
   },
   "outputs": [],
   "source": [
    "P_Saturn = c.L_sun / (4*math.pi * dist_Saturn**2) * albedo_Saturn * (math.pi * diam_Saturn**2)"
   ]
  },
  {
   "cell_type": "markdown",
   "metadata": {},
   "source": [
    "# Ratio of energy, for entire disk"
   ]
  },
  {
   "cell_type": "code",
   "execution_count": 69,
   "metadata": {
    "collapsed": false
   },
   "outputs": [],
   "source": [
    "ratio_disk = P_Cassini_max / P_Saturn\n",
    "ratio_pixel = P_Cassini_max / (P_Saturn / (d_Saturn_pix**2))"
   ]
  },
  {
   "cell_type": "code",
   "execution_count": 71,
   "metadata": {
    "collapsed": false
   },
   "outputs": [
    {
     "name": "stdout",
     "output_type": "stream",
     "text": [
      "Cassini flux total : Saturn flux, disk-integrated, all wavelengths: 9.54e-07\n",
      "Cassini flux total : Saturn flux, single pixel, all wavelengths: 3.90e-03\n",
      "Cassini flux total : Saturn flux, single pixel, in K band only: 3.90e-01\n"
     ]
    }
   ],
   "source": [
    "print(\"Cassini flux total : Saturn flux, disk-integrated, all wavelengths: {:.2e}\".format(ratio_disk.to('1')))\n",
    "print(\"Cassini flux total : Saturn flux, single pixel, all wavelengths: {:.2e}\".format(ratio_pixel.to('1')))\n",
    "print(\"Cassini flux total : Saturn flux, single pixel, in K band only: {:.2e}\".format(ratio_pixel.to('1')/frac_in_band))"
   ]
  },
  {
   "cell_type": "markdown",
   "metadata": {},
   "source": [
    "This estimate above suggests that K band might nearly double, in one pixel. This is probably a vast overestimate, since it assumes that all of the Cassini flux comes out in K band. I don't know what Saturn's K band flux is, and what SNR is. But if we can get SNR = 100 for K band in 1 second, then perhaps this effect might be very slightly observable."
   ]
  },
  {
   "cell_type": "code",
   "execution_count": null,
   "metadata": {
    "collapsed": true
   },
   "outputs": [],
   "source": []
  }
 ],
 "metadata": {
  "anaconda-cloud": {},
  "kernelspec": {
   "display_name": "Python [conda env:py3]",
   "language": "python",
   "name": "conda-env-py3-py"
  },
  "language_info": {
   "codemirror_mode": {
    "name": "ipython",
    "version": 3
   },
   "file_extension": ".py",
   "mimetype": "text/x-python",
   "name": "python",
   "nbconvert_exporter": "python",
   "pygments_lexer": "ipython3",
   "version": "3.5.2"
  }
 },
 "nbformat": 4,
 "nbformat_minor": 1
}
