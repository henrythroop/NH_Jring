{
 "cells": [
  {
   "cell_type": "code",
   "execution_count": 22,
   "metadata": {
    "collapsed": false
   },
   "outputs": [
    {
     "ename": "ImportError",
     "evalue": "No module named 'get_fits_info_from_files_lorri'",
     "output_type": "error",
     "traceback": [
      "\u001b[0;31m---------------------------------------------------------------------------\u001b[0m",
      "\u001b[0;31mImportError\u001b[0m                               Traceback (most recent call last)",
      "\u001b[0;32m<ipython-input-22-c6b5bdb6f206>\u001b[0m in \u001b[0;36m<module>\u001b[0;34m()\u001b[0m\n\u001b[1;32m      4\u001b[0m \u001b[0;32mimport\u001b[0m \u001b[0mmatplotlib\u001b[0m\u001b[0;34m.\u001b[0m\u001b[0mpyplot\u001b[0m \u001b[0;32mas\u001b[0m \u001b[0mplt\u001b[0m\u001b[0;34m\u001b[0m\u001b[0m\n\u001b[1;32m      5\u001b[0m \u001b[0;32mimport\u001b[0m \u001b[0mmath\u001b[0m\u001b[0;34m\u001b[0m\u001b[0m\n\u001b[0;32m----> 6\u001b[0;31m \u001b[0;32mimport\u001b[0m \u001b[0mhbt\u001b[0m\u001b[0;34m\u001b[0m\u001b[0m\n\u001b[0m",
      "\u001b[0;32m/Users/throop/git/python_hbt/hbt/__init__.py\u001b[0m in \u001b[0;36m<module>\u001b[0;34m()\u001b[0m\n\u001b[1;32m     43\u001b[0m \u001b[0;31m# It is necessary for both py2 and py3.\u001b[0m\u001b[0;34m\u001b[0m\u001b[0;34m\u001b[0m\u001b[0m\n\u001b[1;32m     44\u001b[0m \u001b[0;34m\u001b[0m\u001b[0m\n\u001b[0;32m---> 45\u001b[0;31m \u001b[0;32mfrom\u001b[0m \u001b[0mget_fits_info_from_files_lorri\u001b[0m \u001b[0;32mimport\u001b[0m \u001b[0mget_fits_info_from_files_lorri\u001b[0m\u001b[0;34m\u001b[0m\u001b[0m\n\u001b[0m\u001b[1;32m     46\u001b[0m \u001b[0;32mfrom\u001b[0m \u001b[0mread_lorri\u001b[0m                     \u001b[0;32mimport\u001b[0m \u001b[0mread_lorri\u001b[0m\u001b[0;34m\u001b[0m\u001b[0m\n\u001b[1;32m     47\u001b[0m \u001b[0;32mfrom\u001b[0m \u001b[0mread_alice\u001b[0m                     \u001b[0;32mimport\u001b[0m \u001b[0mread_alice\u001b[0m\u001b[0;34m\u001b[0m\u001b[0m\n",
      "\u001b[0;31mImportError\u001b[0m: No module named 'get_fits_info_from_files_lorri'"
     ]
    }
   ],
   "source": [
    "import astropy.constants as c\n",
    "import astropy.units as u\n",
    "import numpy as np\n",
    "import matplotlib.pyplot as plt\n",
    "import math\n",
    "import hbt"
   ]
  },
  {
   "cell_type": "markdown",
   "metadata": {},
   "source": [
    "## Cassini entry into Saturn atmosphere.\n",
    "\n",
    "- How big is Saturn (in pixels)\n",
    "- How many photon/sec is Saturn\n",
    "- How many photon/sec is the impact"
   ]
  },
  {
   "cell_type": "code",
   "execution_count": 23,
   "metadata": {
    "collapsed": false
   },
   "outputs": [],
   "source": [
    "d_hct = 2*u.m                # HCT telescope diameter\n",
    "d_aries = 3.6*u.m            # ARIES telescope diameter\n",
    "P_Cassini_max = 1e11*u.Watt  # Peak dissipation of Cassini = 1e10 W .. 1e11 W. \n",
    "                            # Duration = few seconds. This is from RL's PDF.\n",
    "    \n",
    "\n",
    "alam_arr = {}\n",
    "dlam_arr = {}\n",
    "alam_arr['J'] = 1200*u.nm\n",
    "alam_arr['H'] = 1600*u.nm\n",
    "alam_arr['K'] = 2200*u.nm\n",
    "dlam_arr['J'] = 200*u.nm\n",
    "dlam_arr['H'] = 300*u.nm\n",
    "dlam_arr['K'] = 300*u.nm\n",
    "\n",
    "band = 'J'\n",
    "d = d_hct\n",
    "\n",
    "alam = alam_arr[band]\n",
    "dlam = dlam_arr[band]\n",
    "albedo_Saturn = 0.5\n",
    "\n",
    "dist_Saturn = 10*u.AU\n",
    "diam_Saturn = 70000*u.km"
   ]
  },
  {
   "cell_type": "markdown",
   "metadata": {},
   "source": [
    "# Calculate # of pixels of Saturn"
   ]
  },
  {
   "cell_type": "code",
   "execution_count": 24,
   "metadata": {
    "collapsed": false
   },
   "outputs": [],
   "source": [
    "d_Saturn_pix = (diam_Saturn / dist_Saturn) / (1.22*alam/d) "
   ]
  },
  {
   "cell_type": "code",
   "execution_count": 25,
   "metadata": {
    "collapsed": false
   },
   "outputs": [
    {
     "name": "stdout",
     "output_type": "stream",
     "text": [
      "At J band 1200.0 nm, Saturn = 63.9 pixels.\n"
     ]
    }
   ],
   "source": [
    "print(\"At {} band {}, Saturn = {:.1f} pixels.\".format(band, alam, d_Saturn_pix.to('1')))"
   ]
  },
  {
   "cell_type": "markdown",
   "metadata": {},
   "source": [
    "# Calculate total solar flux per pixel from Saturn, across all wavelengths"
   ]
  },
  {
   "cell_type": "code",
   "execution_count": 31,
   "metadata": {
    "collapsed": false
   },
   "outputs": [],
   "source": [
    "P_Saturn = c.L_sun / (4*math.pi * dist_Saturn**2) * albedo_Saturn * (math.pi * diam_Saturn**2)"
   ]
  },
  {
   "cell_type": "markdown",
   "metadata": {},
   "source": [
    "# Ratio of energy, for entire disk"
   ]
  },
  {
   "cell_type": "code",
   "execution_count": 32,
   "metadata": {
    "collapsed": false
   },
   "outputs": [],
   "source": [
    "ratio_disk = P_Cassini_max / P_Saturn\n",
    "ratio_pixel = P_Cassini_max / (P_Saturn / (d_Saturn_pix**2))"
   ]
  },
  {
   "cell_type": "code",
   "execution_count": 35,
   "metadata": {
    "collapsed": false
   },
   "outputs": [
    {
     "data": {
      "text/latex": [
       "$0.003900281 \\; \\mathrm{}$"
      ],
      "text/plain": [
       "<Quantity 0.003900280985602876>"
      ]
     },
     "execution_count": 35,
     "metadata": {},
     "output_type": "execute_result"
    }
   ],
   "source": [
    "ratio_disk.to('1')\n",
    "ratio_pixel.to('1')"
   ]
  },
  {
   "cell_type": "code",
   "execution_count": null,
   "metadata": {
    "collapsed": true
   },
   "outputs": [],
   "source": []
  }
 ],
 "metadata": {
  "anaconda-cloud": {},
  "kernelspec": {
   "display_name": "Python [conda env:py3]",
   "language": "python",
   "name": "conda-env-py3-py"
  },
  "language_info": {
   "codemirror_mode": {
    "name": "ipython",
    "version": 3
   },
   "file_extension": ".py",
   "mimetype": "text/x-python",
   "name": "python",
   "nbconvert_exporter": "python",
   "pygments_lexer": "ipython3",
   "version": "3.5.2"
  }
 },
 "nbformat": 4,
 "nbformat_minor": 1
}
