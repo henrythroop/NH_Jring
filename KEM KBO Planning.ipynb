{
 "cells": [
  {
   "cell_type": "markdown",
   "metadata": {},
   "source": [
    "# Misc KBO planning calculations"
   ]
  },
  {
   "cell_type": "markdown",
   "metadata": {},
   "source": [
    "This notebook contains calculations relevant to estimating the brightness distant KBO observations, specifically at high phase for rings detections via the phase curve. These are nominally planned with LORRI, but the question is whether "
   ]
  },
  {
   "cell_type": "markdown",
   "metadata": {},
   "source": [
    "### Initialize Python"
   ]
  },
  {
   "cell_type": "code",
   "execution_count": 1,
   "metadata": {
    "collapsed": false
   },
   "outputs": [],
   "source": [
    "import astropy.units as u\n",
    "import astropy.constants as c\n",
    "import math\n",
    "import numpy as np\n",
    "import matplotlib.pyplot as plt\n",
    "import pymiecoated\n",
    "\n",
    "import warnings\n",
    "warnings.filterwarnings(\"ignore\", category=np.VisibleDeprecationWarning) # Caused by pymiecoated \n",
    "\n",
    "import matplotlib                                    # Set latex to use *not* CMR.\n",
    "matplotlib.rcParams['mathtext.fontset'] = 'stixsans'\n",
    "\n",
    "r2d = 360 / (2*math.pi)\n",
    "d2r = 1/r2d"
   ]
  },
  {
   "cell_type": "markdown",
   "metadata": {},
   "source": [
    "### Look at brightness of Chariklo vs. its ring\n",
    "We do a simple calculation: just look at the total cross-section of Chariklo, vs. the cross-section of its rings, at zero phase.\n",
    "\n",
    "For comparison, we also do the same with MU69: take its cross-section, compared with the rings of Chariklo. (MU69 is much smaller than Chariklo, but here for an extreme case we assume it has Chariklo's ring system.)"
   ]
  },
  {
   "cell_type": "code",
   "execution_count": 2,
   "metadata": {
    "collapsed": true
   },
   "outputs": [],
   "source": [
    "r_chariklo = 315*u.km\n",
    "\n",
    "r_ring = np.array([396, 405])*u.km\n",
    "dr_ring = np.array([7, 3.5])*u.km\n",
    "tau_ring = np.array([0.4, 0.06])\n",
    "\n",
    "r_mu69 = 20*u.km"
   ]
  },
  {
   "cell_type": "code",
   "execution_count": 3,
   "metadata": {
    "collapsed": false
   },
   "outputs": [],
   "source": [
    "area_chariklo = math.pi * (r_chariklo**2)\n",
    "area_mu69 = math.pi * (r_mu69**2)\n",
    "area_ring = np.sum( 2 *math.pi * (r_ring * dr_ring) * tau_ring )"
   ]
  },
  {
   "cell_type": "code",
   "execution_count": 4,
   "metadata": {
    "collapsed": false
   },
   "outputs": [
    {
     "data": {
      "text/latex": [
       "$0.024063492 \\; \\mathrm{}$"
      ],
      "text/plain": [
       "<Quantity 0.024063492063492065>"
      ]
     },
     "execution_count": 4,
     "metadata": {},
     "output_type": "execute_result"
    }
   ],
   "source": [
    "area_ring / area_chariklo"
   ]
  },
  {
   "cell_type": "code",
   "execution_count": 5,
   "metadata": {
    "collapsed": false
   },
   "outputs": [
    {
     "data": {
      "text/latex": [
       "$5.96925 \\; \\mathrm{}$"
      ],
      "text/plain": [
       "<Quantity 5.96925>"
      ]
     },
     "execution_count": 5,
     "metadata": {},
     "output_type": "execute_result"
    }
   ],
   "source": [
    "area_ring / area_mu69"
   ]
  },
  {
   "cell_type": "code",
   "execution_count": 6,
   "metadata": {
    "collapsed": false
   },
   "outputs": [
    {
     "data": {
      "text/latex": [
       "$7501.1808 \\; \\mathrm{km^{2}}$"
      ],
      "text/plain": [
       "<Quantity 7501.180778976349 km2>"
      ]
     },
     "execution_count": 6,
     "metadata": {},
     "output_type": "execute_result"
    }
   ],
   "source": [
    "area_ring.to('km^2')"
   ]
  },
  {
   "cell_type": "markdown",
   "metadata": {},
   "source": [
    "Conclusion: For Chariklo, the total surface area of the ring is only a few percent. For MU69, ring area > KBO area (for the assumptions made here.)\n",
    "\n",
    "But this is at backscatter. As we move to forward-scatter, the KBO will get fainter, and the ring will likely get brighter. This would not be a subtle effect. It could totally dominate the phase curve. \n",
    "\n",
    "Below I calculate this in more detail."
   ]
  },
  {
   "cell_type": "markdown",
   "metadata": {},
   "source": [
    "### Calculate DN of KBO observation"
   ]
  },
  {
   "cell_type": "markdown",
   "metadata": {},
   "source": [
    "What we want here:\n",
    "* Assume a v=20 KBO, at 140 deg phase. This is the worst case. Calculate DN/pixel/sec for this.\n",
    "* Calculate the stray light in LORRI. Hal's table gives this in I/F, and we can convert this to DN/sec/pixel.\n",
    "* One of these conversions uses unresolved. One uses resolved. So, we use RSOLAR and PSOLAR."
   ]
  },
  {
   "cell_type": "markdown",
   "metadata": {},
   "source": [
    "To convert to DN, we use standard LORRI RT equations:<br>\n",
    "`V = -2.5 log`$_{10}$` S + PHOTZPT + CC + BC`<br>\n",
    "     i.e.,<br>\n",
    "`S = 10^((BC + CC + PHOTZPT - V) / 2.5)`<br>\n",
    "* `V` = mag\n",
    "* `PHOTZPT` = zero pount for LORRI = 18.94 (from Hal's paper)\n",
    "* `CC` = Color Correction. Assume zero since reflected solar.\n",
    "* `S` = Integrated net signal rate from target, in DN/sec\n",
    "* `BC` = Aperture Correction. Assume zero.\n",
    "\n",
    "For MVIC, there has not been a recommended value derived for `PHOTZPT`. However, Cathy & Carly suggested using the ETC to derive one. Assume:\n",
    "\n",
    "* `V = 5`\n",
    "* `SNR = 300`\n",
    "\n",
    "Then ETC gives results\n",
    "\n",
    "* `Fraction Saturated = 0.91` → 91,000 electrons. (Verified full-well assumption by looking in code on ixion.)\n",
    "* `Exptime = 0.26 sec`\n",
    "\n",
    "And we know\n",
    "\n",
    "* `E_PER_DN_MVIC = 58.6`\n",
    "\n",
    "So we can easily calculate `S = 5972 DN/sec`. \n",
    "\n",
    "This is the signal *in the brightest pixel*. But the total stellar signal (which is what I want) is spread over several pixels. For LORRI, about 1/3 of the light is in the central pixel [need to verify this -- it might be different for MVIC]. With this assumption, we have\n",
    "\n",
    "`S = 5972 * 3 = 17916 DN/sec`.\n",
    "\n",
    "We apply\n",
    "\n",
    "`PHOTZPT = V + 2.5 log`$_{10}$`S`\n",
    "\n",
    "and get\n",
    "\n",
    "* `PHOTZPT_MVIC = 15.63`\n",
    "\n",
    "I checked this with several different values of `SNR` and `V` and got similar results. "
   ]
  },
  {
   "cell_type": "markdown",
   "metadata": {},
   "source": [
    "### Define Photometric Constants for MVIC and LORRI"
   ]
  },
  {
   "cell_type": "code",
   "execution_count": 71,
   "metadata": {
    "collapsed": false
   },
   "outputs": [],
   "source": [
    "# Following are from Hal's e-mail to HBT, 7-Dec-2016\n",
    "\n",
    "PHOTZPT_LORRI_1X1    = 18.76 # LORRI 1x1 Photometric z-point, as per Hal's email 7-Dec-2016\n",
    "PHOTZPT_LORRI_4X4    = 18.91 # V = -2.5 log10(S/text) + PHOTZPT + CC - AC\n",
    "\n",
    "RSOLAR_LORRI_1X1     = 221999.98 # Diffuse sensitivity. (DN/s/pixel) / (erg/cm2/s/A/sr)\n",
    "RSOLAR_LORRI_4X4     = 3800640.0\n",
    "\n",
    "# Following is calculated by HBT, from MVIC Exposure Time Calculator\n",
    "# 'MVIC' is assumed to be Pan Frame always.\n",
    "# NB: ETC returns the \n",
    "\n",
    "PHOTZPT_MVIC     = 15.63 # My rough estimate from MVIC ETC (v=5, SNR=300 → 91000 e- → 91000/58.6 DN, in t=0.26 sec)\n",
    "\n",
    "# Following is from MVIC pan frame FITS header. Hal says it should be revised downward by ~20%, but I am ingoring.\n",
    "\n",
    "RSOLAR_MVIC  = 100190.64 # (DN/s)/(erg/cm^2/s/Ang/sr), Solar spectrum \n",
    "\n",
    "# Following is from Cathy\n",
    "\n",
    "E_PER_DN_MVIC = 58.6\n",
    "\n",
    "# Following is from LORRI 4x4 header\n",
    "\n",
    "E_PER_DN_LORRI_4X4 = 22\n",
    "\n",
    "# Following are from Hal's LORRI writeup on the Wiki\n",
    "\n",
    "F_SOLAR          = 176   # Solar flux at 1 AU, cgs units.\n",
    "\n",
    "# Following are from Hal's email to HBT 14-Dec-2016. \n",
    "# \"[AC]\" is the aperture correction (in case the flux is not integrated over the entire stellar image; \n",
    "# a careful analysis of the flux versus aperture size for a bright star in the field can then be used \n",
    "# to determine the value of BC for the aperture selected for the photometry).\" -- wiki\n",
    "\n",
    "AC_LORRI_1X1 = 0.091 # 5-pixel radius circular aperture \n",
    "AC_LORRI_4X4 = 0.022 # 5-pixel radius circular aperture"
   ]
  },
  {
   "cell_type": "markdown",
   "metadata": {},
   "source": [
    "## Set the LORRI mode"
   ]
  },
  {
   "cell_type": "code",
   "execution_count": 72,
   "metadata": {
    "collapsed": true
   },
   "outputs": [],
   "source": [
    "mode_lorri = '4X4'           # Set this to either 4X4 or 1X1\n",
    "\n",
    "if (mode_lorri == '1X1'):\n",
    "    RSOLAR_LORRI = RSOLAR_LORRI_1X1\n",
    "    PHOTZPT_LORRI = PHOTZPT_LORRI_1X1\n",
    "    \n",
    "if (mode_lorri == '4X4'):\n",
    "    RSOLAR_LORRI = RSOLAR_LORRI_4X4\n",
    "    PHOTZPT_LORRI = PHOTZPT_LORRI_4X4    "
   ]
  },
  {
   "cell_type": "markdown",
   "metadata": {},
   "source": [
    "## Now look at stray light and the signal from KBO and its ring"
   ]
  },
  {
   "cell_type": "markdown",
   "metadata": {},
   "source": [
    "Conventions to adopt here:\n",
    "* All angles are the phase angle $\\phi$. 180 = forward; 0 = backscatter.\n",
    "* Scattering angle is $\\alpha$, but I try not to use it. My papers also use $\\theta$ to be scattering angle.\n",
    "* Hal's plot of stray light is *opposite* to this ('Angle from sun'). I don't use his convention.\n",
    "* Keep all angles internally in radians"
   ]
  },
  {
   "cell_type": "markdown",
   "metadata": {},
   "source": [
    "### Define the LORRI stray light function"
   ]
  },
  {
   "cell_type": "code",
   "execution_count": 73,
   "metadata": {
    "collapsed": true
   },
   "outputs": [],
   "source": [
    "IoF_stray_lorri_arr = np.transpose(np.array([\n",
    "                        [0.1, 100], # Take the raw data from Hal's plot. Angle from sun in Deg, and I/F.\n",
    "                        [1, 10],    # I/F values are indep of distance.\n",
    "                        [2, 1],\n",
    "                        [15, 1.5e-2],\n",
    "                        [20, 2e-3],\n",
    "                        [25, 1e-3],\n",
    "                        [30, 8e-4],\n",
    "                        [50, 1e-4],\n",
    "                        [60, 3e-5],\n",
    "                        [75,1e-5]]))\n",
    "\n",
    "dist_pluto_ca_au   = 33             # NH heliocentric distance at Pluto flyby, in AU"
   ]
  },
  {
   "cell_type": "markdown",
   "metadata": {},
   "source": [
    "### Flip this around so it's a function of phase angle (not scattering angle)."
   ]
  },
  {
   "cell_type": "code",
   "execution_count": 58,
   "metadata": {
    "collapsed": false
   },
   "outputs": [],
   "source": [
    "angle_stray           = IoF_stray_lorri_arr[0,:]\n",
    "phi_stray_lorri       = (180 - angle_stray) * d2r # Phase angle, in radians\n",
    "IoF_stray_lorri       = IoF_stray_lorri_arr[1,:]\n",
    "\n",
    "# Convert Hal's chart values from I/F, to DN, using normalization constant on that chart.\n",
    "\n",
    "S_stray_lorri_pluto   = IoF_stray_lorri * (10 / 8e-4)       # DN/sec/pixel [blue dashed line in Hal's slide]\n",
    "                                                            # DN/sec is for Pluto distance.\n",
    "                                                            # For other distances, multiply by (33/dist_au)**2\n",
    "        \n",
    "# Now do a test conversion: convert this from I/F to DN/sec using RT eq's.\n",
    "\n",
    "S_stray_lorri_pluto_test = RSOLAR_LORRI_1X1 = IoF_stray_lorri * (1/math.pi) * F_SOLAR / dist_pluto_ca_au**2"
   ]
  },
  {
   "cell_type": "code",
   "execution_count": 59,
   "metadata": {
    "collapsed": false
   },
   "outputs": [
    {
     "data": {
      "text/plain": [
       "array([  5.14440220e+00,   5.14440220e-01,   5.14440220e-02,\n",
       "         7.71660330e-04,   1.02888044e-04,   5.14440220e-05,\n",
       "         4.11552176e-05,   5.14440220e-06,   1.54332066e-06,\n",
       "         5.14440220e-07])"
      ]
     },
     "execution_count": 59,
     "metadata": {},
     "output_type": "execute_result"
    }
   ],
   "source": [
    "S_stray_lorri_pluto_test"
   ]
  },
  {
   "cell_type": "markdown",
   "metadata": {},
   "source": [
    "### Define the MVIC stray light function"
   ]
  },
  {
   "cell_type": "code",
   "execution_count": 60,
   "metadata": {
    "collapsed": false
   },
   "outputs": [],
   "source": [
    "IoF_stray_mvic_arr = np.transpose(np.array([\n",
    "                    [13, 5e-3],    # https://www.spaceops.swri.org/nh/wiki/images/1/14/Pan2preview.pdf - ACO2\n",
    "                    [21, 1.3e-3],  # https://www.spaceops.swri.org/nh/wiki/images/2/25/Pan1preview.pdf - ACO1\n",
    "                    [26, 1.1e-3],\n",
    "                    [30, 8e-4],\n",
    "                    [40, 1.2e-4],\n",
    "                    [46, 3e-5],\n",
    "                    [51, 3e-5],\n",
    "                    [56, 3e-5],\n",
    "                    [61, 3e-5],\n",
    "                    [66, 3e-5],\n",
    "                    [71, 3e-5],\n",
    "                    [76, 3e-5],\n",
    "                    [81, 3e-5],\n",
    "                    [86, 3e-5],\n",
    "                    [91, 3e-5]]))\n",
    "\n",
    "angle_stray        = IoF_stray_mvic_arr[0,:]\n",
    "phi_stray_mvic     = (180 - angle_stray) * d2r # Phase angle, in radians\n",
    "IoF_stray_mvic     = IoF_stray_mvic_arr[1,:]\n",
    "\n",
    "# Convert MVIC stray from I/F to DN/sec/pix at Pluto's distance. \n",
    "# Use the MVIC photometric equations (I/F = pi I R^2 / F_SOLAR).\n",
    "\n",
    "S_stray_mvic_pluto = RSOLAR_MVIC * IoF_stray_mvic * (1/math.pi) * F_SOLAR / dist_pluto_ca_au**2"
   ]
  },
  {
   "cell_type": "markdown",
   "metadata": {},
   "source": [
    "### Make a test plot of stray light, to compare to Hal's plot"
   ]
  },
  {
   "cell_type": "code",
   "execution_count": 61,
   "metadata": {
    "collapsed": false
   },
   "outputs": [
    {
     "data": {
      "image/png": "[encoded data removed]",
      "text/plain": [
       "<matplotlib.figure.Figure at 0x1115390f0>"
      ]
     },
     "metadata": {},
     "output_type": "display_data"
    }
   ],
   "source": [
    "plt.plot(phi_stray_lorri*r2d, S_stray_lorri_pluto, marker = 'o', label = 'LORRI')\n",
    "plt.plot(phi_stray_mvic*r2d, S_stray_mvic_pluto, marker = 'o', label = 'MVIC')\n",
    "plt.yscale('log')\n",
    "plt.xlabel('Solar Phase Angle [deg]')\n",
    "plt.ylabel('DN/Sec')\n",
    "plt.title('Stray Light at 33 AU')\n",
    "plt.axhline(1,linestyle='--', alpha=0.2)    # 1 DN/sec\n",
    "plt.axvline(165,linestyle='--', alpha=0.2)  # Outbound asymptote\n",
    "plt.legend()\n",
    "plt.show()"
   ]
  },
  {
   "cell_type": "markdown",
   "metadata": {},
   "source": [
    "### Make a plot of I/F (distance-independent)"
   ]
  },
  {
   "cell_type": "code",
   "execution_count": 62,
   "metadata": {
    "collapsed": false
   },
   "outputs": [
    {
     "data": {
      "image/png": "[encoded data removed]",
      "text/plain": [
       "<matplotlib.figure.Figure at 0x11244bef0>"
      ]
     },
     "metadata": {},
     "output_type": "display_data"
    }
   ],
   "source": [
    "plt.plot(phi_stray_lorri*r2d, IoF_stray_lorri, marker = 'o', label = 'LORRI')\n",
    "plt.plot(phi_stray_mvic*r2d, IoF_stray_mvic,   marker = 'o', label = 'MVIC')\n",
    "plt.yscale('log')\n",
    "plt.xlabel('Solar Phase Angle [deg]')\n",
    "plt.ylabel('I/F, distance-independent')\n",
    "plt.title('Solar Stray Light')\n",
    "plt.legend(loc = 'upper left')\n",
    "# plt.axhline(1,linestyle='--', alpha=0.2)    # 1 DN/sec\n",
    "plt.axvline(165,linestyle='--', alpha=0.2)  # Outbound asymptote\n",
    "plt.show()"
   ]
  },
  {
   "cell_type": "markdown",
   "metadata": {},
   "source": [
    "Surprisingly, I/F for LORRI and MVIC are quite similar. I've overlain the raw plots (that these data are from) and that confirms this.\n",
    "\n",
    "This is at odds with our general understanding, that MVIC has better stray light rejection. Two possibililties:\n",
    "\n",
    "1. These data (MVIC is from ACO-1) were taken at a rotation angle at which MVIC has poor rejection. There is a broad range of angles like this. I can confirm this by looking at the actual observations, but that will just take some time.\n",
    "\n",
    "2. Perhaps Tod's stray light algorithms just work better on MVIC than LORRI. I have been comparing the post-processed MVIC and LORRI images, where is where I come to the conclusion that MVIC is 10-30x better than LORRI. (The difference between 10 and 30 is probably that 10 is Tod's old algorithm, and 30 is his new one, which he didn't apply to all of the mosaics yet.)"
   ]
  },
  {
   "cell_type": "code",
   "execution_count": null,
   "metadata": {
    "collapsed": true
   },
   "outputs": [],
   "source": []
  },
  {
   "cell_type": "code",
   "execution_count": null,
   "metadata": {
    "collapsed": true
   },
   "outputs": [],
   "source": []
  },
  {
   "cell_type": "code",
   "execution_count": null,
   "metadata": {
    "collapsed": true
   },
   "outputs": [],
   "source": []
  },
  {
   "cell_type": "code",
   "execution_count": null,
   "metadata": {
    "collapsed": true
   },
   "outputs": [],
   "source": []
  },
  {
   "cell_type": "code",
   "execution_count": null,
   "metadata": {
    "collapsed": true
   },
   "outputs": [],
   "source": []
  },
  {
   "cell_type": "code",
   "execution_count": null,
   "metadata": {
    "collapsed": true
   },
   "outputs": [],
   "source": []
  },
  {
   "cell_type": "markdown",
   "metadata": {},
   "source": [
    "### Define a Lambertian phase function"
   ]
  },
  {
   "cell_type": "code",
   "execution_count": 63,
   "metadata": {
    "collapsed": false
   },
   "outputs": [],
   "source": [
    "def phase_function_lambert(phi):\n",
    "    '''Returns phase function, given phase angle phi in radians. '''\n",
    "    return (8/(3*math.pi) * (np.sin(phi) + (math.pi - phi)*np.cos(phi) ))"
   ]
  },
  {
   "cell_type": "markdown",
   "metadata": {},
   "source": [
    "### Define a Mie phase function"
   ]
  },
  {
   "cell_type": "code",
   "execution_count": 64,
   "metadata": {
    "collapsed": false
   },
   "outputs": [],
   "source": [
    "def phase_function_mie(x, n_refract, phi):\n",
    "    '''Returns phase function, given phase angle phi in radians.'''\n",
    "    p11 = [] # List for the output array (n_x  X  n_angles)\n",
    "\n",
    "    alpha = math.pi - phi                               # alpha is scattering angle. Phi is phase angle.\n",
    "    \n",
    "    for x_i in x:\n",
    "        mie    = pymiecoated.Mie(x=x_i,m=n_refract)\n",
    "        p11_i  = []     # Create the output arrays for each individual angular phase function\n",
    "\n",
    "        for a in alpha: # Loop over angle\n",
    "            S12 = mie.S12(np.cos(a))                    # Get the Mie coefficient using pymiecoated library\n",
    "            p11_i.append(np.abs(S12[0]**2 + S12[1]**2)) # Compute the amplitude at each angle\n",
    "\n",
    "        p11_i = np.array(p11_i)                         # Save the result\n",
    "        p11.append(p11_i)\n",
    "\n",
    "    p11_arr = np.array(p11)\n",
    "    p11_out = np.sum(p11_arr,0)                         # Average all the phase functions together into one\n",
    "\n",
    "    dalpha = abs(alpha[1] - alpha[0]) \n",
    "    p11 = p11_out\n",
    "    p11 = p11 * 2 / (np.sum(p11 * np.sin(alpha) * dalpha)) # Normalize the phase function integral to 2\n",
    "\n",
    "    return p11"
   ]
  },
  {
   "cell_type": "markdown",
   "metadata": {},
   "source": [
    "### Set  up parameters, and do some calculations to generate a phase curve for a solid body and a ring"
   ]
  },
  {
   "cell_type": "code",
   "execution_count": 65,
   "metadata": {
    "collapsed": false
   },
   "outputs": [],
   "source": [
    "num_phi   = 100\n",
    "phi       = np.array(range(num_phi))*math.pi/num_phi # Phase angles\n",
    "n_refract = complex(1.5, 1e-2)                       # Refractive index. Not really critical what we choose.\n",
    "x         = np.array([40, 50, 52, 55, 60])           # Make a phase function that is a mean of all of these X values\n",
    "\n",
    "\n",
    "p11_lambert    = phase_function_lambert(phi)                         # Solid body, lambertian curve \n",
    "p11_mie        = phase_function_mie(x, n_refract, phi)               # 'Normal' dusty rings"
   ]
  },
  {
   "cell_type": "markdown",
   "metadata": {},
   "source": [
    "## Enter assumptions about KBO size, distance, and ring area"
   ]
  },
  {
   "cell_type": "code",
   "execution_count": 66,
   "metadata": {
    "collapsed": true
   },
   "outputs": [],
   "source": [
    "V               = 20  # Magnitude of KBO. Typical magnitudes, as seen from NH, are 15-20.\n",
    "dist_kbo_au         = 35  # Orbital distance, in AU. KBO flybys are mostly 2017 - 2018, at distances 37 .. 42 AU.\n",
    "ratio_ring_body = 0.1 # Brightness ratio, at backscatter. (ie, area ratio of rings : central_body)"
   ]
  },
  {
   "cell_type": "markdown",
   "metadata": {},
   "source": [
    "### Do a quick validation of the LORRI brightness vs. the ETC. ETC calculates 0.12 DN/sec for V=20 target with solar spectrum.\n",
    "\n",
    "Also, Hal: \"As a check, when you express the signal in e/s, the ratio of LORRI 4x4 to MVIC should be ~16 because that’s the throughput (A*Omega) difference between the two instruments.\"\n",
    "\n"
   ]
  },
  {
   "cell_type": "code",
   "execution_count": 70,
   "metadata": {
    "collapsed": false
   },
   "outputs": [
    {
     "name": "stdout",
     "output_type": "stream",
     "text": [
      "LORRI, 1X1, V=20 → S = 0.3192 DN/sec\n",
      "LORRI, 4X4, V=20 → S = 0.3664 DN/sec\n",
      "MVIC,  V=20 → S = 0.0179 DN/sec\n"
     ]
    }
   ],
   "source": [
    "print(\"LORRI, {}, V={} → S = {:.4f} DN/sec\".format('1X1', V, 10**((PHOTZPT_LORRI_1X1 - V)/2.5))) \n",
    "print(\"LORRI, {}, V={} → S = {:.4f} DN/sec\".format('4X4', V, 10**((PHOTZPT_LORRI_4X4 - V)/2.5))) \n",
    "print(\"MVIC,  V={} → S = {:.4f} DN/sec\".format(V, 10**((PHOTZPT_MVIC  - V)/2.5)))\n",
    "print(\"Fluxes are integrated across the PSF. Fluxes in ETC are of the max pixel only.\")"
   ]
  },
  {
   "cell_type": "markdown",
   "metadata": {},
   "source": [
    "NB: ETC calculates a signal 3x fainter for LORRI than I calculate here. This is because ETC calculates flux only in the central (brightest) pixel, while the eq above gives total DN, integrated over the PSF. ETC is useful for avoiding saturation, but for photometry, we will sum flux across the FOV."
   ]
  },
  {
   "cell_type": "markdown",
   "metadata": {},
   "source": [
    "### Do photometric calculations"
   ]
  },
  {
   "cell_type": "code",
   "execution_count": 54,
   "metadata": {
    "collapsed": false
   },
   "outputs": [],
   "source": [
    "# Create the phase function for the KBO body.\n",
    "# S = count rate, in DN/sec\n",
    "\n",
    "# First calculate maximum count rate, at backscatter\n",
    "\n",
    "S_kbo_lorri   = 10**((PHOTZPT_LORRI - V)/2.5)           # Calculate LORRI DN/sec for unresolved source of a given mag\n",
    "S_kbo_mvic    = 10**((PHOTZPT_MVIC - V)/2.5)            # MVIC pan frame DN/sec\n",
    "\n",
    "# Convolve this with the lambertian phase fuction. Normalize the latter to be 1 at backscatter.\n",
    "\n",
    "S_kbo_lambert_mvic  = p11_lambert * (S_kbo_mvic  / p11_lambert[0])\n",
    "S_kbo_lambert_lorri = p11_lambert * (S_kbo_lorri / p11_lambert[0])\n",
    "\n",
    "# Create the phase function for the KBO rings, and normalize similarly.\n",
    "\n",
    "S_kbo_mie_lorri     = p11_mie * (S_kbo_lorri / p11_mie[0]) * ratio_ring_body\n",
    "S_kbo_mie_mvic      = p11_mie * (S_kbo_mvic  / p11_mie[0]) * ratio_ring_body\n",
    "\n",
    "# Sum the KBO and Rings phase functions, to get the Ringed phase function\n",
    "\n",
    "S_kbo_ringed_lorri = S_kbo_lambert_lorri + S_kbo_mie_lorri\n",
    "S_kbo_ringed_mvic  = S_kbo_lambert_mvic  + S_kbo_mie_mvic"
   ]
  },
  {
   "cell_type": "markdown",
   "metadata": {},
   "source": [
    "### And make a plot of the two phase curves, plus the stray light curve"
   ]
  },
  {
   "cell_type": "code",
   "execution_count": 55,
   "metadata": {
    "collapsed": false
   },
   "outputs": [
    {
     "data": {
      "text/plain": [
       "<matplotlib.text.Text at 0x111c428d0>"
      ]
     },
     "execution_count": 55,
     "metadata": {},
     "output_type": "execute_result"
    },
    {
     "data": {
      "image/png": "[encoded data removed]",
      "text/plain": [
       "<matplotlib.figure.Figure at 0x11244b518>"
      ]
     },
     "metadata": {},
     "output_type": "display_data"
    }
   ],
   "source": [
    "# plt.plot(phi*r2d,       S_kbo_lambert,       label = 'KBO Body [DN/sec]')\n",
    "# plt.plot(phi*r2d,       S_kbo_mie,           label = 'KBO Rings [DN/sec]')\n",
    "\n",
    "plt.plot(phi*r2d,       S_kbo_ringed_lorri, \n",
    "         color = 'red', label = 'KBO + ring, LORRI' )\n",
    "\n",
    "plt.plot(phi_stray_lorri*r2d, S_stray_lorri_pluto * (dist_pluto_ca_au/dist_kbo_au)**2, \n",
    "         color = 'pink',\n",
    "         label = 'LORRI Stray [DN/sec/pix]')\n",
    "\n",
    "plt.plot(phi*r2d,       S_kbo_ringed_mvic, \n",
    "         color = 'blue', label = 'KBO + ring, MVIC' )\n",
    "\n",
    "plt.plot(phi_stray_mvic*r2d, S_stray_mvic_pluto  * (dist_pluto_ca_au/dist_kbo_au)**2, \n",
    "         color = 'lightblue',\n",
    "         label = 'MVIC  Stray [DN/sec/pix]')\n",
    "\n",
    "plt.axhline(y=1,linestyle='--', alpha=0.2)                  # Horizontal dashed line at 1 DN/sec\n",
    "plt.axvline(x=165, linestyle='--', color='red', alpha=0.2)   # Vertical dashed line at departure asymptote\n",
    "plt.axvline(x=140, linestyle='--', color='red', alpha=0.2)   # Vertical dashed line at 140 deg (end of KBO 2016 obs)\n",
    "\n",
    "plt.ylabel('DN/Sec, LORRI 1x1')\n",
    "plt.xlabel('Phase Angle [deg]')\n",
    "plt.yscale('log')\n",
    "plt.legend(framealpha=0.5, loc = 'upper left')\n",
    "plt.ylim((1e-3, 1000))\n",
    "plt.title('V$_{{KBO}}$ = {}, d={} AU, $A_{{ring}}$/$A_{{KBO}}$={}'.format(V, dist_kbo_au, ratio_ring_body))"
   ]
  },
  {
   "cell_type": "markdown",
   "metadata": {},
   "source": [
    "### Concl: \n",
    "I've done a bunch of cases. In all of them, LORRI stray light really dominates past 140 deg.\n",
    "\n",
    "I don't have a quantitative measurement here for MVIC stray light. But on rings obs on DOY 2015-202 and 2015-305, the post-reduction stray light in LORRI was 10-100x worse (in units of I/F) than MVIC (that is, after Tod removed stray light from both). Tod's algorithm probably reduced stray light by 10x, at 165 deg."
   ]
  },
  {
   "cell_type": "markdown",
   "metadata": {
    "collapsed": false
   },
   "source": [
    "## Look at size of KBO vs. MVIC and LORRI pixel sizes?. Are they resolved?"
   ]
  },
  {
   "cell_type": "code",
   "execution_count": 21,
   "metadata": {
    "collapsed": false
   },
   "outputs": [],
   "source": [
    "scale_lorri_1x1 = 0.3*d2r / 1024\n",
    "scale_lorri_4x4 = scale_lorri_1x1 * 4\n",
    "scale_mvic      = 5.7*d2r / 5024\n",
    "\n",
    "scale_kbo_rings = 2 * 400*u.km / (0.5*u.AU) # Use diameter, not radius\n",
    "scale_kbo_small = 2 * 16*u.km  / (1*u.AU)"
   ]
  },
  {
   "cell_type": "markdown",
   "metadata": {},
   "source": [
    "### Compute size of a ringed KBO, in LORRI 1x1 pixels (ie, best case)"
   ]
  },
  {
   "cell_type": "code",
   "execution_count": 22,
   "metadata": {
    "collapsed": false
   },
   "outputs": [
    {
     "data": {
      "text/latex": [
       "$2.0916832 \\; \\mathrm{}$"
      ],
      "text/plain": [
       "<Quantity 2.0916831840582715>"
      ]
     },
     "execution_count": 22,
     "metadata": {},
     "output_type": "execute_result"
    }
   ],
   "source": [
    "(scale_kbo_rings / scale_lorri_1x1).to('1')"
   ]
  },
  {
   "cell_type": "markdown",
   "metadata": {},
   "source": [
    "### Compute size of a small, distant KBO, in MVIC pixels (ie, worst case)"
   ]
  },
  {
   "cell_type": "code",
   "execution_count": 23,
   "metadata": {
    "collapsed": false
   },
   "outputs": [
    {
     "data": {
      "text/latex": [
       "$0.54012214 \\; \\mathrm{}$"
      ],
      "text/plain": [
       "<Quantity 0.5401221379887312>"
      ]
     },
     "execution_count": 23,
     "metadata": {},
     "output_type": "execute_result"
    }
   ],
   "source": [
    "(scale_kbo_rings / scale_mvic).to('1')"
   ]
  },
  {
   "cell_type": "code",
   "execution_count": 24,
   "metadata": {
    "collapsed": false
   },
   "outputs": [
    {
     "data": {
      "text/plain": [
       "array([  2.66666667e+00,   2.66535960e+00,   2.66147477e+00,\n",
       "         2.65506857e+00,   2.64619979e+00,   2.63492949e+00,\n",
       "         2.62132091e+00,   2.60543930e+00,   2.58735189e+00,\n",
       "         2.56712768e+00,   2.54483741e+00,   2.52055337e+00,\n",
       "         2.49434931e+00,   2.46630033e+00,   2.43648273e+00,\n",
       "         2.40497389e+00,   2.37185218e+00,   2.33719679e+00,\n",
       "         2.30108764e+00,   2.26360523e+00,   2.22483054e+00,\n",
       "         2.18484489e+00,   2.14372983e+00,   2.10156701e+00,\n",
       "         2.05843805e+00,   2.01442444e+00,   1.96960741e+00,\n",
       "         1.92406782e+00,   1.87788601e+00,   1.83114176e+00,\n",
       "         1.78391409e+00,   1.73628121e+00,   1.68832039e+00,\n",
       "         1.64010785e+00,   1.59171868e+00,   1.54322669e+00,\n",
       "         1.49470438e+00,   1.44622278e+00,   1.39785139e+00,\n",
       "         1.34965808e+00,   1.30170903e+00,   1.25406860e+00,\n",
       "         1.20679928e+00,   1.15996160e+00,   1.11361408e+00,\n",
       "         1.06781312e+00,   1.02261297e+00,   9.78065658e-01,\n",
       "         9.34220919e-01,   8.91126151e-01,   8.48826363e-01,\n",
       "         8.07364127e-01,   7.66779533e-01,   7.27110156e-01,\n",
       "         6.88391014e-01,   6.50654544e-01,   6.13930572e-01,\n",
       "         5.78246292e-01,   5.43626248e-01,   5.10092321e-01,\n",
       "         4.77663717e-01,   4.46356964e-01,   4.16185913e-01,\n",
       "         3.87161736e-01,   3.59292936e-01,   3.32585361e-01,\n",
       "         3.07042214e-01,   2.82664079e-01,   2.59448937e-01,\n",
       "         2.37392204e-01,   2.16486751e-01,   1.96722951e-01,\n",
       "         1.78088708e-01,   1.60569508e-01,   1.44148462e-01,\n",
       "         1.28806357e-01,   1.14521709e-01,   1.01270823e-01,\n",
       "         8.90278512e-02,   7.77648584e-02,   6.74518877e-02,\n",
       "         5.80570318e-02,   4.95465054e-02,   4.18847214e-02,\n",
       "         3.50343690e-02,   2.89564951e-02,   2.36105880e-02,\n",
       "         1.89546627e-02,   1.49453498e-02,   1.15379847e-02,\n",
       "         8.68670048e-03,   6.34452133e-03,   4.46345810e-03,\n",
       "         2.99460535e-03,   1.88823967e-03,   1.09391929e-03,\n",
       "         5.60584689e-04,   2.36660169e-04,   7.01561500e-05,\n",
       "         8.77211586e-06])"
      ]
     },
     "execution_count": 24,
     "metadata": {},
     "output_type": "execute_result"
    }
   ],
   "source": [
    "p11_lambert"
   ]
  },
  {
   "cell_type": "code",
   "execution_count": null,
   "metadata": {
    "collapsed": true
   },
   "outputs": [],
   "source": []
  }
 ],
 "metadata": {
  "anaconda-cloud": {},
  "kernelspec": {
   "display_name": "Python [conda env:py3]",
   "language": "python",
   "name": "conda-env-py3-py"
  },
  "language_info": {
   "codemirror_mode": {
    "name": "ipython",
    "version": 3
   },
   "file_extension": ".py",
   "mimetype": "text/x-python",
   "name": "python",
   "nbconvert_exporter": "python",
   "pygments_lexer": "ipython3",
   "version": "3.5.2"
  }
 },
 "nbformat": 4,
 "nbformat_minor": 1
}
