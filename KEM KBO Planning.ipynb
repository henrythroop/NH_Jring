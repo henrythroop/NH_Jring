{
 "cells": [
  {
   "cell_type": "markdown",
   "metadata": {},
   "source": [
    "# Misc KBO planning calculations"
   ]
  },
  {
   "cell_type": "markdown",
   "metadata": {},
   "source": [
    "This notebook contains calculations relevant to estimating the brightness distant KBO observations, specifically at high phase for rings detections via the phase curve. These are nominally planned with LORRI, but the question is whether "
   ]
  },
  {
   "cell_type": "markdown",
   "metadata": {},
   "source": [
    "### Initialize Python"
   ]
  },
  {
   "cell_type": "code",
   "execution_count": 76,
   "metadata": {
    "collapsed": false
   },
   "outputs": [],
   "source": [
    "import astropy.units as u\n",
    "import astropy.constants as c\n",
    "import math\n",
    "import numpy as np\n",
    "import matplotlib.pyplot as plt\n",
    "import pymiecoated\n",
    "\n",
    "import warnings\n",
    "warnings.filterwarnings(\"ignore\", category=np.VisibleDeprecationWarning) # Caused by pymiecoated \n",
    "\n",
    "import matplotlib                                    # Set latex to use *not* CMR.\n",
    "matplotlib.rcParams['mathtext.fontset'] = 'stixsans'\n",
    "\n",
    "r2d = 360 / (2*math.pi)\n",
    "d2r = 1/r2d"
   ]
  },
  {
   "cell_type": "markdown",
   "metadata": {},
   "source": [
    "### Look at brightness of Chariklo vs. its ring\n",
    "We do a simple calculation: just look at the total cross-section of Chariklo, vs. the cross-section of its rings, at zero phase.\n",
    "\n",
    "For comparison, we also do the same with MU69: take its cross-section, compared with the rings of Chariklo. (MU69 is much smaller than Chariklo, but here for an extreme case we assume it has Chariklo's ring system.)"
   ]
  },
  {
   "cell_type": "code",
   "execution_count": 77,
   "metadata": {
    "collapsed": true
   },
   "outputs": [],
   "source": [
    "r_chariklo = 315*u.km\n",
    "\n",
    "r_ring = np.array([396, 405])*u.km\n",
    "dr_ring = np.array([7, 3.5])*u.km\n",
    "tau_ring = np.array([0.4, 0.06])\n",
    "\n",
    "r_mu69 = 20*u.km"
   ]
  },
  {
   "cell_type": "code",
   "execution_count": 78,
   "metadata": {
    "collapsed": false
   },
   "outputs": [],
   "source": [
    "area_chariklo = math.pi * (r_chariklo**2)\n",
    "area_mu69 = math.pi * (r_mu69**2)\n",
    "area_ring = np.sum( 2 *math.pi * (r_ring * dr_ring) * tau_ring )"
   ]
  },
  {
   "cell_type": "code",
   "execution_count": 79,
   "metadata": {
    "collapsed": false
   },
   "outputs": [
    {
     "data": {
      "text/latex": [
       "$0.024063492 \\; \\mathrm{}$"
      ],
      "text/plain": [
       "<Quantity 0.024063492063492065>"
      ]
     },
     "execution_count": 79,
     "metadata": {},
     "output_type": "execute_result"
    }
   ],
   "source": [
    "area_ring / area_chariklo"
   ]
  },
  {
   "cell_type": "code",
   "execution_count": 80,
   "metadata": {
    "collapsed": false
   },
   "outputs": [
    {
     "data": {
      "text/latex": [
       "$5.96925 \\; \\mathrm{}$"
      ],
      "text/plain": [
       "<Quantity 5.96925>"
      ]
     },
     "execution_count": 80,
     "metadata": {},
     "output_type": "execute_result"
    }
   ],
   "source": [
    "area_ring / area_mu69"
   ]
  },
  {
   "cell_type": "code",
   "execution_count": 81,
   "metadata": {
    "collapsed": false
   },
   "outputs": [
    {
     "data": {
      "text/latex": [
       "$7501.1808 \\; \\mathrm{km^{2}}$"
      ],
      "text/plain": [
       "<Quantity 7501.180778976349 km2>"
      ]
     },
     "execution_count": 81,
     "metadata": {},
     "output_type": "execute_result"
    }
   ],
   "source": [
    "area_ring.to('km^2')"
   ]
  },
  {
   "cell_type": "markdown",
   "metadata": {},
   "source": [
    "Conclusion: For Chariklo, the total surface area of the ring is only a few percent. For MU69, ring area > KBO area (for the assumptions made here.)\n",
    "\n",
    "But this is at backscatter. As we move to forward-scatter, the KBO will get fainter, and the ring will likely get brighter. This would not be a subtle effect. It could totally dominate the phase curve. \n",
    "\n",
    "Below I calculate this in more detail."
   ]
  },
  {
   "cell_type": "markdown",
   "metadata": {},
   "source": [
    "### Calculate DN of KBO observation"
   ]
  },
  {
   "cell_type": "markdown",
   "metadata": {},
   "source": [
    "What we want here:\n",
    "* Assume a v=20 KBO, at 140 deg phase. This is the worst case. Calculate DN/pixel/sec for this.\n",
    "* Calculate the stray light in LORRI. Hal's table gives this in I/F, and we can convert this to DN/sec/pixel.\n",
    "* One of these conversions uses unresolved. One uses resolved. So, we use RSOLAR and PSOLAR."
   ]
  },
  {
   "cell_type": "markdown",
   "metadata": {},
   "source": [
    "To convert to DN, we use standard LORRI RT equations:<br>\n",
    "`V = -2.5 log S + PHOTZPT + CC + BC`<br>\n",
    "     i.e.,<br>\n",
    "`S = exp((BC + CC + PHOTZPT - V) / 2.5)`<br>\n",
    "* `V` = mag\n",
    "* `PHOTZPT` = zero pount for LORRI = 18.94 (from Hal's paper)\n",
    "* `CC` = Color Correction. Assume zero since reflected solar.\n",
    "* `S` = Integrated net signal rate from target, in DN/sec\n",
    "* `BC` = Aperture Correction. Assume zero."
   ]
  },
  {
   "cell_type": "code",
   "execution_count": 82,
   "metadata": {
    "collapsed": false
   },
   "outputs": [],
   "source": [
    "V         = 20    # V mag of distant KBO\n",
    "phase_deg = 140   # Phase angle, in degrees\n",
    "PHOTZPT   = 18.94 # LORRI Photometric z-point\n",
    "F         = 176   # Solar flux"
   ]
  },
  {
   "cell_type": "markdown",
   "metadata": {},
   "source": [
    "## Now look at stray light and the signal from KBO and its ring"
   ]
  },
  {
   "cell_type": "markdown",
   "metadata": {},
   "source": [
    "Conventions to adopt here:\n",
    "* All angles are the phase angle $\\phi$. 180 = forward; 0 = backscatter.\n",
    "* Scattering angle is $\\alpha$, but I try not to use it. My papers also use $\\theta$ to be scattering angle.\n",
    "* Hal's plot of stray light is *opposite* to this ('Angle from sun'). I don't use his convention.\n",
    "* Keep all angles internally in radians"
   ]
  },
  {
   "cell_type": "markdown",
   "metadata": {},
   "source": [
    "### Define the stray light function at Pluto, from LORRI observations"
   ]
  },
  {
   "cell_type": "code",
   "execution_count": 83,
   "metadata": {
    "collapsed": true
   },
   "outputs": [],
   "source": [
    "IoF_stray_lorri_pluto_arr = np.transpose(np.array([\n",
    "                        [0.1, 100], # Take the raw data from Hal's plot. Angle from sun in Deg, and I/F.\n",
    "                        [1, 10],    # I/F values are indep of distance.\n",
    "                        [2, 1],\n",
    "                        [15, 1.5e-2],\n",
    "                        [20, 2e-3],\n",
    "                        [25, 1e-3],\n",
    "                        [30, 8e-4],\n",
    "                        [50, 1e-4],\n",
    "                        [60, 3e-5],\n",
    "                        [75,1e-5]]))\n",
    "\n",
    "dist_pluto_ca_au   = 33             # NH heliocentric distance at Pluto flyby, in AU"
   ]
  },
  {
   "cell_type": "markdown",
   "metadata": {},
   "source": [
    "### Flip this around so it's a function of phase angle (not scattering angle)."
   ]
  },
  {
   "cell_type": "code",
   "execution_count": 84,
   "metadata": {
    "collapsed": false
   },
   "outputs": [],
   "source": [
    "angle_stray           = IoF_stray_lorri_pluto_arr[0,:]\n",
    "phi_stray             = (180 - angle_stray) * d2r # Phase angle, in radians\n",
    "IoF_stray_lorri_pluto = IoF_stray_lorri_pluto_arr[1,:]\n",
    "\n",
    "# Convert Hal's chart values from I/F, to DN, using normalization constant on that chart.\n",
    "\n",
    "S_stray_lorri_pluto   = IoF_stray_lorri_pluto * (10 / 8e-4) # DN/sec/pixel [blue dashed line in Hal's slide]\n",
    "                                                            # DN/sec is for Pluto distance.\n",
    "                                                            # For other distances, multiply by (33/dist_au)**2"
   ]
  },
  {
   "cell_type": "markdown",
   "metadata": {},
   "source": [
    "### Make a test plot of stray light, to compare to Hal's plot"
   ]
  },
  {
   "cell_type": "code",
   "execution_count": 85,
   "metadata": {
    "collapsed": false
   },
   "outputs": [
    {
     "data": {
      "image/png": "[encoded data removed]",
      "text/plain": [
       "<matplotlib.figure.Figure at 0x114d469e8>"
      ]
     },
     "metadata": {},
     "output_type": "display_data"
    }
   ],
   "source": [
    "plt.plot(phi_stray*r2d, S_stray_lorri_pluto)\n",
    "plt.yscale('log')\n",
    "plt.xlabel('Solar Phase Angle [deg]')\n",
    "plt.ylabel('DN/Sec')\n",
    "plt.title('LORRI Stray Light at 33 AU')\n",
    "plt.axhline(1,linestyle='--', alpha=0.2)    # 1 DN/sec\n",
    "plt.axvline(165,linestyle='--', alpha=0.2)  # Outbound asymptote\n",
    "plt.show()"
   ]
  },
  {
   "cell_type": "markdown",
   "metadata": {},
   "source": [
    "### Define a Lambertian phase function"
   ]
  },
  {
   "cell_type": "code",
   "execution_count": 86,
   "metadata": {
    "collapsed": false
   },
   "outputs": [],
   "source": [
    "def phase_function_lambert(phi):\n",
    "    '''Returns phase function, given phase angle phi in radians. '''\n",
    "    return (8/(3*math.pi) * (np.sin(phi) + (math.pi - phi)*np.cos(phi) ))"
   ]
  },
  {
   "cell_type": "markdown",
   "metadata": {},
   "source": [
    "### Define a Mie phase function"
   ]
  },
  {
   "cell_type": "code",
   "execution_count": 87,
   "metadata": {
    "collapsed": false
   },
   "outputs": [],
   "source": [
    "def phase_function_mie(x, n_refract, phi):\n",
    "    '''Returns phase function, given phase angle phi in radians.'''\n",
    "    p11 = [] # List for the output array (n_x  X  n_angles)\n",
    "\n",
    "    alpha = math.pi - phi                               # alpha is scattering angle. Phi is phase angle.\n",
    "    \n",
    "    for x_i in x:\n",
    "        mie    = pymiecoated.Mie(x=x_i,m=n_refract)\n",
    "        p11_i  = []     # Create the output arrays for each individual angular phase function\n",
    "\n",
    "        for a in alpha: # Loop over angle\n",
    "            S12 = mie.S12(np.cos(a))                    # Get the Mie coefficient using pymiecoated library\n",
    "            p11_i.append(np.abs(S12[0]**2 + S12[1]**2)) # Compute the amplitude at each angle\n",
    "\n",
    "        p11_i = np.array(p11_i)                         # Save the result\n",
    "        p11.append(p11_i)\n",
    "\n",
    "    p11_arr = np.array(p11)\n",
    "    p11_out = np.sum(p11_arr,0)                         # Average all the phase functions together into one\n",
    "\n",
    "    dalpha = abs(alpha[1] - alpha[0]) \n",
    "    p11 = p11_out\n",
    "    p11 = p11 * 2 / (np.sum(p11 * np.sin(alpha) * dalpha)) # Normalize the phase function integral to 2\n",
    "\n",
    "    return p11"
   ]
  },
  {
   "cell_type": "markdown",
   "metadata": {},
   "source": [
    "### Set  up parameters, and do some calculations to generate a phase curve for a solid body and a ring"
   ]
  },
  {
   "cell_type": "code",
   "execution_count": 88,
   "metadata": {
    "collapsed": false
   },
   "outputs": [],
   "source": [
    "num_phi   = 100\n",
    "phi       = np.array(range(num_phi))*math.pi/num_phi # Phase angles\n",
    "n_refract = complex(1.5, 1e-2)                       # Refractive index. Not really critical what we choose.\n",
    "x         = np.array([40, 50, 52, 55, 60])           # Make a phase function that is a mean of all of these X values\n",
    "\n",
    "\n",
    "p11_lambert    = phase_function_lambert(phi)                         # Solid body, lambertian curve \n",
    "p11_mie        = phase_function_mie(x, n_refract, phi)               # 'Normal' dusty rings\n"
   ]
  },
  {
   "cell_type": "markdown",
   "metadata": {},
   "source": [
    "## Enter assumptions about KBO size, distance, and ring area"
   ]
  },
  {
   "cell_type": "code",
   "execution_count": 103,
   "metadata": {
    "collapsed": true
   },
   "outputs": [],
   "source": [
    "V               = 20  # Magnitude of KBO. Typical magnitudes, as seen from NH, are 15-20.\n",
    "dist            = 35  # Orbital distance, in AU. KBO flybys are mostly 2017 - 2018, at distances 37 .. 42 AU.\n",
    "ratio_ring_body = 0.01 # Brightness ratio, at backscatter. (ie, area ratio of rings : central_body)"
   ]
  },
  {
   "cell_type": "markdown",
   "metadata": {},
   "source": [
    "### Do photometric calculations"
   ]
  },
  {
   "cell_type": "code",
   "execution_count": 104,
   "metadata": {
    "collapsed": false
   },
   "outputs": [],
   "source": [
    "# Create the phase function for the KBO body.\n",
    "# S = count rate, in DN/sec\n",
    "\n",
    "S_kbo         = math.exp((PHOTZPT - V)/2.5)            # Calculate LORRI DN/sec for unresolved source of a given mag\n",
    "S_kbo_lambert = p11_lambert * (S_kbo / p11_lambert[0]) # Multiply this by a Lambertian phase func\n",
    "\n",
    "# Create the phase function for the KBO rings. Use two models, for a dark and light ring\n",
    "\n",
    "S_kbo_mie     = p11_mie * (S_kbo / p11_mie[0]) * ratio_ring_body\n"
   ]
  },
  {
   "cell_type": "markdown",
   "metadata": {},
   "source": [
    "### And make a plot of the two phase curves, plus the stray light curve"
   ]
  },
  {
   "cell_type": "code",
   "execution_count": 108,
   "metadata": {
    "collapsed": false
   },
   "outputs": [
    {
     "data": {
      "text/plain": [
       "<matplotlib.text.Text at 0x11748c940>"
      ]
     },
     "execution_count": 108,
     "metadata": {},
     "output_type": "execute_result"
    },
    {
     "data": {
      "image/png": "[encoded data removed]",
      "text/plain": [
       "<matplotlib.figure.Figure at 0x117470208>"
      ]
     },
     "metadata": {},
     "output_type": "display_data"
    }
   ],
   "source": [
    "# plt.plot(phi*r2d,       S_kbo_lambert,       label = 'KBO Body [DN/sec]')\n",
    "# plt.plot(phi*r2d,       S_kbo_mie,           label = 'KBO Rings [DN/sec]')\n",
    "plt.plot(phi*r2d,       S_kbo_lambert + S_kbo_mie, label = 'KBO + ring' )\n",
    "plt.plot(phi_stray*r2d, S_stray_lorri_pluto * (dist_pluto_ca/dist)**2, label = 'LORRI Stray [DN/sec/pix]')\n",
    "plt.axhline(y=1, linestyle='--', alpha=0.2)                  # Horizontal dashed line at 1 DN/sec\n",
    "plt.axvline(x=165, linestyle='--', color='red', alpha=0.2)   # Vertical dashed line at departure asymptote\n",
    "plt.axvline(x=140, linestyle='--', color='red', alpha=0.2)   # Vertical dashed line at 140 deg (end of KBO 2016 obs)\n",
    "\n",
    "plt.ylabel('DN/Sec, LORRI 1x1')\n",
    "plt.xlabel('Phase Angle [deg]')\n",
    "plt.yscale('log')\n",
    "plt.legend(framealpha=0.5, loc = 'upper left')\n",
    "plt.ylim((1e-3, 1000))\n",
    "plt.title('V$_{{KBO}}$ = {}, d={} AU, $A_{{ring}}$/$A_{{KBO}}$={}'.format(V, dist, ratio_ring_body))"
   ]
  },
  {
   "cell_type": "markdown",
   "metadata": {},
   "source": [
    "### Concl: \n",
    "I've done a bunch of cases. In all of them, LORRI stray light really dominates past 140 deg.\n",
    "\n",
    "I don't have a quantitative measurement here for MVIC stray light. But on rings obs on DOY 2015-202 and 2015-305, the post-reduction stray light in LORRI was 10-100x worse (in units of I/F) than MVIC (that is, after Tod removed stray light from both). Tod's algorithm probably reduced stray light by 10x, at 165 deg."
   ]
  },
  {
   "cell_type": "code",
   "execution_count": null,
   "metadata": {
    "collapsed": false
   },
   "outputs": [],
   "source": []
  },
  {
   "cell_type": "code",
   "execution_count": null,
   "metadata": {
    "collapsed": true
   },
   "outputs": [],
   "source": []
  },
  {
   "cell_type": "code",
   "execution_count": null,
   "metadata": {
    "collapsed": true
   },
   "outputs": [],
   "source": []
  }
 ],
 "metadata": {
  "anaconda-cloud": {},
  "kernelspec": {
   "display_name": "Python [conda env:py3]",
   "language": "python",
   "name": "conda-env-py3-py"
  },
  "language_info": {
   "codemirror_mode": {
    "name": "ipython",
    "version": 3
   },
   "file_extension": ".py",
   "mimetype": "text/x-python",
   "name": "python",
   "nbconvert_exporter": "python",
   "pygments_lexer": "ipython3",
   "version": "3.5.2"
  }
 },
 "nbformat": 4,
 "nbformat_minor": 1
}
