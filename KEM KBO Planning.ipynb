{
 "cells": [
  {
   "cell_type": "markdown",
   "metadata": {},
   "source": [
    "# Misc KBO planning calculations"
   ]
  },
  {
   "cell_type": "markdown",
   "metadata": {},
   "source": [
    "### Look at brightness of Chariklo vs. its ring"
   ]
  },
  {
   "cell_type": "code",
   "execution_count": 227,
   "metadata": {
    "collapsed": false
   },
   "outputs": [],
   "source": [
    "import astropy.units as u\n",
    "import astropy.constants as c\n",
    "import math\n",
    "import numpy as np\n",
    "import matplotlib.pyplot as plt\n",
    "import pymiecoated\n",
    "\n",
    "import warnings\n",
    "warnings.filterwarnings(\"ignore\", category=np.VisibleDeprecationWarning) # Caused by pymiecoated \n",
    "\n",
    "import matplotlib                                    # Set latex to use *not* CMR.\n",
    "matplotlib.rcParams['mathtext.fontset'] = 'stixsans'\n",
    "\n",
    "r2d = 360 / (2*math.pi)\n",
    "d2r = 1/r2d\n",
    "\n",
    "r_chariklo = 315*u.km\n",
    "\n",
    "r_ring = np.array([396, 405])*u.km\n",
    "dr_ring = np.array([7, 3.5])*u.km\n",
    "tau_ring = np.array([0.4, 0.06])\n",
    "\n",
    "r_mu69 = 20*u.km"
   ]
  },
  {
   "cell_type": "markdown",
   "metadata": {},
   "source": [
    "Conventions to adopt here:\n",
    "* All angles are the phase angle $\\phi$. 180 = forward; 0 = backscatter.\n",
    "* Scattering angle is $\\alpha$, but I try not to use it. My papers also use $\\theta$ to be scattering angle.\n",
    "* Hal's plot of stray light is *opposite* to this ('Angle from sun'). I don't use his convention.\n",
    "* Keep all angles internally in radians"
   ]
  },
  {
   "cell_type": "code",
   "execution_count": 228,
   "metadata": {
    "collapsed": false
   },
   "outputs": [],
   "source": [
    "area_chariklo = math.pi * (r_chariklo**2)\n",
    "area_mu69 = math.pi * (r_mu69**2)\n",
    "area_ring = np.sum( 2 *math.pi * (r_ring * dr_ring) * tau_ring )"
   ]
  },
  {
   "cell_type": "code",
   "execution_count": 229,
   "metadata": {
    "collapsed": false
   },
   "outputs": [
    {
     "data": {
      "text/latex": [
       "$41.556728 \\; \\mathrm{}$"
      ],
      "text/plain": [
       "<Quantity 41.556728232189975>"
      ]
     },
     "execution_count": 229,
     "metadata": {},
     "output_type": "execute_result"
    }
   ],
   "source": [
    "area_chariklo / area_ring"
   ]
  },
  {
   "cell_type": "code",
   "execution_count": 230,
   "metadata": {
    "collapsed": false
   },
   "outputs": [
    {
     "data": {
      "text/latex": [
       "$0.16752523 \\; \\mathrm{}$"
      ],
      "text/plain": [
       "<Quantity 0.16752523348829418>"
      ]
     },
     "execution_count": 230,
     "metadata": {},
     "output_type": "execute_result"
    }
   ],
   "source": [
    "area_mu69 / area_ring"
   ]
  },
  {
   "cell_type": "code",
   "execution_count": 231,
   "metadata": {
    "collapsed": false
   },
   "outputs": [
    {
     "data": {
      "text/latex": [
       "$7501.1808 \\; \\mathrm{km^{2}}$"
      ],
      "text/plain": [
       "<Quantity 7501.180778976349 km2>"
      ]
     },
     "execution_count": 231,
     "metadata": {},
     "output_type": "execute_result"
    }
   ],
   "source": [
    "area_ring.to('km^2')"
   ]
  },
  {
   "cell_type": "markdown",
   "metadata": {},
   "source": [
    "Concl: So, even for Chariklo, the total surface area of the ring is only a few percent. At backscatter, ring is tiny. But at forward-scatter, moon gets fainter to 0.05 fraction (at 140 deg phase) and ring probably gets brighter. So then ring is brighter than moon! This would not be a subtle effect. It would totally dominate the phase curve. Chariklo's phase curve must look essentially flat... it would be totally weird-looking. I could make a simple estimate of it by just adding a lambertian and a single mie curve.\n",
    "\n",
    "If Chariklo's rings were in orbit around MU69, they would be many times brighter than body, even at backscatter."
   ]
  },
  {
   "cell_type": "markdown",
   "metadata": {},
   "source": [
    "### To do: make a plot of Mie phase curve + Lambertian phase curve"
   ]
  },
  {
   "cell_type": "markdown",
   "metadata": {},
   "source": [
    "## Calculate DN of KBO observation"
   ]
  },
  {
   "cell_type": "markdown",
   "metadata": {},
   "source": [
    "What we want here:\n",
    "* Assume a v=20 KBO, at 140 deg phase. This is the worst case. Calculate DN/pixel/sec for this.\n",
    "* Calculate the stray light in LORRI. Hal's table gives this in I/F, and we can convert this to DN/sec/pixel.\n",
    "* One of these conversions uses unresolved. One uses resolved. So, we use RSOLAR and PSOLAR."
   ]
  },
  {
   "cell_type": "markdown",
   "metadata": {},
   "source": [
    "To convert to DN, we use<br>\n",
    "`V = -2.5 log S + PHOTZPT + CC + BC`<br>\n",
    "i.e.,<br>\n",
    "`S = exp((BC + CC + PHOTZPT - V) / 2.5)`<br>\n",
    "* `V` = mag\n",
    "* `PHOTZPT` = zero pount for LORRI = 18.94 (from Hal's paper)\n",
    "* `CC` = Color Correction. Assume zero since reflected solar.\n",
    "* `S` = Integrated net signal rate from target, in DN/sec\n",
    "* `BC` = Aperture Correction. Assume zero I think? Doesn’t really say."
   ]
  },
  {
   "cell_type": "code",
   "execution_count": 232,
   "metadata": {
    "collapsed": false
   },
   "outputs": [],
   "source": [
    "V         = 20 # V mag of distant KBO\n",
    "phase_deg = 140 # Phase angle, in degrees\n",
    "PHOTZPT   = 18.94 # LORRI Photometric z-point\n",
    "F         = 176 # Solar flux"
   ]
  },
  {
   "cell_type": "code",
   "execution_count": 233,
   "metadata": {
    "collapsed": false
   },
   "outputs": [
    {
     "data": {
      "text/plain": [
       "0.6544238819088589"
      ]
     },
     "execution_count": 233,
     "metadata": {},
     "output_type": "execute_result"
    }
   ],
   "source": [
    "math.exp((PHOTZPT - V)/2.5) # Calculate DN/sec for an unresolved source, LORRI"
   ]
  },
  {
   "cell_type": "markdown",
   "metadata": {},
   "source": [
    "### Define the stray light at Pluto, from LORRI"
   ]
  },
  {
   "cell_type": "code",
   "execution_count": 234,
   "metadata": {
    "collapsed": true
   },
   "outputs": [],
   "source": [
    "IoF_stray_lorri_pluto_arr = np.transpose(np.array([\n",
    "                        [0.1, 100], # Take the raw data from Hal's plot. Angle from sun in Deg, and I/F.\n",
    "                        [1, 10],\n",
    "                        [2, 1],\n",
    "                        [15, 1.5e-2],\n",
    "                        [20, 2e-3],\n",
    "                        [25, 1e-3],\n",
    "                        [30, 8e-4],\n",
    "                        [50, 1e-4],\n",
    "                        [60, 3e-5],\n",
    "                        [75,1e-5]]))"
   ]
  },
  {
   "cell_type": "markdown",
   "metadata": {},
   "source": [
    "### Now flip this around so it's a function of phase angle (not scattering angle).\n",
    "NB: These I/F values are correct for 33 AU. At other distances, need to multiply by (33/dist_au)**2."
   ]
  },
  {
   "cell_type": "code",
   "execution_count": 235,
   "metadata": {
    "collapsed": true
   },
   "outputs": [],
   "source": [
    "angle_stray = IoF_stray_lorri_pluto_arr[0,:]\n",
    "phi_stray = (180 - angle_stray) * d2r # Phase angle, in radians\n",
    "IoF_stray_lorri_pluto = IoF_stray_lorri_pluto_arr[1,:]\n",
    "\n",
    "# Convert Hal's chart values from I/F, to DN, using conversion constant on that chart.\n",
    "\n",
    "S_stray_lorri_pluto = IoF_stray_lorri_pluto * (10 / 8e-4) # DN/sec/pixel [blue dashed line in Hal's slide]"
   ]
  },
  {
   "cell_type": "code",
   "execution_count": 236,
   "metadata": {
    "collapsed": false
   },
   "outputs": [
    {
     "data": {
      "image/png": "[encoded data removed]",
      "text/plain": [
       "<matplotlib.figure.Figure at 0x11ea14b38>"
      ]
     },
     "metadata": {},
     "output_type": "display_data"
    }
   ],
   "source": [
    "plt.plot(phi_stray*r2d, S_stray_lorri_pluto)\n",
    "plt.yscale('log')\n",
    "plt.xlabel('Solar Phase Angle [deg]')\n",
    "plt.ylabel('DN/Sec')\n",
    "plt.title('LORRI Stray Light at 33 AU')\n",
    "plt.show()"
   ]
  },
  {
   "cell_type": "markdown",
   "metadata": {},
   "source": [
    "### Define the Lambertian phase function"
   ]
  },
  {
   "cell_type": "code",
   "execution_count": 237,
   "metadata": {
    "collapsed": false
   },
   "outputs": [],
   "source": [
    "def phase_function_lambert(alpha):\n",
    "    '''Returns phase function, given phase angle phi in radians. '''\n",
    "    return (8/(3*math.pi) * (np.sin(phi) + (math.pi - phi)*np.cos(phi) ))"
   ]
  },
  {
   "cell_type": "markdown",
   "metadata": {},
   "source": [
    "### Define the Mie phase function"
   ]
  },
  {
   "cell_type": "code",
   "execution_count": 238,
   "metadata": {
    "collapsed": false
   },
   "outputs": [],
   "source": [
    "def phase_function_mie(x, n_refract, phi):\n",
    "    '''Returns phase function, given phase angle phi in radians.'''\n",
    "    p11 = [] # List for the output array (n_x  X  n_angles)\n",
    "\n",
    "    alpha = math.pi - phi                               # alpha is scattering angle. Phi is phase angle.\n",
    "    \n",
    "    for x_i in x:\n",
    "        mie    = pymiecoated.Mie(x=x_i,m=n_refract)\n",
    "        p11_i  = []     # Create the output arrays for each individual angular phase function\n",
    "\n",
    "        for a in alpha: # Loop over angle\n",
    "            S12 = mie.S12(np.cos(a))                    # Get the Mie coefficient using pymiecoated library\n",
    "            p11_i.append(np.abs(S12[0]**2 + S12[1]**2)) # Compute the amplitude at each angle\n",
    "\n",
    "        p11_i = np.array(p11_i)                         # Save the result\n",
    "        p11.append(p11_i)\n",
    "\n",
    "    p11_arr = np.array(p11)\n",
    "    p11_out = np.sum(p11_arr,0)                         # Average all the phase functions together into one\n",
    "\n",
    "    dalpha = abs(alpha[1] - alpha[0]) \n",
    "    p11 = p11_out\n",
    "    p11 = p11 * 2 / (np.sum(p11 * np.sin(alpha) * dalpha)) # Normalize the phase function integral to 2\n",
    "\n",
    "    return p11"
   ]
  },
  {
   "cell_type": "code",
   "execution_count": 239,
   "metadata": {
    "collapsed": false
   },
   "outputs": [],
   "source": [
    "phi       = np.array(range(100))*math.pi/100 # Phase angles\n",
    "n_refract = complex(1.5, 5e-4)\n",
    "x         = np.array([40, 50, 60, 52, 55]) # Make a phase function that is a sum of all of these X values"
   ]
  },
  {
   "cell_type": "markdown",
   "metadata": {},
   "source": [
    "### Do some calculations to generate a sample phase curve for a ring and a solid body"
   ]
  },
  {
   "cell_type": "code",
   "execution_count": 240,
   "metadata": {
    "collapsed": false
   },
   "outputs": [],
   "source": [
    "p11_mie_bright = phase_function_mie(x, n_refract, phi)               # 'Normal' dusty rings\n",
    "p11_mie_dark   = phase_function_mie(x*10, complex(1.5, 0.5), phi)    # Darker, more absorbing rings (in theory) \n",
    "p11_lambert    = phase_function_lambert(phi)"
   ]
  },
  {
   "cell_type": "markdown",
   "metadata": {},
   "source": [
    "### Now the basic idea is done. Now all we need to do it calibrate it.\n",
    "\n",
    "Calculate lambertian in DN/s.\n",
    "\n",
    "Let's take a typical encounter.\n",
    "v="
   ]
  },
  {
   "cell_type": "code",
   "execution_count": 241,
   "metadata": {
    "collapsed": false
   },
   "outputs": [],
   "source": [
    "V    = 15              # Magnitude of KBO. But hang on -- is this from NH, or from ground, or what? What phase angle, etc?\n",
    "dist = 40              # Orbital distance, in AU. KBO flybys are mostly 2017 - 2018, at distances 37 .. 42 AU.\n",
    "dist_pluto_ca = 33     # Distance of the Pluto close-approach, in AU\n",
    "\n",
    "# Create the phase function for the KBO body\n",
    "\n",
    "S_kbo         = math.exp((PHOTZPT - V)/2.5) # Calculate DN/sec for an unresolved source of a given mag, LORRI\n",
    "S_kbo_lambert = p11_lambert * (S_kbo / p11_lambert[0]) # Multiply this by a Lambertian phase func\n",
    "\n",
    "# Create the phase function for the KBO rings\n",
    "\n",
    "ratio_ring_body = 0.1           # Brightness ratio, at backscatter. (ie, area ratio of rings : central_body)\n",
    "\n",
    "S_kbo_mie_bright = p11_mie_bright * (S_kbo / p11_mie_bright[0]) * ratio_ring_body\n",
    "S_kbo_mie_dark   = p11_mie_dark   * (S_kbo / p11_mie_dark[0])   * ratio_ring_body\n",
    "\n"
   ]
  },
  {
   "cell_type": "markdown",
   "metadata": {},
   "source": [
    "### And make a plot of the two phase curves, plus the stray light curve"
   ]
  },
  {
   "cell_type": "code",
   "execution_count": 246,
   "metadata": {
    "collapsed": false
   },
   "outputs": [
    {
     "data": {
      "text/plain": [
       "<matplotlib.text.Text at 0x11e98b438>"
      ]
     },
     "execution_count": 246,
     "metadata": {},
     "output_type": "execute_result"
    },
    {
     "data": {
      "image/png": "[encoded data removed]",
      "text/plain": [
       "<matplotlib.figure.Figure at 0x11e9feb00>"
      ]
     },
     "metadata": {},
     "output_type": "display_data"
    }
   ],
   "source": [
    "plt.plot(phi*r2d,       S_kbo_lambert,       label = 'KBO Body')\n",
    "plt.plot(phi*r2d,       S_kbo_mie_bright,    label = 'KBO Rings Bright')\n",
    "plt.plot(phi*r2d,       S_kbo_mie_dark,      label = 'KBO Rings Dark')\n",
    "plt.plot(phi_stray*r2d, S_stray_lorri_pluto * (dist_pluto_ca/dist)**2, label = 'LORRI Stray')\n",
    "plt.axhline(y=1, linestyle='--', alpha=0.2)                  # Horizontal dashed line at 1 DN/sec\n",
    "plt.axvline(x=165, linestyle='--', color='red', alpha=0.2)   # Vertical dashed line at departure asymptote\n",
    "plt.axvline(x=140, linestyle='--', color='red', alpha=0.2)   # Vertical dashed line at 140 deg (end of KBO 2016 obs)\n",
    "\n",
    "plt.ylabel('DN/Sec')\n",
    "plt.xlabel('Phase Angle [deg]')\n",
    "plt.yscale('log')\n",
    "plt.legend(framealpha=0.5, loc = 'upper left')\n",
    "plt.ylim((1e-3, 1000))\n",
    "plt.title('V = {}, d={} AU, $A_r$/$A_K$={}'.format(V, dist, ratio_ring_body))"
   ]
  },
  {
   "cell_type": "markdown",
   "metadata": {},
   "source": [
    "### Concl: \n",
    "I've done a bunch of cases. In all of them, LORRI stray light really dominates past 140 deg.\n",
    "\n",
    "I don't have a quantitative measurement here for MVIC stray light. But on rings obs on DOY 2015-202 and 2015-305, the post-reduction stray light in LORRI was 10-100x worse (in units of I/F) than MVIC (that is, after Tod removed stray light from both). "
   ]
  },
  {
   "cell_type": "code",
   "execution_count": 245,
   "metadata": {
    "collapsed": false
   },
   "outputs": [],
   "source": []
  },
  {
   "cell_type": "code",
   "execution_count": 244,
   "metadata": {
    "collapsed": true
   },
   "outputs": [],
   "source": []
  },
  {
   "cell_type": "code",
   "execution_count": null,
   "metadata": {
    "collapsed": true
   },
   "outputs": [],
   "source": []
  }
 ],
 "metadata": {
  "anaconda-cloud": {},
  "kernelspec": {
   "display_name": "Python [conda env:py3]",
   "language": "python",
   "name": "conda-env-py3-py"
  }
 },
 "nbformat": 4,
 "nbformat_minor": 1
}
