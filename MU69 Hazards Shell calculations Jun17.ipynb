{
 "cells": [
  {
   "cell_type": "code",
   "execution_count": 27,
   "metadata": {
    "collapsed": false
   },
   "outputs": [],
   "source": [
    "import astropy.units as u\n",
    "import astropy.constants as c\n",
    "import math\n",
    "pi = math.pi"
   ]
  },
  {
   "cell_type": "markdown",
   "metadata": {},
   "source": [
    "Definitions:\n",
    "- $r_d$ = dust particle diameter\n",
    "- $rho$ = "
   ]
  },
  {
   "cell_type": "code",
   "execution_count": 101,
   "metadata": {
    "collapsed": false
   },
   "outputs": [],
   "source": [
    "rho     = 1 * u.gram/u.cm**3  # Density of particles and body\n",
    "r_d     = 200*u.micron  # Dust particle size\n",
    "R_s     = 10000*u.km      # Shell orbital radius -- or equally, the flyby radius.\n",
    "dR      = 5*u.km        # Shell width\n",
    "r_p     = 20*u.km       # Body radius (p = planet)\n",
    "ratio_M = 1e-1            # Define mass ratio of M_ring / M_planet"
   ]
  },
  {
   "cell_type": "markdown",
   "metadata": {},
   "source": [
    "Calculate a bunch of inferred quantities"
   ]
  },
  {
   "cell_type": "code",
   "execution_count": 109,
   "metadata": {
    "collapsed": true
   },
   "outputs": [],
   "source": [
    "N = ratio_M * r_p**3 / r_d**3   # Number density of dust grains, number/cm3.\n",
    "                                # Assumes that the density ratio is the same.\n",
    "V_s = 4 * pi * R_s**2 * dR # Calculate the shell volume\n",
    "V_p = 4/3 * math.pi * r_p**3 # Body volume (planet)"
   ]
  },
  {
   "cell_type": "markdown",
   "metadata": {},
   "source": [
    "Calculate volume filling factor for particles. This is the same as the filling fraction -- just the ratio of volumes.\n"
   ]
  },
  {
   "cell_type": "code",
   "execution_count": 110,
   "metadata": {
    "collapsed": false
   },
   "outputs": [
    {
     "data": {
      "text/latex": [
       "$5.3333333 \\times 10^{-6} \\; \\mathrm{}$"
      ],
      "text/plain": [
       "<Quantity 5.333333333333334e-06>"
      ]
     },
     "execution_count": 110,
     "metadata": {},
     "output_type": "execute_result"
    }
   ],
   "source": [
    "FillFac = V_p / V_s\n",
    "FillFac"
   ]
  },
  {
   "cell_type": "markdown",
   "metadata": {},
   "source": [
    "Define the path lengths though the shell."
   ]
  },
  {
   "cell_type": "code",
   "execution_count": 111,
   "metadata": {
    "collapsed": true
   },
   "outputs": [],
   "source": [
    "L_min = dR   # Minimum path length will be just passing straight through the shell, normal\n",
    "L_max = R_s  # Max path length is harder to calculate, and has lots of geometric factors. \n",
    "             # But in general it will never be much larger than R_s. So this is an upper limit."
   ]
  },
  {
   "cell_type": "markdown",
   "metadata": {},
   "source": [
    "Calculate volume density of particles, # per cm3."
   ]
  },
  {
   "cell_type": "code",
   "execution_count": 112,
   "metadata": {
    "collapsed": true
   },
   "outputs": [],
   "source": [
    "nn = N / V_s  # Total number of particles in shell, over total shell volume"
   ]
  },
  {
   "cell_type": "markdown",
   "metadata": {},
   "source": [
    "Calculate optical depth along a path -- ie, how many particles do we hit?"
   ]
  },
  {
   "cell_type": "code",
   "execution_count": 113,
   "metadata": {
    "collapsed": true
   },
   "outputs": [],
   "source": [
    "tau_min = nn * (pi * r_d**2) * L_min\n",
    "tau_max = nn * (pi * r_d**2) * L_max"
   ]
  },
  {
   "cell_type": "code",
   "execution_count": 114,
   "metadata": {
    "collapsed": false
   },
   "outputs": [
    {
     "data": {
      "text/plain": [
       "(<Quantity 20000.0>, <Quantity 10.0>)"
      ]
     },
     "execution_count": 114,
     "metadata": {},
     "output_type": "execute_result"
    }
   ],
   "source": [
    "(tau_max.to('1'), tau_min.to('1'))"
   ]
  },
  {
   "cell_type": "markdown",
   "metadata": {},
   "source": [
    "Calculate total surface area of shell dust vs. KBO"
   ]
  },
  {
   "cell_type": "code",
   "execution_count": 115,
   "metadata": {
    "collapsed": false
   },
   "outputs": [
    {
     "data": {
      "text/latex": [
       "$10000000 \\; \\mathrm{}$"
      ],
      "text/plain": [
       "<Quantity 10000000.0>"
      ]
     },
     "execution_count": 115,
     "metadata": {},
     "output_type": "execute_result"
    }
   ],
   "source": [
    "ratio_A = (N * r_d**2) / (r_p**2)\n",
    "ratio_A.to('1')"
   ]
  },
  {
   "cell_type": "markdown",
   "metadata": {},
   "source": [
    "So... if we break up the KBO into a ring of unimodal size distribution, it is definitely possible to make the region hazardous. "
   ]
  },
  {
   "cell_type": "code",
   "execution_count": null,
   "metadata": {
    "collapsed": true
   },
   "outputs": [],
   "source": []
  }
 ],
 "metadata": {
  "anaconda-cloud": {},
  "kernelspec": {
   "display_name": "Python [conda env:py3]",
   "language": "python",
   "name": "conda-env-py3-py"
  },
  "language_info": {
   "codemirror_mode": {
    "name": "ipython",
    "version": 3
   },
   "file_extension": ".py",
   "mimetype": "text/x-python",
   "name": "python",
   "nbconvert_exporter": "python",
   "pygments_lexer": "ipython3",
   "version": "3.5.2"
  }
 },
 "nbformat": 4,
 "nbformat_minor": 1
}
