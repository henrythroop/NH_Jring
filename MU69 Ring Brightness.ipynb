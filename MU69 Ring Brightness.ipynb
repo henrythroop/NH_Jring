{
 "cells": [
  {
   "cell_type": "markdown",
   "metadata": {},
   "source": [
    "## Convert MU69 halo surface brightness into particle density. "
   ]
  },
  {
   "cell_type": "code",
   "execution_count": 42,
   "metadata": {
    "collapsed": true
   },
   "outputs": [],
   "source": [
    "def fac2mag(fac):\n",
    "    import numpy as np\n",
    "    return np.log( 1/(1.*fac))/np.log(100**0.2)    \n",
    "\n",
    "def mag2fac(mag): \n",
    "    import numpy as np\n",
    "    return np.exp(-mag * np.log(100.**0.2))"
   ]
  },
  {
   "cell_type": "markdown",
   "metadata": {},
   "source": [
    "In theory I could do this theoretically. There should be one published correct value for (mag per arcsec2, at a given distance) to (surface albedo). Assuming zero phase.\n",
    "\n",
    "I mean, mags per arcsec2 -- that's should translate directly into an amount of flux.\n",
    "\n",
    "Maybe just bootstrap off of the sun: -26.7 = 1400 W/m2. That's probably the best."
   ]
  },
  {
   "cell_type": "code",
   "execution_count": 56,
   "metadata": {
    "collapsed": false
   },
   "outputs": [],
   "source": [
    "import numpy as np\n",
    "import astropy\n",
    "import astropy.units as u\n",
    "import astropy.constants as c\n",
    "import math"
   ]
  },
  {
   "cell_type": "code",
   "execution_count": 85,
   "metadata": {
    "collapsed": false
   },
   "outputs": [],
   "source": [
    "mag_sun  = -26.7\n",
    "dist_kbo = 43.4*u.AU  # Not sure of the current distance. Mostly circular.: 42 .. 46 AU.\n",
    "pi       = math.pi    # Just for convenience\n",
    "dx       = dist_kbo * 1*u.arcsecond.to('radian') # Calc the dim's of a 1 arcsec \n",
    "                                                 # paper target as seen from Sun"
   ]
  },
  {
   "cell_type": "markdown",
   "metadata": {},
   "source": [
    "Let's put a 1 arcsec piece of white paper at 43 AU. How much solar flux does it reflect back to Earth?"
   ]
  },
  {
   "cell_type": "code",
   "execution_count": 51,
   "metadata": {
    "collapsed": false
   },
   "outputs": [],
   "source": [
    "L_paper = c.L_sun * 1/(4*pi*(dist_kbo)**2) * dx**2 * 1/(4*pi*(dist_kbo)**2)"
   ]
  },
  {
   "cell_type": "markdown",
   "metadata": {},
   "source": [
    "How big is that paper?"
   ]
  },
  {
   "cell_type": "code",
   "execution_count": 52,
   "metadata": {
    "collapsed": false
   },
   "outputs": [
    {
     "data": {
      "text/latex": [
       "$31476.759 \\; \\mathrm{km}$"
      ],
      "text/plain": [
       "<Quantity 31476.75896101348 km>"
      ]
     },
     "execution_count": 52,
     "metadata": {},
     "output_type": "execute_result"
    }
   ],
   "source": [
    "dx.to('km')"
   ]
  },
  {
   "cell_type": "code",
   "execution_count": 57,
   "metadata": {
    "collapsed": false
   },
   "outputs": [
    {
     "data": {
      "text/latex": [
       "$1.3580289 \\times 10^{-12} \\; \\mathrm{\\frac{W}{m^{2}}}$"
      ],
      "text/plain": [
       "<Quantity 1.3580288693349867e-12 W / m2>"
      ]
     },
     "execution_count": 57,
     "metadata": {},
     "output_type": "execute_result"
    }
   ],
   "source": [
    "L_paper.to('W/m**2')"
   ]
  },
  {
   "cell_type": "markdown",
   "metadata": {},
   "source": [
    "Now, how many magnitudes per arcsec is this? Sun has a total brightness of -26.7, as seen on Earth. How many times fainter is this white piece of paper, than the Sun would be, at Earth?"
   ]
  },
  {
   "cell_type": "code",
   "execution_count": 54,
   "metadata": {
    "collapsed": false
   },
   "outputs": [],
   "source": [
    "ratio = L_paper / (c.L_sun / (4*pi*(1*u.AU)**2))"
   ]
  },
  {
   "cell_type": "markdown",
   "metadata": {},
   "source": [
    "And now print the magnitude of this paper. Since it is exactly 1\" across, this **is** the number of mags per arcsec already."
   ]
  },
  {
   "cell_type": "code",
   "execution_count": 59,
   "metadata": {
    "collapsed": false
   },
   "outputs": [
    {
     "name": "stdout",
     "output_type": "stream",
     "text": [
      "Mags/arcsec of white paper at 43 AU = 10.807598973500095\n"
     ]
    }
   ],
   "source": [
    "mag_paper  = mag_sun + fac2mag(ratio)  # Mag of white paper, seen from Earth\n",
    "mpas_paper = mag_paper\n",
    "print(\"Mags/arcsec of white paper at 43 AU = {}\".format(mpas_paper))"
   ]
  },
  {
   "cell_type": "markdown",
   "metadata": {},
   "source": [
    "Now, we know the mags per arcsec of the region around MU69, as measured by Alex Parker. That means we can just calculate the 'filling factor' -- that is, how much fainter is that region, than a 1\" piece of paper."
   ]
  },
  {
   "cell_type": "code",
   "execution_count": 100,
   "metadata": {
    "collapsed": false
   },
   "outputs": [],
   "source": [
    "mpas_kbo_hst = 28            # Mags per arcsec. Alex Parker limit\n",
    "albedo_kbo   = 0.2           # Albedo assumed for the dust. \n",
    "r_dust       = 50*u.micron   # Size of the dust. A bit smaller than the sc safety limit.\n",
    "r_dust       = 0.2*u.mm      # Size of the dust, in my whitepaper\n",
    "A_sc         = 5*(u.meter)**2 # S/C cross-section, in my whitepaper"
   ]
  },
  {
   "cell_type": "code",
   "execution_count": 113,
   "metadata": {
    "collapsed": false
   },
   "outputs": [
    {
     "name": "stdout",
     "output_type": "stream",
     "text": [
      "Geometric filling factor = 1.3275154658191067e-07\n"
     ]
    }
   ],
   "source": [
    "fillfac = mag2fac(mpas_kbo_hst - mpas_paper)\n",
    "print (\"Geometric filling factor = {}\".format(fillfac))"
   ]
  },
  {
   "cell_type": "markdown",
   "metadata": {},
   "source": [
    "Now convert to particles per square meter, and bring in albedo."
   ]
  },
  {
   "cell_type": "code",
   "execution_count": 102,
   "metadata": {
    "collapsed": false
   },
   "outputs": [],
   "source": [
    "n = fillfac * ((1*u.meter**2) / (pi * r_dust**2)).to('1') / albedo_kbo"
   ]
  },
  {
   "cell_type": "code",
   "execution_count": 112,
   "metadata": {
    "collapsed": false
   },
   "outputs": [
    {
     "name": "stdout",
     "output_type": "stream",
     "text": [
      "5.282016210401271 particles of radius 0.2 mm per square meter\n",
      "26.410081052006355 particles hitting s/c during encounter\n"
     ]
    }
   ],
   "source": [
    "print(\"{} particles of radius {} per square meter\".format(n, r_dust))\n",
    "print(\"{} particles hitting s/c during encounter\".format(n*A_sc.to('m2').value))"
   ]
  },
  {
   "cell_type": "markdown",
   "metadata": {},
   "source": [
    "### Validate that my solar flux is correct"
   ]
  },
  {
   "cell_type": "code",
   "execution_count": 95,
   "metadata": {
    "collapsed": false
   },
   "outputs": [
    {
     "data": {
      "text/latex": [
       "$1367.5669 \\; \\mathrm{\\frac{W}{m^{2}}}$"
      ],
      "text/plain": [
       "<Quantity 1367.5669346816567 W / m2>"
      ]
     },
     "execution_count": 95,
     "metadata": {},
     "output_type": "execute_result"
    }
   ],
   "source": [
    "(c.L_sun / (4*pi*(1*u.AU)**2)).to('W/m2')"
   ]
  },
  {
   "cell_type": "code",
   "execution_count": 109,
   "metadata": {
    "collapsed": false
   },
   "outputs": [
    {
     "data": {
      "text/plain": [
       "5.0"
      ]
     },
     "execution_count": 109,
     "metadata": {},
     "output_type": "execute_result"
    }
   ],
   "source": [
    "A_sc.to('m2').value"
   ]
  },
  {
   "cell_type": "code",
   "execution_count": null,
   "metadata": {
    "collapsed": true
   },
   "outputs": [],
   "source": []
  }
 ],
 "metadata": {
  "anaconda-cloud": {},
  "kernelspec": {
   "display_name": "Python [conda env:py3]",
   "language": "python",
   "name": "conda-env-py3-py"
  },
  "language_info": {
   "codemirror_mode": {
    "name": "ipython",
    "version": 3
   },
   "file_extension": ".py",
   "mimetype": "text/x-python",
   "name": "python",
   "nbconvert_exporter": "python",
   "pygments_lexer": "ipython3",
   "version": "3.5.2"
  }
 },
 "nbformat": 4,
 "nbformat_minor": 1
}
