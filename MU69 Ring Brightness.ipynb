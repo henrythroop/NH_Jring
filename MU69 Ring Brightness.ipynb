{
 "cells": [
  {
   "cell_type": "markdown",
   "metadata": {},
   "source": [
    "## Convert MU69 halo surface brightness into particle density. "
   ]
  },
  {
   "cell_type": "markdown",
   "metadata": {},
   "source": [
    "In theory I could do this theoretically. There should be one published correct value for (mag per arcsec2, at a given distance) to (surface albedo). Assuming zero phase.\n",
    "\n",
    "I mean, mags per arcsec2 -- that's should translate directly into an amount of flux.\n",
    "\n",
    "Maybe just bootstrap off of the sun: -26.7 = 1400 W/m2. That's probably the best."
   ]
  },
  {
   "cell_type": "markdown",
   "metadata": {},
   "source": [
    "## Intialize things"
   ]
  },
  {
   "cell_type": "code",
   "execution_count": 2,
   "metadata": {
    "collapsed": false
   },
   "outputs": [],
   "source": [
    "import numpy as np\n",
    "import astropy\n",
    "import astropy.units as u\n",
    "import astropy.constants as c\n",
    "import math"
   ]
  },
  {
   "cell_type": "code",
   "execution_count": 56,
   "metadata": {
    "collapsed": true
   },
   "outputs": [],
   "source": [
    "# Define handy functions for magnitude conversion\n",
    "\n",
    "def fac2mag(fac):\n",
    "    import numpy as np\n",
    "    return np.log( 1/(1.*fac))/np.log(100**0.2)    \n",
    "\n",
    "def mag2fac(mag): \n",
    "    import numpy as np\n",
    "    return np.exp(-mag * np.log(100.**0.2))"
   ]
  },
  {
   "cell_type": "code",
   "execution_count": 4,
   "metadata": {
    "collapsed": false
   },
   "outputs": [],
   "source": [
    "# Define constants and inputs\n",
    "\n",
    "mag_sun  = -26.7\n",
    "dist_kbo = 43.4*u.AU  # Not sure of the current distance. Orbit is circular.: 42 .. 46 AU.\n",
    "pi       = math.pi    # Just for convenience\n",
    "dx       = dist_kbo * 1*u.arcsecond.to('radian') # Calc the dim's of a 1 arcsec \n",
    "                                                 # paper target as seen from Sun\n",
    "    \n",
    "N_desired  = 0.001                                # Number of hits \n",
    "N_required = 0.01                               # Number of hits \n",
    "\n",
    "mpas_kbo_hst = 28            # Mags per arcsec. Alex Parker limit\n",
    "albedo_kbo   = 0.2           # Albedo assumed for the dust. \n",
    "r_dust       = 50*u.micron   # Size of the dust. A bit smaller than the sc safety limit.\n",
    "#r_dust       = 0.2*u.mm      # Size of the dust, in my whitepaper\n",
    "A_sc         = 5*(u.meter)**2 # S/C cross-section, in my whitepaper"
   ]
  },
  {
   "cell_type": "markdown",
   "metadata": {},
   "source": [
    "Let's put a 1 arcsec piece of white paper at 43 AU. How much solar flux does it reflect back to Earth?"
   ]
  },
  {
   "cell_type": "code",
   "execution_count": 5,
   "metadata": {
    "collapsed": false
   },
   "outputs": [],
   "source": [
    "L_paper = c.L_sun * 1/(4*pi*(dist_kbo)**2) * dx**2 * 1/(4*pi*(dist_kbo)**2)"
   ]
  },
  {
   "cell_type": "markdown",
   "metadata": {},
   "source": [
    "How big is that paper?"
   ]
  },
  {
   "cell_type": "code",
   "execution_count": 6,
   "metadata": {
    "collapsed": false
   },
   "outputs": [
    {
     "data": {
      "text/latex": [
       "$31476.759 \\; \\mathrm{km}$"
      ],
      "text/plain": [
       "<Quantity 31476.75896101348 km>"
      ]
     },
     "execution_count": 6,
     "metadata": {},
     "output_type": "execute_result"
    }
   ],
   "source": [
    "dx.to('km')"
   ]
  },
  {
   "cell_type": "code",
   "execution_count": 7,
   "metadata": {
    "collapsed": false
   },
   "outputs": [
    {
     "data": {
      "text/latex": [
       "$1.3580289 \\times 10^{-12} \\; \\mathrm{\\frac{W}{m^{2}}}$"
      ],
      "text/plain": [
       "<Quantity 1.3580288693349867e-12 W / m2>"
      ]
     },
     "execution_count": 7,
     "metadata": {},
     "output_type": "execute_result"
    }
   ],
   "source": [
    "L_paper.to('W/m**2')"
   ]
  },
  {
   "cell_type": "markdown",
   "metadata": {},
   "source": [
    "Validate that my solar flux is correct"
   ]
  },
  {
   "cell_type": "code",
   "execution_count": 8,
   "metadata": {
    "collapsed": false
   },
   "outputs": [
    {
     "name": "stdout",
     "output_type": "stream",
     "text": [
      "Solar flux = 1367.57 W / m2\n"
     ]
    }
   ],
   "source": [
    "print(\"Solar flux = {:.2f}\".format((c.L_sun / (4*pi*(1*u.AU)**2)).to('W/m2')))"
   ]
  },
  {
   "cell_type": "markdown",
   "metadata": {},
   "source": [
    "Now, how many magnitudes per arcsec is this? Sun has a total brightness of -26.7, as seen on Earth. How many times fainter is this white piece of paper, than the Sun would be, at Earth?"
   ]
  },
  {
   "cell_type": "code",
   "execution_count": 9,
   "metadata": {
    "collapsed": false
   },
   "outputs": [],
   "source": [
    "ratio = L_paper / (c.L_sun / (4*pi*(1*u.AU)**2))"
   ]
  },
  {
   "cell_type": "markdown",
   "metadata": {},
   "source": [
    "And now print the magnitude of this paper. Since it is exactly 1\" across, this **is** the number of mags per arcsec already."
   ]
  },
  {
   "cell_type": "code",
   "execution_count": 10,
   "metadata": {
    "collapsed": false
   },
   "outputs": [
    {
     "name": "stdout",
     "output_type": "stream",
     "text": [
      "Mags/arcsec of white paper at 43 AU = 10.807598973500095\n"
     ]
    }
   ],
   "source": [
    "mag_paper  = mag_sun + fac2mag(ratio)  # Mag of white paper, seen from Earth\n",
    "mpas_paper = mag_paper\n",
    "print(\"Mags/arcsec of white paper at 43 AU = {}\".format(mpas_paper))"
   ]
  },
  {
   "cell_type": "markdown",
   "metadata": {},
   "source": [
    "Now, we know the mags per arcsec of the region around MU69, as measured by Alex Parker. That means we can just calculate the 'filling factor' -- that is, how much fainter is that region, than a 1\" piece of paper."
   ]
  },
  {
   "cell_type": "code",
   "execution_count": 11,
   "metadata": {
    "collapsed": false
   },
   "outputs": [
    {
     "name": "stdout",
     "output_type": "stream",
     "text": [
      "Geometric filling factor (ie, tau) = 1.33e-07\n"
     ]
    }
   ],
   "source": [
    "fillfac = mag2fac(mpas_kbo_hst - mpas_paper)\n",
    "print (\"Geometric filling factor (ie, tau) = {:.2e}\".format(fillfac))"
   ]
  },
  {
   "cell_type": "markdown",
   "metadata": {},
   "source": [
    "Ignore this 'Filling Factor' stuff. We want to do this in terms of I/F."
   ]
  },
  {
   "cell_type": "code",
   "execution_count": null,
   "metadata": {
    "collapsed": true
   },
   "outputs": [],
   "source": []
  },
  {
   "cell_type": "markdown",
   "metadata": {},
   "source": [
    "Now convert to particles per square meter, and bring in albedo."
   ]
  },
  {
   "cell_type": "code",
   "execution_count": 12,
   "metadata": {
    "collapsed": false
   },
   "outputs": [],
   "source": [
    "n = fillfac * ((1*u.meter**2) / (pi * r_dust**2)).to('1') / albedo_kbo # Number density per sq meter\n",
    "N = n * A_sc.to('m2').value                                            # Number of particles hit during encounter"
   ]
  },
  {
   "cell_type": "markdown",
   "metadata": {},
   "source": [
    "## Print the final results"
   ]
  },
  {
   "cell_type": "code",
   "execution_count": 13,
   "metadata": {
    "collapsed": false
   },
   "outputs": [
    {
     "name": "stdout",
     "output_type": "stream",
     "text": [
      "84.51 particles of radius 50.0 micron per square meter\n",
      "422.56 particles hitting s/c during encounter\n"
     ]
    }
   ],
   "source": [
    "print(\"{:.2f} particles of radius {} per square meter\".format(n, r_dust))\n",
    "print(\"{:.2f} particles hitting s/c during encounter\".format(N))"
   ]
  },
  {
   "cell_type": "markdown",
   "metadata": {},
   "source": [
    "Now, let's say we want to do this backwards: for a given N, what fillfac do we want? It is just linear scaling."
   ]
  },
  {
   "cell_type": "code",
   "execution_count": 14,
   "metadata": {
    "collapsed": false
   },
   "outputs": [
    {
     "data": {
      "text/latex": [
       "$2.3809524 \\times 10^{-5} \\; \\mathrm{\\frac{1}{m^{2}}}$"
      ],
      "text/plain": [
       "<Quantity 2.380952380952381e-05 1 / m2>"
      ]
     },
     "execution_count": 14,
     "metadata": {},
     "output_type": "execute_result"
    }
   ],
   "source": [
    "N   = N_required / A_sc\n",
    "N / 84"
   ]
  },
  {
   "cell_type": "markdown",
   "metadata": {},
   "source": [
    "NB: Becuase this is in reflected light (not transmitted) we want to deal in I/F, not tau."
   ]
  },
  {
   "cell_type": "code",
   "execution_count": 15,
   "metadata": {
    "collapsed": false
   },
   "outputs": [
    {
     "data": {
      "text/plain": [
       "1680.0"
      ]
     },
     "execution_count": 15,
     "metadata": {},
     "output_type": "execute_result"
    }
   ],
   "source": [
    "84 / 0.05"
   ]
  },
  {
   "cell_type": "markdown",
   "metadata": {
    "collapsed": true
   },
   "source": [
    "# Part 2: Do some estimates for how a sunflower dust ring would affect the rotational light curve"
   ]
  },
  {
   "cell_type": "markdown",
   "metadata": {},
   "source": [
    "Alex Parker says that MU69 rotational light curve is 0.2 mags. This is pretty normal for KBOs, according to Trilling & Bernstein (2006), who list light curves for 65 of them, and nearly all are < 0.5, with many < 0.1. However, with MU69 being a binary / oblong, it is harder to explain why the magnitude is so small.\n",
    "\n",
    "Hypothesis: if surface area of ring is comparable to surface area of MU69, then light curve could be affected."
   ]
  },
  {
   "cell_type": "code",
   "execution_count": 57,
   "metadata": {
    "collapsed": false
   },
   "outputs": [],
   "source": [
    "r_mu69    = 10*u.km\n",
    "r_annulus = np.array([4000, 6000])*u.km # This is the annulus that AP searched."
   ]
  },
  {
   "cell_type": "code",
   "execution_count": 58,
   "metadata": {
    "collapsed": false
   },
   "outputs": [],
   "source": [
    "A_annulus = pi * (r_annulus[1]**2 - r_annulus[0]**2)\n",
    "A_mu69 = pi * r_mu69**2"
   ]
  },
  {
   "cell_type": "code",
   "execution_count": 59,
   "metadata": {
    "collapsed": true
   },
   "outputs": [],
   "source": [
    "ratio = A_annulus * fillfac / A_mu69"
   ]
  },
  {
   "cell_type": "code",
   "execution_count": 60,
   "metadata": {
    "collapsed": false
   },
   "outputs": [
    {
     "data": {
      "text/latex": [
       "$0.026550309 \\; \\mathrm{}$"
      ],
      "text/plain": [
       "<Quantity 0.026550309316382137>"
      ]
     },
     "execution_count": 60,
     "metadata": {},
     "output_type": "execute_result"
    }
   ],
   "source": [
    "ratio"
   ]
  },
  {
   "cell_type": "markdown",
   "metadata": {},
   "source": [
    "Well, there's our answer. With the *measured upper limit* amount of dust, the amount of surface area in the ring in no way approaches the surface area of MU69.\n",
    "\n",
    "With the *dangerous* amount of dust -- which is much much less -- then the ring surface area would be that much smaller even."
   ]
  }
 ],
 "metadata": {
  "anaconda-cloud": {},
  "kernelspec": {
   "display_name": "Python [conda env:py3]",
   "language": "python",
   "name": "conda-env-py3-py"
  },
  "language_info": {
   "codemirror_mode": {
    "name": "ipython",
    "version": 3
   },
   "file_extension": ".py",
   "mimetype": "text/x-python",
   "name": "python",
   "nbconvert_exporter": "python",
   "pygments_lexer": "ipython3",
   "version": "3.5.2"
  }
 },
 "nbformat": 4,
 "nbformat_minor": 1
}
