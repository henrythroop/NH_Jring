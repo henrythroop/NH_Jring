{
 "cells": [
  {
   "cell_type": "markdown",
   "metadata": {},
   "source": [
    "# NH MU69 Rings Planning"
   ]
  },
  {
   "cell_type": "markdown",
   "metadata": {},
   "source": [
    "## Initialize python"
   ]
  },
  {
   "cell_type": "code",
   "execution_count": 102,
   "metadata": {
    "collapsed": false
   },
   "outputs": [],
   "source": [
    "import astropy.units as u\n",
    "import astropy.constants as c\n",
    "import math\n",
    "import astropy\n",
    "import numpy as np\n",
    "import matplotlib.pyplot as plt\n",
    "import pymiecoated # Mie scattering library\n",
    "import spiceypy as sp\n",
    "from astropy.table import Table\n",
    "\n",
    "import warnings\n",
    "warnings.filterwarnings(\"ignore\", category=np.VisibleDeprecationWarning) \n",
    "                                    # Ignore warnings caused by pymiecoated's numpy usage \n",
    "\n",
    "import matplotlib                   # Set latex to use *not* CMR.\n",
    "matplotlib.rcParams['mathtext.fontset'] = 'stixsans'\n",
    "\n",
    "r2d = 360 / (2*math.pi)             # Radians to degrees\n",
    "d2r = 1/r2d\n",
    "\n",
    "file_kernel = '/Users/throop/gv/dev/gv_kernels_new_horizons.txt'"
   ]
  },
  {
   "cell_type": "markdown",
   "metadata": {},
   "source": [
    "## Set up some physical constants for NH and the encounter"
   ]
  },
  {
   "cell_type": "code",
   "execution_count": 178,
   "metadata": {
    "collapsed": false
   },
   "outputs": [],
   "source": [
    "a_pluto_ca   = 33*u.au             # NH heliocentric distance at Pluto flyby\n",
    "a_mu69_ca    = 43*u.au             # NH heliocentric distance at MU69 flyby\n",
    "\n",
    "a_ring_phoebe_inner = (50*t['radius'][index_saturn])\n",
    "a_ring_phoebe_outer = (300*t['radius'][index_saturn])\n",
    "\n",
    "rho_pluto       = 2.5 * u.gram/u.cm**3\n",
    "rho_mu69        = 2.5 * u.gram/u.cm**3\n",
    "\n",
    "a_hydra      = 65000 * u.km        # Hydra orbital distance around Pluto\n",
    "\n",
    "fov_mvic     = 5.7 * d2r           # MVIC FOV, in radians\n",
    "fov_lorri    = 0.3 * d2r           # LORRI FOV width, in radians \n",
    "\n",
    "sp.furnsh(file_kernel)"
   ]
  },
  {
   "cell_type": "code",
   "execution_count": 98,
   "metadata": {
    "collapsed": false
   },
   "outputs": [],
   "source": [
    "### Calc NH velocity. This kernel doesn't have MU69 in it, so just use Pluto flyby. Velocities are about the same.\n",
    "\n",
    "utc = '1 Jan 2016'\n",
    "et = sp.utc2et(utc)\n",
    "(st,lt) = sp.spkezr('Pluto', et, 'J2000', 'LT+S', 'New Horizons')\n",
    "v_nh = sp.vnorm(st[3:6])*u.km/u.second"
   ]
  },
  {
   "cell_type": "markdown",
   "metadata": {},
   "source": [
    "## Calculate the Hill sphere for a few bodies\n",
    "\n",
    "$$r_H = a \\sqrt[3]{m\\over {3 M}}$$"
   ]
  },
  {
   "cell_type": "code",
   "execution_count": 224,
   "metadata": {
    "collapsed": false
   },
   "outputs": [],
   "source": [
    "# Set up an astropy table with data for a few different planets\n",
    "\n",
    "name = np.array(['Pluto', 'MU69', 'Saturn', 'Chariklo'])\n",
    "rho  = np.array([2.5,     2.5,     1,        2.5])*u.gram/u.cm**3\n",
    "r    = np.array([1187, 16.5, 58232, 200])*u.km\n",
    "a    = np.array([33, 43, 10, 15.7])*u.au\n",
    "\n",
    "# Create the table\n",
    "\n",
    "t = Table([name, rho, r, a], names=['Name', 'rho', 'radius', 'a'])\n",
    "\n",
    "# Now do some math on the table. Note that for weird reasons, table columns' units get messed up if\n",
    "# we just directly multiply them. We need to use .quantity to do it properly. This is documented\n",
    "# but weird. See bottom of http://docs.astropy.org/en/stable/table/access_table.html\n",
    "\n",
    "t['mass'] = (4/3. * math.pi * (t['radius'].quantity)**3 * t['rho'].quantity).to('kg')\n",
    "t['a_hill']  = (a * (t['mass'].quantity/c.M_sun/3)**(1/3)).to('km')\n",
    "\n",
    "# Add some more columns. \n",
    "t['a_hill / a_hydra'] = t['a_hill'].quantity / a_hydra   # Hill radius, in Hydra orbital radii\n",
    "\n",
    "t['a_hill / r_<body>'] = t['a_hill'].quantity / t['radius'] # Hill radius, in body radii\n",
    "\n",
    "t['t for MVIC halfwidth a_hill'] =  (t['a_hill'].quantity / (fov_mvic/2) / v_nh).to('day') \n",
    "                                                            # Time at which MVIC can see to Hill radius on each side\n",
    "\n",
    "# Add some shortcuts to access individual rows. \n",
    "# Astropy does not allow e.g., t['Radius']['Saturn'] -- have to do t['Radius'][index_saturn]\n",
    "\n",
    "index_pluto   = t['Name'] == 'Pluto'\n",
    "index_mu69    = t['Name'] == 'MU69'\n",
    "index_saturn  = t['Name'] == 'Saturn'\n",
    "index_chariklo= t['Name'] == 'Chariklo'\n",
    "\n",
    "# Set the column formatting\n",
    "\n",
    "t['mass'].format = \"%6.1e\"\n",
    "t['a_hill'].format = \"%6.1f\"\n",
    "t['a_hill / a_hydra'].format = \"%6.1f\"\n",
    "t['a_hill / r_<body>'].format = \"%6.1f\"\n",
    "t['t for MVIC halfwidth a_hill'].format = \"%6.1f\""
   ]
  },
  {
   "cell_type": "code",
   "execution_count": 227,
   "metadata": {
    "collapsed": false
   },
   "outputs": [
    {
     "data": {
      "text/html": [
       "&lt;Table length=4&gt;\n",
       "<table id=\"table4660961800\" class=\"table-striped table-bordered table-condensed\">\n",
       "<thead><tr><th>Name</th><th>rho</th><th>radius</th><th>a</th><th>mass</th><th>a_hill</th><th>a_hill / a_hydra</th><th>a_hill / r_&lt;body&gt;</th><th>t for MVIC halfwidth a_hill</th></tr></thead>\n",
       "<thead><tr><th></th><th>g / cm3</th><th>km</th><th>AU</th><th>kg</th><th>km</th><th></th><th></th><th>d</th></tr></thead>\n",
       "<thead><tr><th>str8</th><th>float64</th><th>float64</th><th>float64</th><th>float64</th><th>float64</th><th>float64</th><th>float64</th><th>float64</th></tr></thead>\n",
       "<tr><td>Pluto</td><td>2.5</td><td>1187.0</td><td>33.0</td><td>1.8e+22</td><td>7068170.0</td><td>108.7</td><td>5954.7</td><td>119.1</td></tr>\n",
       "<tr><td>MU69</td><td>2.5</td><td>16.5</td><td>43.0</td><td>4.7e+16</td><td>128025.0</td><td>2.0</td><td>7759.1</td><td>2.2</td></tr>\n",
       "<tr><td>Saturn</td><td>1.0</td><td>58232.0</td><td>10.0</td><td>8.3e+26</td><td>77420748.2</td><td>1191.1</td><td>1329.5</td><td>1305.0</td></tr>\n",
       "<tr><td>Chariklo</td><td>2.5</td><td>200.0</td><td>15.7</td><td>8.4e+19</td><td>566594.0</td><td>8.7</td><td>2833.0</td><td>9.6</td></tr>\n",
       "</table>"
      ],
      "text/plain": [
       "<Table length=4>\n",
       "  Name     rho    radius ... a_hill / r_<body> t for MVIC halfwidth a_hill\n",
       "         g / cm3    km   ...                                d             \n",
       "  str8   float64 float64 ...      float64                float64          \n",
       "-------- ------- ------- ... ----------------- ---------------------------\n",
       "   Pluto     2.5  1187.0 ...            5954.7                       119.1\n",
       "    MU69     2.5    16.5 ...            7759.1                         2.2\n",
       "  Saturn     1.0 58232.0 ...            1329.5                      1305.0\n",
       "Chariklo     2.5   200.0 ...            2833.0                         9.6"
      ]
     },
     "execution_count": 227,
     "metadata": {},
     "output_type": "execute_result"
    }
   ],
   "source": [
    "t"
   ]
  },
  {
   "cell_type": "markdown",
   "metadata": {},
   "source": [
    "So, a few interesting things from above. \n",
    "\n",
    "* MU69 rings go out to 2 R_hydra. That is the Hill radius.\n",
    "* Pluto's hill radius goes out to 100 R_hydra. Much further.\n",
    "* For Pluto, when we imaged at P+110d, that was out to about 0.95 R_hill on each side. But for MU69, we will do the same observation at P+2.2d."
   ]
  },
  {
   "cell_type": "markdown",
   "metadata": {},
   "source": [
    "Oh wow. So, at Pluto it made sense to search at P+100 days, because that was basically the Hill radius. But at MU69, the Hill radius is 50x smaller, so all the searching must be done much closer in."
   ]
  },
  {
   "cell_type": "markdown",
   "metadata": {},
   "source": [
    "At what point does MVIC see out to the Hill radius on each side of MU69?"
   ]
  },
  {
   "cell_type": "markdown",
   "metadata": {},
   "source": [
    "### Where is the Phoebe ring, in hill spheres?"
   ]
  },
  {
   "cell_type": "code",
   "execution_count": 229,
   "metadata": {
    "collapsed": false
   },
   "outputs": [
    {
     "data": {
      "text/plain": [
       "array([ True, False, False, False], dtype=bool)"
      ]
     },
     "execution_count": 229,
     "metadata": {},
     "output_type": "execute_result"
    }
   ],
   "source": [
    "index_pluto"
   ]
  },
  {
   "cell_type": "code",
   "execution_count": 187,
   "metadata": {
    "collapsed": false
   },
   "outputs": [
    {
     "name": "stdout",
     "output_type": "stream",
     "text": [
      "[ 1329.5223969]\n"
     ]
    }
   ],
   "source": [
    "print(t['a_h'][index_saturn].quantity / t['radius'][index_saturn].quantity)"
   ]
  },
  {
   "cell_type": "code",
   "execution_count": 189,
   "metadata": {
    "collapsed": false
   },
   "outputs": [
    {
     "name": "stdout",
     "output_type": "stream",
     "text": [
      "[ 0.22564494]\n"
     ]
    }
   ],
   "source": [
    "# Calculate Phoebe ring in Saturn hill radii\n",
    "\n",
    "print(a_ring_phoebe_outer / t['a_hill'][index_saturn].quantity)"
   ]
  },
  {
   "cell_type": "markdown",
   "metadata": {},
   "source": [
    "OK, these are at 0.2 R_Hill. I was concerned they were so far out that they were beyond the Hill radius. But no, not the case."
   ]
  }
 ],
 "metadata": {
  "anaconda-cloud": {},
  "kernelspec": {
   "display_name": "Python [conda env:py3]",
   "language": "python",
   "name": "conda-env-py3-py"
  },
  "language_info": {
   "codemirror_mode": {
    "name": "ipython",
    "version": 3
   },
   "file_extension": ".py",
   "mimetype": "text/x-python",
   "name": "python",
   "nbconvert_exporter": "python",
   "pygments_lexer": "ipython3",
   "version": "3.5.2"
  }
 },
 "nbformat": 4,
 "nbformat_minor": 1
}
