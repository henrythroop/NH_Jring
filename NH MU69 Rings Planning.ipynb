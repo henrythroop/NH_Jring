{
 "cells": [
  {
   "cell_type": "markdown",
   "metadata": {},
   "source": [
    "# NH MU69 Rings Planning"
   ]
  },
  {
   "cell_type": "markdown",
   "metadata": {},
   "source": [
    "## I start off here with a bunch of calculations for the MVIC outbound rings search."
   ]
  },
  {
   "cell_type": "markdown",
   "metadata": {},
   "source": [
    "## Initialize python"
   ]
  },
  {
   "cell_type": "code",
   "execution_count": 4,
   "metadata": {
    "collapsed": false
   },
   "outputs": [],
   "source": [
    "import astropy.units as u\n",
    "import astropy.constants as c\n",
    "import math\n",
    "import astropy\n",
    "import numpy as np\n",
    "import matplotlib.pyplot as plt\n",
    "import pymiecoated # Mie scattering library\n",
    "import spiceypy as sp\n",
    "from astropy.table import Table\n",
    "\n",
    "import warnings\n",
    "warnings.filterwarnings(\"ignore\", category=np.VisibleDeprecationWarning) \n",
    "                                    # Ignore warnings caused by pymiecoated's numpy usage \n",
    "\n",
    "import matplotlib                   # Set latex to use *not* CMR.\n",
    "matplotlib.rcParams['mathtext.fontset'] = 'stixsans'\n",
    "\n",
    "r2d = 360 / (2*math.pi)             # Radians to degrees\n",
    "d2r = 1/r2d\n",
    "\n",
    "file_kernel = '/Users/throop/gv/dev/gv_kernels_new_horizons.txt'"
   ]
  },
  {
   "cell_type": "markdown",
   "metadata": {},
   "source": [
    "## Calculate the Hill radius for a few bodies\n",
    "\n",
    "$$r_H = a \\sqrt[3]{m\\over {3 M}}$$"
   ]
  },
  {
   "cell_type": "markdown",
   "metadata": {},
   "source": [
    "## Set up some physical constants for NH and the encounter"
   ]
  },
  {
   "cell_type": "code",
   "execution_count": 52,
   "metadata": {
    "collapsed": false
   },
   "outputs": [],
   "source": [
    "a_pluto_ca   = 33*u.au             # NH heliocentric distance at Pluto flyby\n",
    "a_mu69_ca    = 43*u.au             # NH heliocentric distance at MU69 flyby\n",
    "\n",
    "dist_mu69_ca = 3046*u.km            # Distance from NHGV\n",
    "\n",
    "rho_pluto       = 2.5 * u.gram/u.cm**3\n",
    "rho_mu69        = 2.5 * u.gram/u.cm**3\n",
    "\n",
    "a_hydra      = 65000 * u.km        # Hydra orbital distance around Pluto\n",
    "\n",
    "fov_mvic     = 5.7 * d2r           # MVIC FOV, in radians\n",
    "fov_lorri    = 0.3 * d2r           # LORRI FOV width, in radians \n",
    "\n",
    "resolution_mvic = fov_mvic / 5000   # Resolution in radians\n",
    "resolution_lorri = fov_lorri / 1024 # Resolution in radians\n",
    "\n",
    "sp.furnsh(file_kernel)"
   ]
  },
  {
   "cell_type": "code",
   "execution_count": 6,
   "metadata": {
    "collapsed": false
   },
   "outputs": [],
   "source": [
    "### Calc NH velocity. This kernel doesn't have MU69 in it, so just use Pluto flyby. Velocities are about the same.\n",
    "\n",
    "utc = '1 Jan 2016'\n",
    "et = sp.utc2et(utc)\n",
    "(st,lt) = sp.spkezr('Pluto', et, 'J2000', 'LT+S', 'New Horizons')\n",
    "v_nh = sp.vnorm(st[3:6])*u.km/u.second"
   ]
  },
  {
   "cell_type": "code",
   "execution_count": 7,
   "metadata": {
    "collapsed": false
   },
   "outputs": [],
   "source": [
    "# Set up an astropy table with data for a few different planets\n",
    "\n",
    "name = np.array(['Pluto', 'MU69', 'Saturn', 'Chariklo', 'Chiron'])\n",
    "rho  = np.array([2.5,     2.5,     1,        2.5,       2.5])*u.gram/u.cm**3\n",
    "r    = np.array([1187,    16.5,    58232,    200,       109])*u.km\n",
    "a    = np.array([33,      43,      10,       15.7,      13])*u.au\n",
    "\n",
    "# Create the table\n",
    "\n",
    "t = Table([name, rho, r, a], names=['Name', 'rho', 'radius', 'a'])\n",
    "\n",
    "# Now do some math on the table. Note that for weird reasons, table columns' units get messed up if\n",
    "# we just directly multiply them. We need to use .quantity to do it properly. This is documented\n",
    "# but weird. See bottom of http://docs.astropy.org/en/stable/table/access_table.html\n",
    "\n",
    "t['mass'] = (4/3. * math.pi * (t['radius'].quantity)**3 * t['rho'].quantity).to('kg')\n",
    "t['a_hill']  = (a * (t['mass'].quantity/c.M_sun/3)**(1/3)).to('km')\n",
    "\n",
    "# Add some more columns. \n",
    "t['a_hill / a_hydra'] = t['a_hill'].quantity / a_hydra   # Hill radius, in Hydra orbital radii\n",
    "\n",
    "t['a_hill / r_<body>'] = t['a_hill'].quantity / t['radius'] # Hill radius, in body radii\n",
    "\n",
    "t['t for MVIC halfwidth a_hill'] =  (t['a_hill'].quantity / (fov_mvic/2) / v_nh).to('day') \n",
    "                                                            # Time at which MVIC can see to Hill radius on each side\n",
    "\n",
    "# Add some shortcuts to access individual rows. \n",
    "# Astropy does not allow e.g., t['Radius']['Saturn'] -- have to do t['Radius'][index_saturn]\n",
    "\n",
    "index_pluto   = t['Name'] == 'Pluto'\n",
    "index_mu69    = t['Name'] == 'MU69'\n",
    "index_saturn  = t['Name'] == 'Saturn'\n",
    "index_chariklo= t['Name'] == 'Chariklo'\n",
    "\n",
    "# Set the column formatting\n",
    "\n",
    "t['mass'].format = \"%6.1e\"\n",
    "t['a_hill'].format = \"%6.1f\"\n",
    "t['a_hill / a_hydra'].format = \"%6.1f\"\n",
    "t['a_hill / r_<body>'].format = \"%6.1f\"\n",
    "t['t for MVIC halfwidth a_hill'].format = \"%6.1f\""
   ]
  },
  {
   "cell_type": "code",
   "execution_count": 8,
   "metadata": {
    "collapsed": false
   },
   "outputs": [
    {
     "data": {
      "text/html": [
       "&lt;Table length=4&gt;\n",
       "<table id=\"table4648705832\" class=\"table-striped table-bordered table-condensed\">\n",
       "<thead><tr><th>Name</th><th>rho</th><th>radius</th><th>a</th><th>mass</th><th>a_hill</th><th>a_hill / a_hydra</th><th>a_hill / r_&lt;body&gt;</th><th>t for MVIC halfwidth a_hill</th></tr></thead>\n",
       "<thead><tr><th></th><th>g / cm3</th><th>km</th><th>AU</th><th>kg</th><th>km</th><th></th><th></th><th>d</th></tr></thead>\n",
       "<thead><tr><th>str8</th><th>float64</th><th>float64</th><th>float64</th><th>float64</th><th>float64</th><th>float64</th><th>float64</th><th>float64</th></tr></thead>\n",
       "<tr><td>Pluto</td><td>2.5</td><td>1187.0</td><td>33.0</td><td>1.8e+22</td><td>7068170.0</td><td>108.7</td><td>5954.7</td><td>119.1</td></tr>\n",
       "<tr><td>MU69</td><td>2.5</td><td>16.5</td><td>43.0</td><td>4.7e+16</td><td>128025.0</td><td>2.0</td><td>7759.1</td><td>2.2</td></tr>\n",
       "<tr><td>Saturn</td><td>1.0</td><td>58232.0</td><td>10.0</td><td>8.3e+26</td><td>77420748.2</td><td>1191.1</td><td>1329.5</td><td>1305.0</td></tr>\n",
       "<tr><td>Chariklo</td><td>2.5</td><td>200.0</td><td>15.7</td><td>8.4e+19</td><td>566594.0</td><td>8.7</td><td>2833.0</td><td>9.6</td></tr>\n",
       "</table>"
      ],
      "text/plain": [
       "<Table length=4>\n",
       "  Name     rho    radius ... a_hill / r_<body> t for MVIC halfwidth a_hill\n",
       "         g / cm3    km   ...                                d             \n",
       "  str8   float64 float64 ...      float64                float64          \n",
       "-------- ------- ------- ... ----------------- ---------------------------\n",
       "   Pluto     2.5  1187.0 ...            5954.7                       119.1\n",
       "    MU69     2.5    16.5 ...            7759.1                         2.2\n",
       "  Saturn     1.0 58232.0 ...            1329.5                      1305.0\n",
       "Chariklo     2.5   200.0 ...            2833.0                         9.6"
      ]
     },
     "execution_count": 8,
     "metadata": {},
     "output_type": "execute_result"
    }
   ],
   "source": [
    "t"
   ]
  },
  {
   "cell_type": "markdown",
   "metadata": {},
   "source": [
    "So, a few interesting things from above. \n",
    "\n",
    "* MU69 rings go out to 2.0 a_hydra. That is the Hill radius.\n",
    "* Pluto's hill radius goes out to 108 a_hydra. Much further.\n",
    "* Roche radius is not plotted, but is usually ~2.5 r_body. So, 2000x closer in than a_hill.\n",
    "* For Pluto, when we imaged at P+110d, that was out to about 0.95 R_hill on each side. But for MU69, we will do the same observation at P+2.2d."
   ]
  },
  {
   "cell_type": "markdown",
   "metadata": {},
   "source": [
    "Oh wow. So, at Pluto it made sense to search at P+100 days, because that was basically the Hill radius. But at MU69, the Hill radius is 50x smaller, so all the searching must be done much closer in."
   ]
  },
  {
   "cell_type": "markdown",
   "metadata": {},
   "source": [
    "At what point does MVIC see out to the Hill radius on each side of MU69?"
   ]
  },
  {
   "cell_type": "markdown",
   "metadata": {},
   "source": [
    "### Where is the Phoebe ring, in Hill radii?"
   ]
  },
  {
   "cell_type": "code",
   "execution_count": 29,
   "metadata": {
    "collapsed": false
   },
   "outputs": [],
   "source": [
    "a_ring_phoebe_inner = (50*t['radius'][index_saturn])\n",
    "a_ring_phoebe_outer = (300*t['radius'][index_saturn])\n",
    "\n",
    "a_ring_chiron = 324*u.km\n",
    "\n",
    "a_ring_chariklo_a = 396*u.km\n",
    "a_ring_chariklo_b = 405*u.km"
   ]
  },
  {
   "cell_type": "code",
   "execution_count": 31,
   "metadata": {
    "collapsed": false
   },
   "outputs": [
    {
     "name": "stdout",
     "output_type": "stream",
     "text": [
      "[ 0.03760749]\n",
      "[ 0.22564494]\n"
     ]
    }
   ],
   "source": [
    "# Calculate Phoebe ring in Saturn Hill radii\n",
    "# Strange astropy issue here: if we do np.array((a_inner, a_outer)) then the units are lost entirely! Weird.\n",
    "\n",
    "print(a_ring_phoebe_inner / t['a_hill'][index_saturn].quantity)\n",
    "print(a_ring_phoebe_outer / t['a_hill'][index_saturn].quantity)"
   ]
  },
  {
   "cell_type": "code",
   "execution_count": 28,
   "metadata": {
    "collapsed": false
   },
   "outputs": [
    {
     "name": "stdout",
     "output_type": "stream",
     "text": [
      "[ 0.0007148]\n"
     ]
    }
   ],
   "source": [
    "# Calculate Chariklo ring in Hill radii\n",
    "\n",
    "print(a_ring_chariklo_b / t['a_hill'][index_chariklo].quantity)"
   ]
  },
  {
   "cell_type": "markdown",
   "metadata": {},
   "source": [
    "Phoebe ring is at 0.2 R_Hill. I was concerned they were so far out that they were beyond the Hill radius. But no, not the case.\n",
    "\n",
    "Also, don't confuse Hill radius with Roche radius. Rings are usually at Roche, but might be as far out as Hill, which is many many times further."
   ]
  },
  {
   "cell_type": "markdown",
   "metadata": {},
   "source": [
    "## Make a table that I will put into the NH MU69 planning wiki.\n",
    "\n",
    "This should list resolution at a few different times."
   ]
  },
  {
   "cell_type": "code",
   "execution_count": 78,
   "metadata": {
    "collapsed": false
   },
   "outputs": [],
   "source": [
    "time = np.array([0, 0.5, 4, 50])*u.hour"
   ]
  },
  {
   "cell_type": "code",
   "execution_count": 79,
   "metadata": {
    "collapsed": false
   },
   "outputs": [
    {
     "data": {
      "text/latex": [
       "$[0,~0.49437284,~3.9549828,~49.437284] \\; \\mathrm{km}$"
      ],
      "text/plain": [
       "<Quantity [  0.        ,  0.49437284,  3.95498276, 49.43728446] km>"
      ]
     },
     "execution_count": 79,
     "metadata": {},
     "output_type": "execute_result"
    }
   ],
   "source": [
    "(t2['Time'].quantity * v_nh * resolution_mvic).to('km')"
   ]
  },
  {
   "cell_type": "code",
   "execution_count": 80,
   "metadata": {
    "collapsed": false
   },
   "outputs": [],
   "source": [
    "t2 = Table([time], names=['Time'])"
   ]
  },
  {
   "cell_type": "code",
   "execution_count": 83,
   "metadata": {
    "collapsed": false
   },
   "outputs": [],
   "source": [
    "t2['Distance']                = (t2['Time'].quantity     * v_nh + dist_mu69_ca).to('km')\n",
    "t2['Resolution per MVIC pix'] = (t2['Distance'].quantity * resolution_mvic).to('km')\n",
    "t2['Halfwidth km']            = (t2['Distance'].quantity * fov_mvic/2).to('km')\n",
    "t2['Halfwidth a_hill_mu69']   = (t2['Distance'].quantity * fov_mvic/2 / t['a_hill'][index_mu69]).to('')\n",
    "                               \n",
    "t2['Resolution per MVIC pix'].format = \"%6.2f\"\n",
    "t2['Halfwidth km'].format = \"%6.1f\"\n",
    "t2['Halfwidth a_hill_mu69'].format = \"%6.5f\"\n",
    "t2['Distance'].format = \"%6.1f\""
   ]
  },
  {
   "cell_type": "code",
   "execution_count": 84,
   "metadata": {
    "collapsed": false
   },
   "outputs": [
    {
     "data": {
      "text/html": [
       "&lt;Table length=4&gt;\n",
       "<table id=\"table4650626464\" class=\"table-striped table-bordered table-condensed\">\n",
       "<thead><tr><th>Time</th><th>Distance</th><th>Resolution per MVIC pix</th><th>Halfwidth km</th><th>Halfwidth a_hill_mu69</th></tr></thead>\n",
       "<thead><tr><th>h</th><th>km</th><th>km</th><th>km</th><th></th></tr></thead>\n",
       "<thead><tr><th>float64</th><th>float64</th><th>float64</th><th>float64</th><th>float64</th></tr></thead>\n",
       "<tr><td>0.0</td><td>3046.0</td><td>0.06</td><td>151.5</td><td>0.00118</td></tr>\n",
       "<tr><td>0.5</td><td>27892.9</td><td>0.55</td><td>1387.4</td><td>0.01084</td></tr>\n",
       "<tr><td>4.0</td><td>201821.3</td><td>4.02</td><td>10039.0</td><td>0.07841</td></tr>\n",
       "<tr><td>50.0</td><td>2487737.0</td><td>49.50</td><td>123744.7</td><td>0.96657</td></tr>\n",
       "</table>"
      ],
      "text/plain": [
       "<Table length=4>\n",
       "  Time   Distance Resolution per MVIC pix Halfwidth km Halfwidth a_hill_mu69\n",
       "   h        km               km                km                           \n",
       "float64  float64          float64           float64           float64       \n",
       "------- --------- ----------------------- ------------ ---------------------\n",
       "    0.0    3046.0                    0.06        151.5               0.00118\n",
       "    0.5   27892.9                    0.55       1387.4               0.01084\n",
       "    4.0  201821.3                    4.02      10039.0               0.07841\n",
       "   50.0 2487737.0                   49.50     123744.7               0.96657"
      ]
     },
     "execution_count": 84,
     "metadata": {},
     "output_type": "execute_result"
    }
   ],
   "source": [
    "t2"
   ]
  },
  {
   "cell_type": "code",
   "execution_count": null,
   "metadata": {
    "collapsed": true
   },
   "outputs": [],
   "source": [
    "# What is the Hill radius, in "
   ]
  },
  {
   "cell_type": "markdown",
   "metadata": {
    "collapsed": true
   },
   "source": [
    "# Now, do some LORRI-specific calculations "
   ]
  },
  {
   "cell_type": "code",
   "execution_count": null,
   "metadata": {
    "collapsed": true
   },
   "outputs": [],
   "source": []
  }
 ],
 "metadata": {
  "anaconda-cloud": {},
  "kernelspec": {
   "display_name": "Python [conda env:py3]",
   "language": "python",
   "name": "conda-env-py3-py"
  },
  "language_info": {
   "codemirror_mode": {
    "name": "ipython",
    "version": 3
   },
   "file_extension": ".py",
   "mimetype": "text/x-python",
   "name": "python",
   "nbconvert_exporter": "python",
   "pygments_lexer": "ipython3",
   "version": "3.5.2"
  }
 },
 "nbformat": 4,
 "nbformat_minor": 1
}
