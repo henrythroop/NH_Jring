{
 "cells": [
  {
   "cell_type": "markdown",
   "metadata": {},
   "source": [
    "# NH MU69 Rings Planning"
   ]
  },
  {
   "cell_type": "markdown",
   "metadata": {},
   "source": [
    "## I start off here with a bunch of calculations for the MVIC outbound rings search."
   ]
  },
  {
   "cell_type": "markdown",
   "metadata": {},
   "source": [
    "## Initialize python"
   ]
  },
  {
   "cell_type": "code",
   "execution_count": 5,
   "metadata": {
    "collapsed": false
   },
   "outputs": [],
   "source": [
    "import astropy.units as u\n",
    "import astropy.constants as c\n",
    "import math\n",
    "import astropy\n",
    "import numpy as np\n",
    "import matplotlib.pyplot as plt\n",
    "import pymiecoated # Mie scattering library\n",
    "import spiceypy as sp\n",
    "from astropy.table import Table\n",
    "\n",
    "import warnings\n",
    "warnings.filterwarnings(\"ignore\", category=np.VisibleDeprecationWarning) \n",
    "                                    # Ignore warnings caused by pymiecoated's numpy usage \n",
    "\n",
    "import matplotlib                   # Set latex to use *not* CMR.\n",
    "matplotlib.rcParams['mathtext.fontset'] = 'stixsans'\n",
    "\n",
    "r2d = 360 / (2*math.pi)             # Radians to degrees\n",
    "d2r = 1/r2d\n",
    "\n",
    "file_kernel = '/Users/throop/gv/dev/gv_kernels_new_horizons.txt'"
   ]
  },
  {
   "cell_type": "markdown",
   "metadata": {},
   "source": [
    "## Calculate the Hill radius for a few bodies\n",
    "\n",
    "$$r_H = a \\sqrt[3]{m\\over {3 M}}$$"
   ]
  },
  {
   "cell_type": "markdown",
   "metadata": {},
   "source": [
    "## Set up some physical constants for NH and the encounter"
   ]
  },
  {
   "cell_type": "code",
   "execution_count": 6,
   "metadata": {
    "collapsed": false
   },
   "outputs": [],
   "source": [
    "a_pluto_ca   = 33*u.au             # NH heliocentric distance at Pluto flyby\n",
    "a_mu69_ca    = 43*u.au             # NH heliocentric distance at MU69 flyby\n",
    "\n",
    "dist_mu69_ca = 3046*u.km            # Distance from NHGV\n",
    "\n",
    "rho_pluto       = 1.9 * u.gram/u.cm**3\n",
    "rho_mu69        = 1.9 * u.gram/u.cm**3\n",
    "\n",
    "a_hydra      = 65000 * u.km        # Hydra orbital distance around Pluto\n",
    "\n",
    "fov_mvic     = 5.7 * d2r           # MVIC FOV, in radians\n",
    "fov_lorri    = 0.3 * d2r           # LORRI FOV width, in radians \n",
    "\n",
    "resolution_mvic = fov_mvic / 5000   # Resolution in radians\n",
    "resolution_lorri = fov_lorri / 1024 # Resolution in radians\n",
    "\n",
    "r_mu69       = 16.5 * u.km\n",
    "a_roche_mu69 = 2.5 * r_mu69\n",
    "\n",
    "m_mu69 = 4/3 * math.pi * r_mu69**3 * rho_mu69\n",
    "sp.furnsh(file_kernel)"
   ]
  },
  {
   "cell_type": "code",
   "execution_count": 7,
   "metadata": {
    "collapsed": false
   },
   "outputs": [],
   "source": [
    "### Calc NH velocity. This kernel doesn't have MU69 in it, so just use Pluto flyby. Velocities are about the same.\n",
    "\n",
    "utc = '1 Jan 2016'\n",
    "et = sp.utc2et(utc)\n",
    "(st,lt) = sp.spkezr('Pluto', et, 'J2000', 'LT+S', 'New Horizons')\n",
    "v_nh = sp.vnorm(st[3:6])*u.km/u.second"
   ]
  },
  {
   "cell_type": "code",
   "execution_count": 8,
   "metadata": {
    "collapsed": false
   },
   "outputs": [
    {
     "ename": "ValueError",
     "evalue": "setting an array element with a sequence.",
     "output_type": "error",
     "traceback": [
      "\u001b[0;31m---------------------------------------------------------------------------\u001b[0m",
      "\u001b[0;31mValueError\u001b[0m                                Traceback (most recent call last)",
      "\u001b[0;32m<ipython-input-8-754efded94e2>\u001b[0m in \u001b[0;36m<module>\u001b[0;34m()\u001b[0m\n\u001b[1;32m      2\u001b[0m \u001b[0;34m\u001b[0m\u001b[0m\n\u001b[1;32m      3\u001b[0m \u001b[0mname\u001b[0m \u001b[0;34m=\u001b[0m \u001b[0mnp\u001b[0m\u001b[0;34m.\u001b[0m\u001b[0marray\u001b[0m\u001b[0;34m(\u001b[0m\u001b[0;34m[\u001b[0m\u001b[0;34m'Pluto'\u001b[0m\u001b[0;34m,\u001b[0m \u001b[0;34m'MU69'\u001b[0m\u001b[0;34m,\u001b[0m \u001b[0;34m'Saturn'\u001b[0m\u001b[0;34m,\u001b[0m \u001b[0;34m'Chariklo'\u001b[0m\u001b[0;34m,\u001b[0m \u001b[0;34m'Chiron'\u001b[0m\u001b[0;34m]\u001b[0m\u001b[0;34m)\u001b[0m\u001b[0;34m\u001b[0m\u001b[0m\n\u001b[0;32m----> 4\u001b[0;31m \u001b[0mrho\u001b[0m  \u001b[0;34m=\u001b[0m \u001b[0mnp\u001b[0m\u001b[0;34m.\u001b[0m\u001b[0marray\u001b[0m\u001b[0;34m(\u001b[0m\u001b[0;34m[\u001b[0m\u001b[0;36m1.9\u001b[0m\u001b[0;34m,\u001b[0m     \u001b[0mrho_mu69\u001b[0m\u001b[0;34m,\u001b[0m \u001b[0;36m1\u001b[0m\u001b[0;34m,\u001b[0m        \u001b[0;36m2.5\u001b[0m\u001b[0;34m,\u001b[0m       \u001b[0;36m2.5\u001b[0m\u001b[0;34m]\u001b[0m\u001b[0;34m)\u001b[0m\u001b[0;34m*\u001b[0m\u001b[0mu\u001b[0m\u001b[0;34m.\u001b[0m\u001b[0mgram\u001b[0m\u001b[0;34m/\u001b[0m\u001b[0mu\u001b[0m\u001b[0;34m.\u001b[0m\u001b[0mcm\u001b[0m\u001b[0;34m**\u001b[0m\u001b[0;36m3\u001b[0m\u001b[0;34m\u001b[0m\u001b[0m\n\u001b[0m\u001b[1;32m      5\u001b[0m \u001b[0mr\u001b[0m    \u001b[0;34m=\u001b[0m \u001b[0mnp\u001b[0m\u001b[0;34m.\u001b[0m\u001b[0marray\u001b[0m\u001b[0;34m(\u001b[0m\u001b[0;34m[\u001b[0m\u001b[0;36m1187\u001b[0m\u001b[0;34m,\u001b[0m    \u001b[0mr_mu69\u001b[0m\u001b[0;34m,\u001b[0m  \u001b[0;36m58232\u001b[0m\u001b[0;34m,\u001b[0m    \u001b[0;36m200\u001b[0m\u001b[0;34m,\u001b[0m       \u001b[0;36m109\u001b[0m\u001b[0;34m]\u001b[0m\u001b[0;34m)\u001b[0m\u001b[0;34m*\u001b[0m\u001b[0mu\u001b[0m\u001b[0;34m.\u001b[0m\u001b[0mkm\u001b[0m\u001b[0;34m\u001b[0m\u001b[0m\n\u001b[1;32m      6\u001b[0m \u001b[0ma\u001b[0m    \u001b[0;34m=\u001b[0m \u001b[0mnp\u001b[0m\u001b[0;34m.\u001b[0m\u001b[0marray\u001b[0m\u001b[0;34m(\u001b[0m\u001b[0;34m[\u001b[0m\u001b[0;36m33\u001b[0m\u001b[0;34m,\u001b[0m      \u001b[0;36m43\u001b[0m\u001b[0;34m,\u001b[0m      \u001b[0;36m10\u001b[0m\u001b[0;34m,\u001b[0m       \u001b[0;36m15.7\u001b[0m\u001b[0;34m,\u001b[0m      \u001b[0;36m13\u001b[0m\u001b[0;34m]\u001b[0m\u001b[0;34m)\u001b[0m\u001b[0;34m*\u001b[0m\u001b[0mu\u001b[0m\u001b[0;34m.\u001b[0m\u001b[0mau\u001b[0m\u001b[0;34m\u001b[0m\u001b[0m\n",
      "\u001b[0;31mValueError\u001b[0m: setting an array element with a sequence."
     ]
    }
   ],
   "source": [
    "# Set up an astropy table with data for a few different planets\n",
    "\n",
    "name = np.array(['Pluto', 'MU69', 'Saturn', 'Chariklo', 'Chiron'])\n",
    "rho  = np.array([1.9,     rho_mu69, 1,        2.5,       2.5])*u.gram/u.cm**3\n",
    "r    = np.array([1187,    r_mu69,  58232,    200,       109])*u.km\n",
    "a    = np.array([33,      43,      10,       15.7,      13])*u.au\n",
    "\n",
    "# Create the table\n",
    "\n",
    "t = Table([name, rho, r, a], names=['Name', 'rho', 'radius', 'a'])\n",
    "\n",
    "# Now do some math on the table. Note that for weird reasons, table columns' units get messed up if\n",
    "# we just directly multiply them. We need to use .quantity to do it properly. This is documented\n",
    "# but weird. See bottom of http://docs.astropy.org/en/stable/table/access_table.html\n",
    "\n",
    "t['mass'] = (4/3. * math.pi * (t['radius'].quantity)**3 * t['rho'].quantity).to('kg')\n",
    "t['a_hill']  = (a * (t['mass'].quantity/c.M_sun/3)**(1/3)).to('km')\n",
    "\n",
    "# Add some more columns. \n",
    "t['a_hill / a_hydra'] = t['a_hill'].quantity / a_hydra   # Hill radius, in Hydra orbital radii\n",
    "\n",
    "t['a_hill / r_<body>'] = t['a_hill'].quantity / t['radius'] # Hill radius, in body radii\n",
    "\n",
    "t['t for MVIC halfwidth a_hill'] =  (t['a_hill'].quantity / (fov_mvic/2) / v_nh).to('day') \n",
    "                                                            # Time at which MVIC can see to Hill radius on each side\n",
    "\n",
    "# Add some shortcuts to access individual rows. \n",
    "# Astropy does not allow e.g., t['Radius']['Saturn'] -- have to do t['Radius'][index_saturn]\n",
    "\n",
    "index_pluto   = t['Name'] == 'Pluto'\n",
    "index_mu69    = t['Name'] == 'MU69'\n",
    "index_saturn  = t['Name'] == 'Saturn'\n",
    "index_chariklo= t['Name'] == 'Chariklo'\n",
    "\n",
    "# Set the column formatting\n",
    "\n",
    "t['mass'].format = \"%6.1e\"\n",
    "t['a_hill'].format = \"%6.1f\"\n",
    "t['a_hill / a_hydra'].format = \"%6.1f\"\n",
    "t['a_hill / r_<body>'].format = \"%6.1f\"\n",
    "t['t for MVIC halfwidth a_hill'].format = \"%6.1f\""
   ]
  },
  {
   "cell_type": "code",
   "execution_count": null,
   "metadata": {
    "collapsed": false
   },
   "outputs": [],
   "source": [
    "t"
   ]
  },
  {
   "cell_type": "markdown",
   "metadata": {},
   "source": [
    "So, a few interesting things from above. \n",
    "\n",
    "* MU69 rings go out to 2.0 a_hydra. That is the Hill radius.\n",
    "* Pluto's hill radius goes out to 108 a_hydra. Much further.\n",
    "* Roche radius is not plotted, but is usually ~2.5 r_body. So, 2000x closer in than a_hill.\n",
    "* For Pluto, when we imaged at P+110d, that was out to about 0.95 R_hill on each side. But for MU69, we will do the same observation at P+2.2d."
   ]
  },
  {
   "cell_type": "markdown",
   "metadata": {},
   "source": [
    "Oh wow. So, at Pluto it made sense to search at P+100 days, because that was basically the Hill radius. But at MU69, the Hill radius is 50x smaller, so all the searching must be done much closer in."
   ]
  },
  {
   "cell_type": "markdown",
   "metadata": {},
   "source": [
    "At what point does MVIC see out to the Hill radius on each side of MU69?"
   ]
  },
  {
   "cell_type": "markdown",
   "metadata": {},
   "source": [
    "### Where is the Phoebe ring, in Hill radii?"
   ]
  },
  {
   "cell_type": "code",
   "execution_count": null,
   "metadata": {
    "collapsed": false
   },
   "outputs": [],
   "source": [
    "a_ring_phoebe_inner = (50*t['radius'][index_saturn])\n",
    "a_ring_phoebe_outer = (300*t['radius'][index_saturn])\n",
    "\n",
    "a_ring_chiron = 324*u.km\n",
    "\n",
    "a_ring_chariklo_a = 396*u.km\n",
    "a_ring_chariklo_b = 405*u.km"
   ]
  },
  {
   "cell_type": "code",
   "execution_count": null,
   "metadata": {
    "collapsed": false
   },
   "outputs": [],
   "source": [
    "# Calculate Phoebe ring in Saturn Hill radii\n",
    "# Strange astropy issue here: if we do np.array((a_inner, a_outer)) then the units are lost entirely! Weird.\n",
    "\n",
    "print(a_ring_phoebe_inner / t['a_hill'][index_saturn].quantity)\n",
    "print(a_ring_phoebe_outer / t['a_hill'][index_saturn].quantity)"
   ]
  },
  {
   "cell_type": "code",
   "execution_count": null,
   "metadata": {
    "collapsed": false
   },
   "outputs": [],
   "source": [
    "# Calculate Chariklo ring in Hill radii\n",
    "\n",
    "print(a_ring_chariklo_b / t['a_hill'][index_chariklo].quantity)"
   ]
  },
  {
   "cell_type": "markdown",
   "metadata": {},
   "source": [
    "Phoebe ring is at 0.2 R_Hill. I was concerned they were so far out that they were beyond the Hill radius. But no, not the case.\n",
    "\n",
    "Also, don't confuse Hill radius with Roche radius. Rings are usually at Roche, but might be as far out as Hill, which is many many times further."
   ]
  },
  {
   "cell_type": "markdown",
   "metadata": {},
   "source": [
    "## Make a table that I will put into the NH MU69 planning wiki.\n",
    "\n",
    "This should list resolution at a few different times."
   ]
  },
  {
   "cell_type": "code",
   "execution_count": null,
   "metadata": {
    "collapsed": false
   },
   "outputs": [],
   "source": [
    "time = np.array([0, 0.5, 4, 50])*u.hour"
   ]
  },
  {
   "cell_type": "code",
   "execution_count": null,
   "metadata": {
    "collapsed": false
   },
   "outputs": [],
   "source": [
    "(t2['Time'].quantity * v_nh * resolution_mvic).to('km')"
   ]
  },
  {
   "cell_type": "code",
   "execution_count": null,
   "metadata": {
    "collapsed": false
   },
   "outputs": [],
   "source": [
    "t2 = Table([time], names=['Time'])"
   ]
  },
  {
   "cell_type": "code",
   "execution_count": null,
   "metadata": {
    "collapsed": false
   },
   "outputs": [],
   "source": [
    "t2['Distance']                = (t2['Time'].quantity     * v_nh + dist_mu69_ca).to('km')\n",
    "t2['Resolution per MVIC pix'] = (t2['Distance'].quantity * resolution_mvic).to('km')\n",
    "t2['Halfwidth km']            = (t2['Distance'].quantity * fov_mvic/2).to('km')\n",
    "t2['Halfwidth a_hill_mu69']   = (t2['Distance'].quantity * fov_mvic/2 / t['a_hill'][index_mu69]).to('')\n",
    "                               \n",
    "t2['Resolution per MVIC pix'].format = \"%6.2f\"\n",
    "t2['Halfwidth km'].format = \"%6.1f\"\n",
    "t2['Halfwidth a_hill_mu69'].format = \"%6.5f\"\n",
    "t2['Distance'].format = \"%6.1f\""
   ]
  },
  {
   "cell_type": "code",
   "execution_count": null,
   "metadata": {
    "collapsed": false
   },
   "outputs": [],
   "source": [
    "t2"
   ]
  },
  {
   "cell_type": "code",
   "execution_count": null,
   "metadata": {
    "collapsed": true
   },
   "outputs": [],
   "source": [
    "# What is the Hill radius, in "
   ]
  },
  {
   "cell_type": "markdown",
   "metadata": {
    "collapsed": true
   },
   "source": [
    "# Now, do some LORRI-specific calculations "
   ]
  },
  {
   "cell_type": "markdown",
   "metadata": {
    "collapsed": true
   },
   "source": [
    "### To do: Make a table with LORRI resolution per pix. Just like MVIC, with same times as above. Put this into my LORRI MT."
   ]
  },
  {
   "cell_type": "code",
   "execution_count": null,
   "metadata": {
    "collapsed": true
   },
   "outputs": [],
   "source": [
    "time_lorri = np.array([0, 0.5, 1, 4, 8, 50, 96])*u.hour"
   ]
  },
  {
   "cell_type": "code",
   "execution_count": null,
   "metadata": {
    "collapsed": true
   },
   "outputs": [],
   "source": [
    "t3 = Table([time_lorri], names=['Time'])"
   ]
  },
  {
   "cell_type": "code",
   "execution_count": null,
   "metadata": {
    "collapsed": false
   },
   "outputs": [],
   "source": [
    "# Dist from NH to MU69\n",
    "t3['Distance']                = (t3['Time'].quantity     * v_nh + dist_mu69_ca).to('km')\n",
    "t3['Resolution per LORRI pix']= (t3['Distance'].quantity * resolution_lorri).to('km')\n",
    "\n",
    "# Width of LORRI at this distance (ie, how many km of orbital distance can we see)\n",
    "t3['Width km']            = (t3['Distance'].quantity * fov_lorri).to('km')\n",
    "\n",
    "# Width of LORRI at this distance (ie, how many hill radii can we see with LORRI)\n",
    "t3['Width a_hill_mu69']   = (t3['Distance'].quantity * fov_lorri / t['a_hill'][index_mu69]).to('')\n",
    "\n",
    "# How large a mosaic to see from 0 .. +1 r_hill (with no overlap)\n",
    "t3['LORRI mosaic width a_hill_mu69'] = (1/t3['Width a_hill_mu69'].quantity) \n",
    "                               \n",
    "t3['Resolution per LORRI pix'].format = \"%6.2f\"\n",
    "t3['Width km'].format = \"%6.1f\"\n",
    "t3['Width a_hill_mu69'].format = \"%6.5f\"\n",
    "t3['Distance'].format = \"%6.1f\""
   ]
  },
  {
   "cell_type": "code",
   "execution_count": null,
   "metadata": {
    "collapsed": false
   },
   "outputs": [],
   "source": [
    "t3"
   ]
  },
  {
   "cell_type": "markdown",
   "metadata": {},
   "source": [
    "OK, so what is our observing plan?\n",
    "* 4x4s, 10 sec. These were OK for Pluto outboudn and will be OK now. The resolution is not worth it, except maybe at the K+30m one. Do a 9x9 circle.  25 image at each footprint. We don't have a preferred position.\n",
    "* 25 images at each footprint.\n",
    "* At 30 min: requires a lot of images (9 x 5?). Better to do at t+1hr, out of way of MVIC and coma obs. Can do at lower res (0.27 km 1x1, 1 km 4x4). Mosaic will be easier to build. \n",
    "* T+4 hours. 4x4 mosaic. This will get us to -2000 .. 2000 km. [Actually, better to do 8 hrs... geometrically spaced.]\n",
    "* T+100 hours. 5x5. (Or could do 5x1.) This will go "
   ]
  },
  {
   "cell_type": "markdown",
   "metadata": {},
   "source": [
    "## What is the orbital period at R_roche?"
   ]
  },
  {
   "cell_type": "code",
   "execution_count": null,
   "metadata": {
    "collapsed": false
   },
   "outputs": [],
   "source": [
    "p_roche = (2 * math.pi * a_roche_mu69) / np.sqrt(2 * c.G * m_mu69 / a_roche_mu69)"
   ]
  },
  {
   "cell_type": "code",
   "execution_count": null,
   "metadata": {
    "collapsed": false
   },
   "outputs": [],
   "source": [
    "p_roche.to('hour')"
   ]
  },
  {
   "cell_type": "code",
   "execution_count": null,
   "metadata": {
    "collapsed": true
   },
   "outputs": [],
   "source": []
  }
 ],
 "metadata": {
  "anaconda-cloud": {},
  "kernelspec": {
   "display_name": "Python [conda env:py3]",
   "language": "python",
   "name": "conda-env-py3-py"
  },
  "language_info": {
   "codemirror_mode": {
    "name": "ipython",
    "version": 3
   },
   "file_extension": ".py",
   "mimetype": "text/x-python",
   "name": "python",
   "nbconvert_exporter": "python",
   "pygments_lexer": "ipython3",
   "version": "3.5.2"
  }
 },
 "nbformat": 4,
 "nbformat_minor": 1
}
