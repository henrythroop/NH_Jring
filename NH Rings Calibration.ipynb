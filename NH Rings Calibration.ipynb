{
 "cells": [
  {
   "cell_type": "code",
   "execution_count": null,
   "metadata": {
    "collapsed": true
   },
   "outputs": [],
   "source": []
  },
  {
   "cell_type": "markdown",
   "metadata": {},
   "source": [
    "## New Horizons MVIC ring calibration"
   ]
  },
  {
   "cell_type": "markdown",
   "metadata": {},
   "source": [
    "The idea of this file is to do conversion between the DN limit seen by NH in the MVIC outbound ring images, and physical properties of the ring (such as I/F, tau, and equivalent width).\n",
    "\n",
    "A few basic parameters of the MVIC outbound search (using `O_RINGDEP_MVICFRAME_305` as an example):\n",
    "+ Ring opening angle (i.e., sub-observer latitude) = $43 \\deg$\n",
    "+ Date: P+110d = 2015-Nov-01\n",
    "+ MVIC framing, 1x1, stacked\n",
    "+ Phase angle $\\phi = 165 \\deg$\n",
    "+ Total integration time: 30 sec/pixel (check this)\n",
    "+ Region covered: 0 .. 105 $R_H$\n",
    "+ Typical ring upper-limit signal: 0.03 DN per pixel"
   ]
  },
  {
   "cell_type": "markdown",
   "metadata": {},
   "source": [
    "Various photometric equations and quantities. Not all of these are used here, but they are here for reference and completeness.\n",
    "+ $\\alpha$ = phase angle (forward = $180 \\deg$).\n",
    "+ $\\theta$ = scattering angle (forward = $0 \\deg$).\n",
    "+ $P(\\alpha)$ = particle phase function, computed from Mie scattering or otherwise. Normalized s.t. $\\int_0^\\pi P(\\theta) \\sin \\theta d \\theta = 2$. (TE98 eq 16).\n",
    "+ $\\tau$ = normal optical thickness.\n",
    "+ $e$ = emission angle (measured from normal).\n",
    "+ $B = 90-e$ = elevation angle (measured from equator). Same as sub-observer latitude.\n",
    "+ $\\mu$ = $\\cos(e)$\n",
    "+ $\\varpi$ = single-scattering albedo.\n",
    "+ $R$ = ring radius\n",
    "+ `RSOLAR  = 100190.64   (DN/s)/(erg/cm^2/s/Ang/sr), Solar spectrum` -- calibration constant from MVIC FITS headers for extended sources (size > 1 pixel) (FITS header literal)\n",
    "+ `PSOLAR  = 2.5541E+14  (DN/s)/(erg/cm^2/s/Ang), Solar spectrum` -- same as above, but for unresolved. (FITS header literal)\n",
    "+ F = solar flux, in erg/cm2/s/Ang (NH ICD @ 63)\n",
    "+ `I = DN / TEXP / RSOLAR = (DN/sec) / RSOLAR`, for `I` in erg/cm2/s/Ang/sr. DN is the signal in a pixel. (NH ICD @ 62)\n",
    "+ `F = DN / TEXP / PPLUTO = (DN/sec) / PPLUTO` -- flux from an unresolved stellar source, in erg/cm2/s/Ang. DN is the signal in one PSF. (NH ICD @ 64)\n",
    "+ $I/F$ = normalized reflectance of the ring, where $I$ is measured at the detector, and $\\pi F$ is the incident solar flux. (TPW04 @ 63)\n",
    "+ $EW = \\int {I\\over F} dR$ -- Equivalent Width. Units of length.\n",
    "+ $\\left( {I \\over F} \\right)_{rad} = {EW \\over {\\Delta R}} = {1\\over{\\Delta R}}\\int{I\\over F} dR$.  Radially averaged normal $I/F$ of the ring (TE98 eq 12).\n",
    "+ $4 \\mu {I\\over F} = \\tau \\varpi P(\\alpha)$. This is the quantity we usually plot (TPW @ 63).\n",
    "+ ${I\\over F} = {{\\tau \\varpi P(\\alpha)}\\over {4 \\mu}}$. Normal $I/F$ (i.e., I/F that would be measured from directly above the ring, with phase angle preserved). (TPW04 eq 1 @ 63)\n",
    "\n"
   ]
  },
  {
   "cell_type": "markdown",
   "metadata": {},
   "source": [
    "The method here is this:\n",
    "+ Measure DN upper-limit from the images.\n",
    "+ Look up solar flux, and convert to flux at Pluto's distance.\n",
    "+ Convert from DN to $I/F$ using the `RSOLAR` constant from the FITS header. We assume that the ring is spatially extended -- that is, it fills the pixels.\n",
    "+ Use this to measure $\\tau \\varpi_0 P$.\n",
    "+ Use this to get optical depth $\\tau$.\n",
    "+ Assume a phase function $P_{11}(\\alpha)$ to get an optical depth $\\tau$."
   ]
  },
  {
   "cell_type": "markdown",
   "metadata": {},
   "source": [
    "## Initialize settings and files"
   ]
  },
  {
   "cell_type": "code",
   "execution_count": 39,
   "metadata": {
    "collapsed": false
   },
   "outputs": [],
   "source": [
    "%matplotlib inline\n",
    "import numpy as np\n",
    "import matplotlib.pyplot as plt\n",
    "import astropy\n",
    "from   astropy.io import fits\n",
    "import math\n",
    "import spiceypy as sp\n",
    "import astropy.units as u\n",
    "import astropy.constants as c\n",
    "\n",
    "dir = '/Users/throop/Data/NH_MVIC_Ring/'\n",
    "file_ring = dir + 'ringdep_mos_v1_wcs_header_pl.fits' # This is Tod's mosaic image\n",
    "\n",
    "d2r = 2*math.pi / 360.\n",
    "r2d = 1/d2r\n",
    "\n",
    "# Define the latitude of the observer. Usually we will look it up from SPICE.\n",
    "\n",
    "lat_obs = 43.2  # Sub-observer latitude, in degrees\n",
    "\n",
    "# Define the upper-limit brightness that I found for the ring, in DN\n",
    "\n",
    "dn_ring = 0.03"
   ]
  },
  {
   "cell_type": "markdown",
   "metadata": {},
   "source": [
    "## Open file and read header"
   ]
  },
  {
   "cell_type": "code",
   "execution_count": 40,
   "metadata": {
    "collapsed": false
   },
   "outputs": [],
   "source": [
    "# Open file\n",
    "hdulist = fits.open(file_ring)\n",
    "\n",
    "# Read exposure parameters and constants from the FITS header\n",
    "\n",
    "exptime      = float(hdulist['PRIMARY'].header['EXPTIME']) # Exposure time. This is per image (before stacking)\n",
    "pixfov       = float(hdulist['PRIMARY'].header['PIXFOV'])# 19.8065   # Plate scale in microrad/pix\n",
    "rsolar       = float(hdulist['PRIMARY'].header['RSOLAR']) # 100190.64. # (DN/s)/(erg/cm^2/s/Ang/sr)\n",
    "                         # RSOLAR is conversion for solar spectrum. Use for resolved sources.    "
   ]
  },
  {
   "cell_type": "code",
   "execution_count": 41,
   "metadata": {
    "collapsed": false
   },
   "outputs": [
    {
     "data": {
      "text/plain": [
       "SIMPLE  =                    T                                                  \n",
       "BITPIX  =                  -32                                                  \n",
       "NAXIS   =                    2                                                  \n",
       "NAXIS1  =                 2250                                                  \n",
       "NAXIS2  =                 5000                                                  \n",
       "EXTEND  =                    T                                                  \n",
       "COMMENT Original key: \"CRVAL1\"                                                  \n",
       "_RVAL1  =  1.0000000000000E+00                                                  \n",
       "COMMENT Original key: \"CRVAL2\"                                                  \n",
       "_RVAL2  =  1.0000000000000E+00                                                  \n",
       "COMMENT Original key: \"CDELT1\"                                                  \n",
       "_DELT1  =  1.0000000000000E+00                                                  \n",
       "COMMENT Original key: \"CDELT2\"                                                  \n",
       "_DELT2  =  1.0000000000000E+00                                                  \n",
       "OBJECT  = 'A BLANK FIELD'                                                       \n",
       "COMMENT Original key: \"CRPIX1\"                                                  \n",
       "_RPIX1  =                    1                                                  \n",
       "COMMENT Original key: \"CRPIX2\"                                                  \n",
       "_RPIX2  =                    1                                                  \n",
       "COMMENT Original key: \"CTYPE1\"                                                  \n",
       "_TYPE1  = ''                                                                    \n",
       "COMMENT Original key: \"CTYPE2\"                                                  \n",
       "_TYPE2  = ''                                                                    \n",
       "DATATYPE= 'REAL*4'                                                              \n",
       "COMMENT Original key: \"END\"                                                     \n",
       "COMMENT                                                                         \n",
       "COMMENT --Start of Astrometry.net WCS solution--                                \n",
       "COMMENT --Put in by the new-wcs program--                                       \n",
       "COMMENT                                                                         \n",
       "WCSAXES =                    2 / no comment                                     \n",
       "CTYPE1  = 'RA---TAN-SIP' / TAN (gnomic) projection + SIP distortions            \n",
       "CTYPE2  = 'DEC--TAN-SIP' / TAN (gnomic) projection + SIP distortions            \n",
       "EQUINOX =               2000.0 / Equatorial coordinates definition (yr)         \n",
       "LONPOLE =                180.0 / no comment                                     \n",
       "LATPOLE =                  0.0 / no comment                                     \n",
       "CRVAL1  =        92.3470230552 / RA  of reference point                         \n",
       "CRVAL2  =        15.0895496253 / DEC of reference point                         \n",
       "CRPIX1  =        1117.69705576 / X reference pixel                              \n",
       "CRPIX2  =        2719.16578537 / Y reference pixel                              \n",
       "CUNIT1  = 'deg     ' / X pixel scale units                                      \n",
       "CUNIT2  = 'deg     ' / Y pixel scale units                                      \n",
       "CD1_1   =     0.00100186864981 / Transformation matrix                          \n",
       "CD1_2   =    0.000502890722606 / no comment                                     \n",
       "CD2_1   =    0.000491423367904 / no comment                                     \n",
       "CD2_2   =    -0.00102252387083 / no comment                                     \n",
       "IMAGEW  =                 2250 / Image width,  in pixels.                       \n",
       "IMAGEH  =                 5000 / Image height, in pixels.                       \n",
       "A_ORDER =                    2 / Polynomial order, axis 1                       \n",
       "A_0_2   =   -2.24858402779E-07 / no comment                                     \n",
       "A_1_1   =   -1.99899716182E-06 / no comment                                     \n",
       "A_2_0   =    1.50993490874E-06 / no comment                                     \n",
       "B_ORDER =                    2 / Polynomial order, axis 2                       \n",
       "B_0_2   =    7.79116245719E-07 / no comment                                     \n",
       "B_1_1   =    1.17416827717E-06 / no comment                                     \n",
       "B_2_0   =   -2.13816272997E-05 / no comment                                     \n",
       "AP_ORDER=                    2 / Inv polynomial order, axis 1                   \n",
       "AP_0_1  =   -4.32759371912E-07 / no comment                                     \n",
       "AP_0_2  =    2.24755152225E-07 / no comment                                     \n",
       "AP_1_0  =    4.09827379778E-05 / no comment                                     \n",
       "AP_1_1  =     1.9984012846E-06 / no comment                                     \n",
       "AP_2_0  =   -1.50889714232E-06 / no comment                                     \n",
       "BP_ORDER=                    2 / Inv polynomial order, axis 2                   \n",
       "BP_0_1  =    2.88493768745E-05 / no comment                                     \n",
       "BP_0_2  =   -7.78770600583E-07 / no comment                                     \n",
       "BP_1_0  =   -5.07352413464E-05 / no comment                                     \n",
       "BP_1_1  =   -1.17770650665E-06 / no comment                                     \n",
       "BP_2_0  =    2.13736540086E-05 / no comment                                     \n",
       "HISTORY Created by the Astrometry.net suite.                                    \n",
       "HISTORY For more details, see http://astrometry.net .                           \n",
       "HISTORY Subversion URL                                                          \n",
       "HISTORY   http://astrometry.net/svn/tags/nova/2013-05-24-2/util/                \n",
       "HISTORY Subversion revision 22686                                               \n",
       "HISTORY Subversion date 2013-05-06 22:33:22 +0000 (Mon, 06 May                  \n",
       "HISTORY   2013)                                                                 \n",
       "HISTORY This WCS header was created by the program \"blind\".                     \n",
       "DATE    = '2016-09-09T10:34:57' / Date this file was created.                   \n",
       "SIMPLE  =                    T / Written by IDL:  Sat Sep 10 16:09:13 2016      \n",
       "BITPIX  =                  -32 / IEEE single precision floating point           \n",
       "NAXIS   =                    3 / number of array dimensions                     \n",
       "NAXIS1  =                 5024                                                  \n",
       "NAXIS2  =                  128                                                  \n",
       "BZERO   =                    0 / no offset                                      \n",
       "BSCALE  =                    1 / default scaling factor                         \n",
       "MISSION = 'New Horizons'       / Mission name                                   \n",
       "HOSTNAME= 'NEW HORIZONS'       / Host name (PDS terminology)                    \n",
       "HOSTID  = 'NH      '           / Host ID (PDS terminology)                      \n",
       "INSTRU  = 'mvi     '           / Instrument                                     \n",
       "APID    = '0x548   '           / Application ID of science data                 \n",
       "MET     =            299292118 / First packet MET (from instrument or HS bus)   \n",
       "METEND  =            299292132 / Last packet MET (from instrument or HS bus)    \n",
       "MET_HK  =            299292106 / MET from housekeeping used in header           \n",
       "HSCOMPR = 'LOSSLESS'           / High-speed compression mode                    \n",
       "OBSCOMPL= 'COMPLETE'           / Observation completion status                  \n",
       "MISSPACK=                    0 / Missing CCSDS packets (-1 = N/A)               \n",
       "STARTMET=        299292108.292 / Actual start time (in MET seconds)             \n",
       "STOPMET =        299292144.598 / Actual stop time (in MET seconds)              \n",
       "DURMET  =    36.30599999427795 / Observation duration (in MET seconds)          \n",
       "METSRC  = 'HK_Info '           / Source of above three times                    \n",
       "EXPTIME =                 10.0 / Exposure time                                  \n",
       "ARCHDATE= '2016/190'           / Date of MOC archive file                       \n",
       "GRT     =     21373.6453999377 / Ground receipt time from STP                   \n",
       "DATE    = '2016-09-10T16:09:11' /Time file was created by SOC                   \n",
       "SOCVER  =                  6.3 / SOC pipeline software version                  \n",
       "SOCLOC  = 'TSOC    '           / SOC location where processed (TSOC or CSOC)    \n",
       "LOADID  = '15188   '           / Sequence load ID                               \n",
       "REQID   = 'PEMV_02_O_RingDep_A_1' / Request ID                                  \n",
       "REQREC  = 'SSR2    '           / Recorder used                                  \n",
       "REQCOMM = '---     '           / Request comment                                \n",
       "OPNAV   = 'SCIENCE '           / Optical navigation type                        \n",
       "MSNPHASE= 'PLUTO   '           / Mission phase                                  \n",
       "MSNSUBPH= 'CORE    '           / Mission subphase                               \n",
       "SCIGRP  = 'Group 3 '           / Science group                                  \n",
       "SAPID   =                  998 / Science Activity Plan ID                       \n",
       "SAPNAME = 'O_RingDep_A_1'      / Science Activity Plan name                     \n",
       "SAPDESC = 'MVIC high-phase ring search' / Science Activity Plan description     \n",
       "VISITID =                43100 / Visit ID                                       \n",
       "VISITNAM= 'O_RingDep_A_1'      / Visit name                                     \n",
       "VISITDSC= 'Ring search, outbound, high-resolution with MVIC' / Visit description\n",
       "RIDEALNG= 'NO      '           / Riding along with other instrument             \n",
       "TARGET  = 'PLUTO   '           / Intended target                                \n",
       "TRGFOV00= 'HYDRA;X=1053;Y=-29;F=0' / Actual target in view                      \n",
       "TRGFOV01= 'KERBEROS;X=1490;Y=-48;F=0' / Actual target in view                   \n",
       "TRGFOV02= 'HYDRA;X=1051;Y=-22;F=1' / Actual target in view                      \n",
       "TRGFOV03= 'KERBEROS;X=1488;Y=-41;F=1' / Actual target in view                   \n",
       "TRGFOVN =                    4 / Num targets in view                            \n",
       "THRUSTX = 'ENABLED '           / X thrusters enabled                            \n",
       "THRUSTY = 'ENABLED '           / Y thrusters enabled                            \n",
       "THRUSTZ = 'ENABLED '           / Z thrusters enabled                            \n",
       "SCANRATE=                  0.0 / G/C scan rate                                  \n",
       "TMRATE  =                  0.0 / RALPH target motion rate                       \n",
       "RCMODE  = 'DISABLED'           / Relative control mode                          \n",
       "PNTMTHD = 'CB2     '           / Pointing method                                \n",
       "SCSPIN  = '3-Axis  '           / Spacecraft spin state                          \n",
       "SPCSEP  = '***GEOMETRY SECTION*************************************'            \n",
       "SPCQUAL = 'RECONSTRUCTED'      / QUALITY:  PREDICT (poor); RECONSTRUCTED        \n",
       "SPCSTAT = 'OK      '           / SPICE status [OK or INCOMPLETE ...]            \n",
       "SPCINST0= 'NH_RALPH_MVIC_FT'   / Starting SPICE Instrument or FRAME             \n",
       "SPCINSTR= 'NH_RALPH_MVIC_FT'   / Final SPICE Instrument or FRAME                \n",
       "SPCMET0 =        299292108.292 / RAW MET timestamp                              \n",
       "SPCMETDL=    18.15299999713898 / [s] delta, (Mid-obs time) - (RAW MET)          \n",
       "SPCCBTNM= 'PLUTO   '           / [text] Target input name                       \n",
       "SPCCBTID=                  999 / [SPICE ID] Target                              \n",
       "SPCSCLK0= '0299292108:14600'   / Spacecraft CLocK timestamp                     \n",
       "SPCINSID=               -98203 / [SPICE ID] Instrument                          \n",
       "SPCSCID =                  -98 / [SPICE ID] Spacecraft                          \n",
       "SPCSCNAM= 'NH_SPACECRAFT'      / [SPICE Name] Spacecraft                        \n",
       "SPCSCET =    490258276.5058616 / [s past J2000] Spacecraft mid-obs time, TDB    \n",
       "SPCSCLK = '3/0299292126:22250' / Mid-obs Spacecraft CLocK                       \n",
       "SPCSCDP =     14964606322250.0 / [SCLK milli-ticks] Spacecraft mid-obs time     \n",
       "SPCUTCID= '2015-196T18:50:08.322' / [ISO DOY] Spacecraft mid-obs time, UTC      \n",
       "SPCUTCAL= '2015-07-15T18:50:08.322' / [Cal d] Spacecraft mid-obs time, UTC      \n",
       "SPCUTCJD= 'JD 2457219.2848185' / [Julian d] Spacecraft mid-obs time, UTC        \n",
       "SPCPSEP = '******INSTRUMENT POINTING*******************************'            \n",
       "SPCBRRA =    92.79557396794515 / [degrees] Boresight RA, EME J2000              \n",
       "SPCBRDEC=    15.58011513519476 / [degrees] Boresight DEC, EME J2000             \n",
       "SPCEMEN =    243.9141878228862 / [degrees] EME J2k North Clk Angle, CW from UP  \n",
       "SPCPAXIN=               -999.0 / [degrees] Instr +X Pos ang, E from EMEJ2k N    \n",
       "SPCPAYIN=    243.9141878228862 / [degrees] Instr +Y Pos ang, E from EMEJ2k N    \n",
       "SPCPAZIN=    333.9141878228862 / [degrees] Instr +Z Pos ang, E from EMEJ2k N    \n",
       "SPCQA   =   0.7200488175432823 / cos(theta/2)     - Quaternion to transform     \n",
       "SPCQX   = -0.07085162316910561 / sin(theta/2) * X -   instrument vectors        \n",
       "SPCQY   =   0.2498248173849465 / sin(theta/2) * Y -   to EME J2000 vectors      \n",
       "SPCQZ   =  -0.6435039304210987 / sin(theta/2) * Z -   ***N.B. SPICE FORMAT      \n",
       "SPCSCQA =   0.7241792169144199 / cos(theta/2)     - Quaternion to transform     \n",
       "SPCSCQX = -0.06743466019067051 / sin(theta/2) * X -   Spacecraft vectors        \n",
       "SPCSCQY =    0.249499410631646 / sin(theta/2) * Y -   to EME J2000 vectors      \n",
       "SPCSCQZ =  -0.6393489442304943 / sin(theta/2) * Z -   ***N.B. SPICE FORMAT      \n",
       "SPCTSEP0= '******Target:  Target->S/C****************************'              \n",
       "SPCTCB  = 'PLUTO   '           / [SPICE name] Target name                       \n",
       "SPCTSCX =    30229.42622314223 / [km] S/C vec wrt Target, X, EMEJ2000           \n",
       "SPCTSCY =   -1486674.132138996 / [km] S/C vec wrt Target, Y                     \n",
       "SPCTSCZ =   -392799.9318307277 / [km] S/C vec wrt Target, Z                     \n",
       "SPCTSCVX=   0.1681350076395329 / [km/s] S/C vel vec wrt Target, X               \n",
       "SPCTSCVY=   -13.31998788815013 / [km/s] S/C vel vec wrt Target, Y               \n",
       "SPCTSCVZ=   -3.475664604828387 / [km/s] S/C vel vec wrt Target, Z               \n",
       "SPCTRANG=    1537987.509646045 / [km] S/C range to Target center                \n",
       "SPCTTGJD= 'JD 2457219.2847592' / [Julian d] Time at Target, UTC                 \n",
       "SPCTSEP1= '******Target:  Target->Sun****************************'              \n",
       "SPCTSOX =   -1197721553.765401 / [km] Sun vec wrt Target, X, EMEJ2000           \n",
       "SPCTSOY =    4443879391.971522 / [km] Sun vec wrt Target, Y                     \n",
       "SPCTSOZ =    1747806000.036013 / [km] Sun vec wrt Target, Z                     \n",
       "SPCTSOVX=   -5.359531420488416 / [km/s] Sun vel vec wrt Target, X               \n",
       "SPCTSOVY=  -0.7942236426229216 / [km/s] Sun vel vec wrt Target, Y               \n",
       "SPCTSOVZ=    1.372952433092894 / [km/s] Sun vel vec wrt Target, Z               \n",
       "SPCTSORN=    4923152118.765505 / [km] Sun range to Target center                \n",
       "SPCTSEP2= '******Target:  Target->EarthObserver****************************'    \n",
       "SPCTEOX =   -1138625392.294066 / [km] Earth observer vec wrt Target, X, EMEJ2000\n",
       "SPCTEOY =    4315337723.289554 / [km] Earth obs vec wrt Target, Y               \n",
       "SPCTEOZ =    1692138474.008004 / [km] Earth obs vec wrt Target, Z               \n",
       "SPCTEOVX=     21.6009460421762 / [km/s] Earth obs vel vec wrt Target, X         \n",
       "SPCTEOVY=    9.758648506390113 / [km/s] Earth obs vel vec wrt Target, Y         \n",
       "SPCTEOVZ=    5.947346970544041 / [km/s] Earth obs vel vec wrt Target, Z         \n",
       "SPCTEORN=    4773043061.322705 / [km] Earth observer range to Target center     \n",
       "SPCTEOJD= 'JD 2457219.4690318' / [Julian d] Time at Earth observer              \n",
       "SPCTSEPB= '******Target:  Body-fixed info****************************'          \n",
       "SPCTSCLA=   -43.53944048729173 / [degrees] planetocentric Sub-S/C latitude      \n",
       "SPCTSCLO=    253.0655525461372 / [degrees] planetocentric Sub-S/C EAST longitude\n",
       "SPCTSOLA=    51.55818051791063 / [degrees] planetocentric Sub-Solar latitude    \n",
       "SPCTSOLO=    54.99232294622472 / [degrees] planetocentric Sub-Solar EAST long.  \n",
       "SPCTNAZ =    128.3191686937613 / [degrees] Target North Azimuth, CW from UP     \n",
       "SPCSEPS = '******S/C->SUN****************************************'              \n",
       "SPCSSCX =   -1197835633.859225 / [km] Sun vec wrt S/C observer, X, EMEJ2000     \n",
       "SPCSSCY =    4445337071.852279 / [km] Sun vec wrt S/C obs, Y                    \n",
       "SPCSSCZ =    1748215075.927016 / [km] Sun vec wrt S/C obs, Z                    \n",
       "SPCSSCVX=   -5.527666428155235 / [km/s] Sun obs vel vec wrt S/C obs, X          \n",
       "SPCSSCVY=    12.52576424553449 / [km/s] Sun vel vec wrt S/C obs, Y              \n",
       "SPCSSCVZ=    4.848617037926672 / [km/s] Sun vel vec wrt S/C obs, Z              \n",
       "SPCSSCRN=    4924640884.351429 / [km] S/C observer range to sun center          \n",
       "SPCSSCJD= 'JD 2457219.0946932' / [Julian d] Time at Sun                         \n",
       "SPCSEPE = '******EARTH->S/C****************************************'            \n",
       "SPCESCX =    1139433922.291279 / [km] S/C observer vec wrt earth, X, EMEJ2000   \n",
       "SPCESCY =   -4316518269.080702 / [km] S/C obs vec wrt earth, Y                  \n",
       "SPCESCZ =   -1692370626.124859 / [km] S/C obs vec wrt earth, Z                  \n",
       "SPCESCVX=    -21.5038602898766 / [km/s] S/C obs vel vec wrt earth, X            \n",
       "SPCESCVY=   -22.92310775444643 / [km/s] S/C obs vel vec wrt earth, Y            \n",
       "SPCESCVZ=   -9.355681559373068 / [km/s] S/C obs vel vec wrt earth, Z            \n",
       "SPCESCRN=    4774385611.442146 / [km] S/C observer range to earth center        \n",
       "SPCESCJD= 'JD 2457219.1004941' / [Julian d] Time at Earth                       \n",
       "SPCKSEP = '******SPICE KERNELS*************************************'            \n",
       "SPCKNUM =                   48 / COUNT OF LOADED SPICE KERNELS:                 \n",
       "SPCK0001= 'naif0012.tls'       / SPICE kernel 0001                              \n",
       "SPCK0002= 'new-horizons_1294.tsc' / SPICE kernel 0002                           \n",
       "SPCK0003= 'nh_stars_kbo_centaur_ppinp.tpc' / SPICE kernel 0003                  \n",
       "SPCK0004= 'pck00010.tpc'       / SPICE kernel 0004                              \n",
       "SPCK0005= 'nh_v220.tf'         / SPICE kernel 0005                              \n",
       "SPCK0006= 'nh_allinstruments_v002.ti' / SPICE kernel 0006                       \n",
       "SPCK0007= 'nh_alice_v200.ti'   / SPICE kernel 0007                              \n",
       "SPCK0008= 'nh_lorri_v201.ti'   / SPICE kernel 0008                              \n",
       "SPCK0009= 'nh_pepssi_v110.ti'  / SPICE kernel 0009                              \n",
       "SPCK0010= 'nh_ralph_v100.ti'   / SPICE kernel 0010                              \n",
       "SPCK0011= 'nh_rex_v100.ti'     / SPICE kernel 0011                              \n",
       "SPCK0012= 'nh_sdc_v101.ti'     / SPICE kernel 0012                              \n",
       "SPCK0013= 'nh_swap_v200.ti'    / SPICE kernel 0013                              \n",
       "SPCK0014= 'nh_soc_misc_v001.tf' / SPICE kernel 0014                             \n",
       "SPCK0015= 'sb-2002jf56-2.bsp'  / SPICE kernel 0015                              \n",
       "SPCK0016= 'jup260.bsp'         / SPICE kernel 0016                              \n",
       "SPCK0017= 'kbo_centaur_horizons_20131129.bsp' / SPICE kernel 0017               \n",
       "SPCK0018= 'nh_extras.bsp'      / SPICE kernel 0018                              \n",
       "SPCK0019= 'nh_stars.bsp'       / SPICE kernel 0019                              \n",
       "SPCK0020= 'NavPE_de433_od123.bsp' / SPICE kernel 0020                           \n",
       "SPCK0021= 'NavSE_plu047_od123.bsp' / SPICE kernel 0021                          \n",
       "SPCK0022= 'nh_nep_ura_000.bsp' / SPICE kernel 0022                              \n",
       "SPCK0023= 'nh_recon_e2j_v1.bsp' / SPICE kernel 0023                             \n",
       "SPCK0024= 'nh_recon_j2sep07_prelimv1.bsp' / SPICE kernel 0024                   \n",
       "SPCK0025= 'nh_recon_pluto_od122_v01.bsp' / SPICE kernel 0025                    \n",
       "SPCK0026= 'merged_nhpc_2006_v001.bc' / SPICE kernel 0026                        \n",
       "SPCK0027= 'merged_nhpc_2007_v001.bc' / SPICE kernel 0027                        \n",
       "SPCK0028= 'merged_nhpc_2008_v001.bc' / SPICE kernel 0028                        \n",
       "SPCK0029= 'merged_nhpc_2009_v001.bc' / SPICE kernel 0029                        \n",
       "SPCK0030= 'merged_nhpc_2010_v001.bc' / SPICE kernel 0030                        \n",
       "SPCK0031= 'merged_nhpc_2011_v001.bc' / SPICE kernel 0031                        \n",
       "SPCK0032= 'merged_nhpc_2012_v001.bc' / SPICE kernel 0032                        \n",
       "SPCK0033= 'merged_nhpc_2013_v001.bc' / SPICE kernel 0033                        \n",
       "SPCK0034= 'merged_nhpc_2014_v001.bc' / SPICE kernel 0034                        \n",
       "SPCK0035= 'merged_nhpc_2015_v038.bc' / SPICE kernel 0035                        \n",
       "SPCK0036= 'merged_nhpc_2016_01_v019.bc' / SPICE kernel 0036                     \n",
       "SPCK0037= 'merged_nhpc_2016_02_v018.bc' / SPICE kernel 0037                     \n",
       "SPCK0038= 'merged_nhpc_2016_03_v006.bc' / SPICE kernel 0038                     \n",
       "SPCK0039= 'merged_nhpc_2016_04_v021.bc' / SPICE kernel 0039                     \n",
       "SPCK0040= 'merged_nhpc_2016_05_v008.bc' / SPICE kernel 0040                     \n",
       "SPCK0041= 'merged_nhpc_2016_06_v009.bc' / SPICE kernel 0041                     \n",
       "SPCK0042= 'merged_nhpc_2016_07_v014.bc' / SPICE kernel 0042                     \n",
       "SPCK0043= 'merged_nhpc_2016_08_v005.bc' / SPICE kernel 0043                     \n",
       "SPCK0044= 'nhpc_2016_246_03.bc' / SPICE kernel 0044                             \n",
       "SPCK0045= 'nhpc_2016_249_02.bc' / SPICE kernel 0045                             \n",
       "SPCK0046= 'nhpc_2016_250_02.bc' / SPICE kernel 0046                             \n",
       "SPCK0047= 'nhpc_2016_251_02.bc' / SPICE kernel 0047                             \n",
       "SPCK0048= 'nhpc_2016_252_02.bc' / SPICE kernel 0048                             \n",
       "PACMMNT0= '*** Position angles (PAs):  XYZ axes, degrees east of EMEJ2k North'  \n",
       "PACMMNT1= '***   on plane perpendicular to boresight; -999 => Boresight'        \n",
       "PA_XINST=               -999.0 / [degrees] PA +X, East of EMEJ2k North          \n",
       "PA_YINST=    243.9141878228862 / [degrees] PA +Y, East of EMEJ2k North          \n",
       "PA_ZINST=    333.9141878228862 / [degrees] PA +Z, East of EMEJ2k North          \n",
       "FRAMESEP= '********************************************************'            \n",
       "QUTSEP  = '***QUATERNION SECTION***********************************'            \n",
       "QUTQUAL = 'RECONSTRUCTED'      / QUALITY:  PREDICT (poor); RECONSTRUCTED        \n",
       "QUTSTAT = 'OK      '           / SPICE status [OK or INCOMPLETE ...]            \n",
       "QUTINST = 'NH_RALPH_MVIC_FT'   / Final SPICE Instrument or FRAME                \n",
       "QUTMET0 =        299292108.292 / RAW MET timestamp                              \n",
       "QUTSCLK = '0299292108:14600'   / Spacecraft CLocK BASE timestamp                \n",
       "QUTINSID=               -98203 / [SPICE ID] Instrument                          \n",
       "QUTUTC0 = '2015-07-15T18:49:50.169' / [Cal d] Spacecraft BASE time, UTC         \n",
       "QUTSEP00= '************************************************************'        \n",
       "QUT00   = 'POINTING IN IMAGE 00 OF PAN FRAME OBSERVATION'                       \n",
       "DELTAT00=                  5.0 / [s] Mid-image time - Base time                 \n",
       "UTCMID00= '2015-07-15T18:49:55.169' / [Cal d] Spacecraft time, UTC for image    \n",
       "BRRA00  =    92.78761097354214 / [degrees] Boresight RA, EME J2000 for image    \n",
       "BRDEC00 =    15.57946278362401 / [degrees] Boresight DEC, EME J2000             \n",
       "BREMEN00=    243.9226580785485 / [degrees]EMEJ2kNorthClkAngle,CwFromUpForImage  \n",
       "QA00    =   0.7200089991248754 / cos(theta/2)     - Quaternion to xform image   \n",
       "QX00    = -0.07078495779546953 / sin(theta/2) * X -   instrument vectors        \n",
       "QY00    =   0.2497783112957193 / sin(theta/2) * Y -   to EME J2000 vectors      \n",
       "QZ00    =  -0.6435738699911205 / sin(theta/2) * Z -   ***N.B. SPICE FORMAT      \n",
       "SCQA00  =   0.7241397540353437 / cos(theta/2)     - Quaternion to transform     \n",
       "SCQX00  = -0.06736832971509929 / sin(theta/2) * X -   Spacecraft vectors        \n",
       "SCQY00  =   0.2494523135957814 / sin(theta/2) * Y -   to EME J2000 vectors      \n",
       "SCQZ00  =  -0.6394190081775342 / sin(theta/2) * Z -   ***N.B. SPICE FORMAT      \n",
       "QUTSEP01= '************************************************************'        \n",
       "QUT01   = 'POINTING IN IMAGE 01 OF PAN FRAME OBSERVATION'                       \n",
       "DELTAT01=    18.15299999713898 / [s] Mid-image time - Base time                 \n",
       "UTCMID01= '2015-07-15T18:50:08.322' / [Cal d] Spacecraft time, UTC for image    \n",
       "BRRA01  =    92.79557396794515 / [degrees] Boresight RA, EME J2000 for image    \n",
       "BRDEC01 =    15.58011513519476 / [degrees] Boresight DEC, EME J2000             \n",
       "BREMEN01=    243.9141878228862 / [degrees]EMEJ2kNorthClkAngle,CwFromUpForImage  \n",
       "QA01    =   0.7200488175432823 / cos(theta/2)     - Quaternion to xform image   \n",
       "QX01    = -0.07085162316910561 / sin(theta/2) * X -   instrument vectors        \n",
       "QY01    =   0.2498248173849465 / sin(theta/2) * Y -   to EME J2000 vectors      \n",
       "QZ01    =  -0.6435039304210987 / sin(theta/2) * Z -   ***N.B. SPICE FORMAT      \n",
       "SCQA01  =   0.7241792169144199 / cos(theta/2)     - Quaternion to transform     \n",
       "SCQX01  = -0.06743466019067051 / sin(theta/2) * X -   Spacecraft vectors        \n",
       "SCQY01  =    0.249499410631646 / sin(theta/2) * Y -   to EME J2000 vectors      \n",
       "SCQZ01  =  -0.6393489442304943 / sin(theta/2) * Z -   ***N.B. SPICE FORMAT      \n",
       "QUTSEP02= '************************************************************'        \n",
       "QUT02   = 'POINTING IN IMAGE 02 OF PAN FRAME OBSERVATION'                       \n",
       "DELTAT02=    31.30599999427795 / [s] Mid-image time - Base time                 \n",
       "UTCMID02= '2015-07-15T18:50:21.475' / [Cal d] Spacecraft time, UTC for image    \n",
       "BRRA02  =    92.80753022185377 / [degrees] Boresight RA, EME J2000 for image    \n",
       "BRDEC02 =    15.57720128926556 / [degrees] Boresight DEC, EME J2000             \n",
       "BREMEN02=    243.9216855179342 / [degrees]EMEJ2kNorthClkAngle,CwFromUpForImage  \n",
       "QA02    =   0.7201191034385387 / cos(theta/2)     - Quaternion to xform image   \n",
       "QX02    = -0.07084805974972072 / sin(theta/2) * X -   instrument vectors        \n",
       "QY02    =   0.2497580846619629 / sin(theta/2) * Y -   to EME J2000 vectors      \n",
       "QZ02    =  -0.6434515742762333 / sin(theta/2) * Z -   ***N.B. SPICE FORMAT      \n",
       "SCQA02  =    0.724249197640589 / cos(theta/2)     - Quaternion to transform     \n",
       "SCQX02  = -0.06743142745995859 / sin(theta/2) * X -   Spacecraft vectors        \n",
       "SCQY02  =   0.2494328019699788 / sin(theta/2) * Y -   to EME J2000 vectors      \n",
       "SCQZ02  =  -0.6392960031230297 / sin(theta/2) * Z -   ***N.B. SPICE FORMAT      \n",
       "HIGHSSEP= '********************************************************'            \n",
       "WINDOWX =                    0 / X origin of window                             \n",
       "WINDOWY =                    0 / Y origin of window                             \n",
       "WINDOWW =                 5024 / Window width                                   \n",
       "WINDOWH =                  257 / Window height                                  \n",
       "CPLANE  =                    0 / Color/plane number                             \n",
       "RALPHSEP= '********************************************************'            \n",
       "MET510  =            299292106 / MET of 0x510 packet marking acq start          \n",
       "TRUE510 = 'YES     '           / Is the 0x510 real or assumed from a gap?       \n",
       "RALPHEXP=                 10.0 / RALPH exposure time (s)                        \n",
       "INSTSSEP= '********************************************************'            \n",
       "MODE    =                    1 / Instrument mode                                \n",
       "SIDE    =                    0 / Instrument HW side                             \n",
       "DETECTOR= 'FRAME   '           / CCD detector used                              \n",
       "FILTER  = 'CLEAR   '           / CCD filter color                               \n",
       "SCANTYPE= 'FRAMING '           / Type of scan done                              \n",
       "WINX_000=                    0 / WINDOWX history                                \n",
       "WINY_000=                    0 / WINDOWY history                                \n",
       "WINW_000=                 5024 / WINDOWW history                                \n",
       "WINH_000=                  257 / WINDOWH history                                \n",
       "APID_000= '0x548   '           / APID history                                   \n",
       "GRT__000=     21373.6453999377 / GRT history                                    \n",
       "ARCH_000= '2016/190'           / ARCHDATE history                               \n",
       "SOCL2VER= '2.4     '           /Version of Level 2 software                     \n",
       "PIXSIZE =              13.0000 /Pixel size in microns                           \n",
       "READNOI =              30.0000 /Readnoise in Electrons                          \n",
       "GAIN    =              58.6000 /Gain in Electrons/DN                            \n",
       "PIXFOV  =              19.8065 /Plate scale in microrad/pix                     \n",
       "CALDIR  = 'cal/    '           /Directory for calibration files                 \n",
       "PSOLAR  = '2.5541E+14'         /(DN/s)/(erg/cm^2/s/Ang), Solar spectrum         \n",
       "PJUPITER= '2.1933E+14'         /(DN/s)/(erg/cm^2/s/Ang), Jupiter spectrum       \n",
       "PPHOLUS = '2.5627E+14'         /(DN/s)/(erg/cm^2/s/Ang), Pholus spectrum        \n",
       "PPLUTO  = '2.4568E+14'         /(DN/s)/(erg/cm^2/s/Ang), Pluto spectrum         \n",
       "PCHARON = '2.5390E+14'         /(DN/s)/(erg/cm^2/s/Ang), Charon spectrum        \n",
       "RSOLAR  = '100190.64'          /(DN/s)/(erg/cm^2/s/Ang/sr), Solar spectrum      \n",
       "RJUPITER= '86037.34'           /(DN/s)/(erg/cm^2/s/Ang/sr), Jupiter spectrum    \n",
       "RPHOLUS = '100528.77'          /(DN/s)/(erg/cm^2/s/Ang/sr), Pholus spectrum     \n",
       "RPLUTO  = '96376.62'           /(DN/s)/(erg/cm^2/s/Ang/sr), Pluto spectrum      \n",
       "RCHARON = '99600.13'           /(DN/s)/(erg/cm^2/s/Ang/sr), Charon spectrum     \n",
       "PIVOT   = '0.692   '           /Pivot Wavelength (microns), Pan Frame           \n",
       "FLATNAME= 'mfr/mfr_flat_20070130.fits' /Flat file used                          \n",
       "BIASLT00=              24.0000 /Median bias level left side, units=DN           \n",
       "BIASRT00=              26.0000 /Median bias level right side, units=DN          \n",
       "BIASLT01=              24.0000 /Median bias level left side, units=DN           \n",
       "BIASRT01=              27.0000 /Median bias level right side, units=DN          \n",
       "BIASLT02=             -1.00000 /Median bias level left side, units=DN           \n",
       "BIASRT02=             -1.00000 /Median bias level right side, units=DN          \n",
       "COMMENT -- blind solver parameters: --                                          \n",
       "COMMENT Index(0): /data1/INDEXES/200-current/index-219.fits                     \n",
       "COMMENT Index(1): /data1/INDEXES/200-current/index-218.fits                     \n",
       "COMMENT Index(2): /data1/INDEXES/200-current/index-217.fits                     \n",
       "COMMENT Index(3): /data1/INDEXES/200-current/index-216.fits                     \n",
       "COMMENT Index(4): /data1/INDEXES/200-current/index-215.fits                     \n",
       "COMMENT Index(5): /data1/INDEXES/200-current/index-214.fits                     \n",
       "COMMENT Index(6): /data1/INDEXES/200-current/index-213.fits                     \n",
       "COMMENT Index(7): /data1/INDEXES/200-current/index-212.fits                     \n",
       "COMMENT Index(8): /data1/INDEXES/200-current/index-211.fits                     \n",
       "COMMENT Index(9): /data1/INDEXES/200-current/index-210.fits                     \n",
       "COMMENT Index(10): /data1/INDEXES/200-current/index-209.fits                    \n",
       "COMMENT Index(11): /data1/INDEXES/200-current/index-208.fits                    \n",
       "COMMENT Index(12): /data1/INDEXES/200-current/index-207.fits                    \n",
       "COMMENT Index(13): /data1/INDEXES/200-current/index-206.fits                    \n",
       "COMMENT Index(14): /data1/INDEXES/200-current/index-205.fits                    \n",
       "COMMENT Index(15): /data1/INDEXES/200-current/index-204-05.fits                 \n",
       "COMMENT Index(16): /data1/INDEXES/200-current/index-203-05.fits                 \n",
       "COMMENT Index(17): /data1/INDEXES/4100/index-4119.fits                          \n",
       "COMMENT Index(18): /data1/INDEXES/4100/index-4118.fits                          \n",
       "COMMENT Index(19): /data1/INDEXES/4100/index-4117.fits                          \n",
       "COMMENT Index(20): /data1/INDEXES/4100/index-4116.fits                          \n",
       "COMMENT Index(21): /data1/INDEXES/4100/index-4115.fits                          \n",
       "COMMENT Index(22): /data1/INDEXES/4100/index-4114.fits                          \n",
       "COMMENT Index(23): /data1/INDEXES/4100/index-4113.fits                          \n",
       "COMMENT Index(24): /data1/INDEXES/4100/index-4112.fits                          \n",
       "COMMENT Index(25): /data1/INDEXES/4100/index-4111.fits                          \n",
       "COMMENT Index(26): /data1/INDEXES/4100/index-4110.fits                          \n",
       "COMMENT Index(27): /data1/INDEXES/4100/index-4109.fits                          \n",
       "COMMENT Index(28): /data1/INDEXES/4100/index-4108.fits                          \n",
       "COMMENT Index(29): /data1/INDEXES/4100/index-4107.fits                          \n",
       "COMMENT Field name: job.axy                                                     \n",
       "COMMENT Field scale lower: 1.6 arcsec/pixel                                     \n",
       "COMMENT Field scale upper: 288 arcsec/pixel                                     \n",
       "COMMENT X col name: X                                                           \n",
       "COMMENT Y col name: Y                                                           \n",
       "COMMENT Start obj: 0                                                            \n",
       "COMMENT End obj: 0                                                              \n",
       "COMMENT Solved_in: (null)                                                       \n",
       "COMMENT Solved_out: (null)                                                      \n",
       "COMMENT Solvedserver: (null)                                                    \n",
       "COMMENT Parity: 2                                                               \n",
       "COMMENT Codetol: 0.01                                                           \n",
       "COMMENT Verify pixels: 10 pix                                                   \n",
       "COMMENT Maxquads: 0                                                             \n",
       "COMMENT Maxmatches: 0                                                           \n",
       "COMMENT Cpu limit: 600.000000 s                                                 \n",
       "COMMENT Time limit: 0 s                                                         \n",
       "COMMENT Total time limit: 0 s                                                   \n",
       "COMMENT Total CPU limit: 0.000000 s                                             \n",
       "COMMENT Tweak: yes                                                              \n",
       "COMMENT Tweak AB order: 2                                                       \n",
       "COMMENT Tweak ABP order: 2                                                      \n",
       "COMMENT --                                                                      \n",
       "COMMENT -- properties of the matching quad: --                                  \n",
       "COMMENT index id: 211                                                           \n",
       "COMMENT index healpix: -1                                                       \n",
       "COMMENT index hpnside: 1                                                        \n",
       "COMMENT log odds: 159.598                                                       \n",
       "COMMENT odds: 2.05369e+69                                                       \n",
       "COMMENT quadno: 265830                                                          \n",
       "COMMENT stars: 115321,115296,115309,115307                                      \n",
       "COMMENT field: 2,24,7,12                                                        \n",
       "COMMENT code error: 0.00788903                                                  \n",
       "COMMENT nmatch: 49                                                              \n",
       "COMMENT nconflict: 6                                                            \n",
       "COMMENT nfield: 5430                                                            \n",
       "COMMENT nindex: 53                                                              \n",
       "COMMENT scale: 4.0595 arcsec/pix                                                \n",
       "COMMENT parity: 0                                                               \n",
       "COMMENT quads tried: 102049                                                     \n",
       "COMMENT quads matched: 739472                                                   \n",
       "COMMENT quads verified: 4434                                                    \n",
       "COMMENT objs tried: 25                                                          \n",
       "COMMENT cpu time: 2.59216                                                       \n",
       "COMMENT --                                                                      \n",
       "COMMENT                                                                         \n",
       "COMMENT --End of Astrometry.net WCS--                                           \n",
       "COMMENT --(Put in by the new-wcs program)--                                     \n",
       "COMMENT                                                                         "
      ]
     },
     "execution_count": 41,
     "metadata": {},
     "output_type": "execute_result"
    }
   ],
   "source": [
    "hdulist['PRIMARY'].header"
   ]
  },
  {
   "cell_type": "markdown",
   "metadata": {},
   "source": [
    "## Now do a check of this conversion for a region of SP on Pluto"
   ]
  },
  {
   "cell_type": "code",
   "execution_count": 43,
   "metadata": {
    "collapsed": false,
    "scrolled": false
   },
   "outputs": [
    {
     "data": {
      "image/png": "[encoded data removed]",
      "text/plain": [
       "<matplotlib.figure.Figure at 0x11367e198>"
      ]
     },
     "metadata": {},
     "output_type": "display_data"
    }
   ],
   "source": [
    "file = dir + 'mpf_0299175045_0x548_sci_1.fit' # Define an MVIC Pan Frame image\n",
    "\n",
    "hdu_sp = fits.open(file)\n",
    "header = hdu_sp['PRIMARY'].header\n",
    "\n",
    "exptime = float(header['EXPTIME'])\n",
    "rpluto  = float(header['RPLUTO']) # (DN/s)/(erg/cm^2/s/Ang/sr), Pluto spectrum  \n",
    "rsolar  = float(header['RSOLAR']) # (DN/s)/(erg/cm^2/s/Ang/sr), Solar spectrum \n",
    "ppluto  = float(header['PPLUTO'])\n",
    "pixfov  = float(header['PIXFOV'])\n",
    "\n",
    "im_sp = hdu_sp['PRIMARY'].data\n",
    "im_spe = (np.transpose(im_sp[0,:,2700:2800]))  # Extract of SP image\n",
    "\n",
    "plt.imshow(im_spe, cmap = 'Greys_r')\n",
    "plt.show()\n",
    "\n",
    "dn_sp = np.median(im_spe)  # Calculate the median value of this region of SP, in DN\n",
    "\n",
    "# iof_sp = dn2iof(dn_sp, exptime, pixfov, rpluto) # Convert from DN to I/F\n",
    "\n",
    "iof_sp_known = 0.6 # From fig. 1F of Nature paper: max of (I/F)_sp ~ 0.6\n"
   ]
  },
  {
   "cell_type": "code",
   "execution_count": 44,
   "metadata": {
    "collapsed": false,
    "scrolled": false
   },
   "outputs": [],
   "source": [
    "# print(\"Pluto surface: DN = {:.2f}, I/F = {:.2f}.\".format(dn_sp, iof_sp))"
   ]
  },
  {
   "cell_type": "code",
   "execution_count": 45,
   "metadata": {
    "collapsed": false
   },
   "outputs": [
    {
     "data": {
      "text/plain": [
       "0.5"
      ]
     },
     "execution_count": 45,
     "metadata": {},
     "output_type": "execute_result"
    }
   ],
   "source": [
    "exptime"
   ]
  },
  {
   "cell_type": "code",
   "execution_count": 46,
   "metadata": {
    "collapsed": false
   },
   "outputs": [
    {
     "data": {
      "text/plain": [
       "96376.62"
      ]
     },
     "execution_count": 46,
     "metadata": {},
     "output_type": "execute_result"
    }
   ],
   "source": [
    "rpluto"
   ]
  },
  {
   "cell_type": "code",
   "execution_count": 47,
   "metadata": {
    "collapsed": false
   },
   "outputs": [
    {
     "data": {
      "text/plain": [
       "100190.64"
      ]
     },
     "execution_count": 47,
     "metadata": {},
     "output_type": "execute_result"
    }
   ],
   "source": [
    "rsolar"
   ]
  },
  {
   "cell_type": "code",
   "execution_count": 48,
   "metadata": {
    "collapsed": true
   },
   "outputs": [],
   "source": [
    "    f_solar_1au_si     = 1.77                 # W/m2/nm. At 600 nm. \n",
    "    f_solar_1au_cgs    = f_solar_1au_si * 100 # Convert from W/m2/nm to erg/sec/cm2/Angstrom\n",
    "                                              # Unit conversion is correct -- see python code below.\n",
    "\n",
    "    f_solar_1au        = f_solar_1au_cgs\n",
    "\n",
    "    r_pluto            = 33.8                 # Pluto solar distance, in AU\n",
    "    \n",
    "    # Calculate the solar flux at Pluto's distance.\n",
    "\n",
    "    f_solar_pluto       = f_solar_1au / (r_pluto**2)  # Use 1/r^2"
   ]
  },
  {
   "cell_type": "code",
   "execution_count": 49,
   "metadata": {
    "collapsed": false
   },
   "outputs": [
    {
     "data": {
      "text/plain": [
       "0.1549315500157558"
      ]
     },
     "execution_count": 49,
     "metadata": {},
     "output_type": "execute_result"
    }
   ],
   "source": [
    "f_solar_pluto"
   ]
  },
  {
   "cell_type": "markdown",
   "metadata": {
    "collapsed": true
   },
   "source": [
    "# Now do this all a simpler way, based on Hal's LORRI writeup from 2008."
   ]
  },
  {
   "cell_type": "code",
   "execution_count": 50,
   "metadata": {
    "collapsed": true
   },
   "outputs": [],
   "source": [
    "RPLUTO = rpluto"
   ]
  },
  {
   "cell_type": "code",
   "execution_count": 51,
   "metadata": {
    "collapsed": true
   },
   "outputs": [],
   "source": [
    "C = 0.03 # DN value from my analysis"
   ]
  },
  {
   "cell_type": "code",
   "execution_count": 52,
   "metadata": {
    "collapsed": true
   },
   "outputs": [],
   "source": [
    "TEXP = 0.5 # Exposure length"
   ]
  },
  {
   "cell_type": "markdown",
   "metadata": {},
   "source": [
    "### Define the solar flux, from Hal's paper."
   ]
  },
  {
   "cell_type": "code",
   "execution_count": 53,
   "metadata": {
    "collapsed": true
   },
   "outputs": [],
   "source": [
    "F_solar = 176 # Flux from Hal's paper"
   ]
  },
  {
   "cell_type": "markdown",
   "metadata": {},
   "source": [
    "### Calculate the Pluto-Sun distance, in AU (or look it up)"
   ]
  },
  {
   "cell_type": "code",
   "execution_count": 54,
   "metadata": {
    "collapsed": true
   },
   "outputs": [],
   "source": [
    "r = 33.8 # Distance in AU"
   ]
  },
  {
   "cell_type": "markdown",
   "metadata": {},
   "source": [
    "### Calculate intensity, from Hal's paper"
   ]
  },
  {
   "cell_type": "code",
   "execution_count": 55,
   "metadata": {
    "collapsed": false
   },
   "outputs": [],
   "source": [
    "I = C / TEXP / RPLUTO"
   ]
  },
  {
   "cell_type": "markdown",
   "metadata": {},
   "source": [
    "### Apply Hal's conversion formula from p. 7, to compute I/F and print it."
   ]
  },
  {
   "cell_type": "code",
   "execution_count": 56,
   "metadata": {
    "collapsed": false
   },
   "outputs": [],
   "source": [
    "IoF = math.pi * I * r**2 / F_solar # Equation from Hal's paper"
   ]
  },
  {
   "cell_type": "code",
   "execution_count": 57,
   "metadata": {
    "collapsed": false
   },
   "outputs": [
    {
     "data": {
      "text/plain": [
       "1.2695510371778691e-05"
      ]
     },
     "execution_count": 57,
     "metadata": {},
     "output_type": "execute_result"
    }
   ],
   "source": [
    "IoF"
   ]
  },
  {
   "cell_type": "markdown",
   "metadata": {},
   "source": [
    "## Now convert to 'normal I/F'"
   ]
  },
  {
   "cell_type": "markdown",
   "metadata": {},
   "source": [
    "### Define $\\mu$, the ring opening angle."
   ]
  },
  {
   "cell_type": "code",
   "execution_count": 58,
   "metadata": {
    "collapsed": false
   },
   "outputs": [],
   "source": [
    "mu = math.cos(lat_obs / 57)"
   ]
  },
  {
   "cell_type": "markdown",
   "metadata": {},
   "source": [
    "\n",
    "### Calculate the normal I/F"
   ]
  },
  {
   "cell_type": "code",
   "execution_count": 59,
   "metadata": {
    "collapsed": true
   },
   "outputs": [],
   "source": [
    "IoF_normal = 4 * mu * IoF"
   ]
  },
  {
   "cell_type": "code",
   "execution_count": 130,
   "metadata": {
    "collapsed": false
   },
   "outputs": [],
   "source": [
    "dist = math.sqrt(header['SPCTSOX']**2 + header['SPCTSOY']**2 + header['SPCTSOZ']**2)*u.km.to('AU') # Convert km → AU"
   ]
  },
  {
   "cell_type": "code",
   "execution_count": 61,
   "metadata": {
    "collapsed": false
   },
   "outputs": [
    {
     "data": {
      "text/plain": [
       "3.688222303328049e-05"
      ]
     },
     "execution_count": 61,
     "metadata": {},
     "output_type": "execute_result"
    }
   ],
   "source": [
    "IoF_normal"
   ]
  },
  {
   "cell_type": "markdown",
   "metadata": {},
   "source": [
    "## Now do LORRI calibration"
   ]
  },
  {
   "cell_type": "markdown",
   "metadata": {},
   "source": [
    "### Read in the LORRI mosaic file, created by Tod. \n",
    "Units in this image are unchanged from the original FITS files. They are DN, and they are averaged (not summed)."
   ]
  },
  {
   "cell_type": "code",
   "execution_count": 118,
   "metadata": {
    "collapsed": true
   },
   "outputs": [],
   "source": [
    "file = '/Users/throop/Data/NH_LORRI_Ring/o_ring_202/ring_lor202_mos_header_v1.fits'\n",
    "hdulist = fits.open(file)"
   ]
  },
  {
   "cell_type": "markdown",
   "metadata": {},
   "source": [
    "### Read the header keywords to get the calibration constants and other quantities"
   ]
  },
  {
   "cell_type": "code",
   "execution_count": 140,
   "metadata": {
    "collapsed": false
   },
   "outputs": [],
   "source": [
    "header = hdulist['PRIMARY'].header\n",
    "# Get some FITS keywords. We could also get CCDGAIN, RDNOISE, etc.\n",
    "EXPTIME = header['EXPTIME'] # Usually 200ms or 400 ms. Not sure what the difference is\n",
    "# RSOLAR  = header['RSOLAR']  # Conversion constant for unresolved sources. \n",
    "                            # RSOLAR = 2.664E+05 (DN/s)/(erg/cm^2/s/Å/sr) [in Hal's paper]\n",
    "                            # RSOLAR = 5.1E+06                            [in FITS header]\n",
    "                            # Not sure what the difference here is due to?\n",
    "RSOLAR = 3800640.0          # For 4x4, as per Hal e-mail 7-Dec-2016. Do NOT use FITS header keywords.\n",
    "                            # They are not corrected for 4x4, *and* value has changed by ~20%.\n",
    "\n",
    "dist = math.sqrt(header['SPCTSOX']**2 + header['SPCTSOY']**2 + header['SPCTSOZ']**2) # Distance in km\n",
    "dist_au = dist*u.km.to('AU') # Convert distance to AU.\n",
    "\n",
    "F_solar = 176 # Solar flux, in erg/cm2/s/Angstrom. Value from Hal's whitepaper."
   ]
  },
  {
   "cell_type": "markdown",
   "metadata": {},
   "source": [
    "### Define the ring brightness limit that I find, in DN"
   ]
  },
  {
   "cell_type": "code",
   "execution_count": 141,
   "metadata": {
    "collapsed": true
   },
   "outputs": [],
   "source": [
    "dn_ring = 1 # Typical scatter in binned DN values in the LORRI mosaic images."
   ]
  },
  {
   "cell_type": "markdown",
   "metadata": {},
   "source": [
    "### Do the conversion from DN to I/F, following Hal's paper"
   ]
  },
  {
   "cell_type": "code",
   "execution_count": 142,
   "metadata": {
    "collapsed": false
   },
   "outputs": [],
   "source": [
    "I = dn_ring/EXPTIME/RSOLAR\n",
    "IoF = math.pi * I * dist_au**2 / F_solar\n",
    "IoF_normal = 4 * mu * IoF"
   ]
  },
  {
   "cell_type": "markdown",
   "metadata": {},
   "source": [
    "### Print the results to a table"
   ]
  },
  {
   "cell_type": "code",
   "execution_count": 143,
   "metadata": {
    "collapsed": false
   },
   "outputs": [
    {
     "name": "stdout",
     "output_type": "stream",
     "text": [
      "LORRI Ring limit\n",
      "Image = ring_lor202_mos_header_v1.fits\n",
      "UTC = 2015-07-21T13:00:00.663\n",
      "Distance = 32.9 AU\n",
      "RSOLAR = 5114880.0\n",
      "EXPTIME = 0.4 sec\n",
      "mu = cos(43.2 deg) = 7.26e-01\n",
      "Ring upper limit = 1 DN\n",
      "I/F = 9.45e-06\n",
      "Normal I/F = 2.75e-05\n"
     ]
    }
   ],
   "source": [
    "print(\"LORRI Ring limit\")\n",
    "print(\"Image = \" + file.split('/')[-1])\n",
    "print(\"UTC = \" + header['SPCUTCAL'])\n",
    "print(\"Distance = {:.1f} AU\".format(dist_au))\n",
    "print(\"RSOLAR = \" + repr(RSOLAR))\n",
    "print(\"EXPTIME = {} sec\".format(EXPTIME))\n",
    "print(\"mu = cos({} deg) = {:.2e}\".format(lat_obs, mu))\n",
    "print(\"Ring upper limit = {} DN\".format(dn_ring))\n",
    "print(\"I/F = {:.2e}\".format(IoF))\n",
    "print(\"Normal I/F = {:.2e}\".format(IoF_normal))"
   ]
  },
  {
   "cell_type": "code",
   "execution_count": 144,
   "metadata": {
    "collapsed": false
   },
   "outputs": [
    {
     "data": {
      "text/plain": [
       "SIMPLE  =                    T / Written by IDL:  Fri Jun 10 15:38:03 2016      \n",
       "BITPIX  =                  -32 / IEEE single precision floating point           \n",
       "NAXIS   =                    2 / number of array dimensions                     \n",
       "NAXIS1  =                  720 / Number of positions along axis 1               \n",
       "NAXIS2  =                 1560 / Number of positions along axis 2               \n",
       "EXTEND  =                    T                                                  \n",
       "MISSION = 'New Horizons'       / Mission name                                   \n",
       "HOSTNAME= 'NEW HORIZONS'       / Host name (PDS terminology)                    \n",
       "HOSTID  = 'NH      '           / Host ID (PDS terminology)                      \n",
       "INSTRU  = 'lor     '           / Instrument                                     \n",
       "APID    = '0x633   '           / Application ID of science data                 \n",
       "MET     =            299789519 / First packet MET (from instrument or HS bus)   \n",
       "METEND  =            299789519 / Last packet MET (from instrument or HS bus)    \n",
       "MET_HK  =            299789518 / MET from housekeeping used in header           \n",
       "HSCOMPR = 'LOSSLESS'           / High-speed compression mode                    \n",
       "OBSCOMPL= 'COMPLETE'           / Observation completion status                  \n",
       "MISSPACK=                    0 / Missing CCSDS packets (-1 = N/A)               \n",
       "STARTMET=         299789518.58 / Actual start time (in MET seconds)             \n",
       "STOPMET =         299789518.98 / Actual stop time (in MET seconds)              \n",
       "DURMET  =   0.3999999761581421 / Observation duration (in MET seconds)          \n",
       "METSRC  = 'HK_Info '           / Source of above three times                    \n",
       "EXPTIME =                  0.4 / Exposure time                                  \n",
       "ARCHDATE= '2016/161'           / Date of MOC archive file                       \n",
       "GRT     =     21344.2076845774 / Ground receipt time from STP                   \n",
       "DATE    = '2016-06-10T14:41:47' / Time file was created by SOC                  \n",
       "SOCVER  =                  6.3 / SOC pipeline software version                  \n",
       "SOCLOC  = 'TSOC    '           / SOC location where processed (TSOC or CSOC)    \n",
       "LOADID  = '15201   '           / Sequence load ID                               \n",
       "REQID   = 'DPLR_O_RING_DEP_LORRI_202' / Request ID                              \n",
       "REQREC  = 'SSR1    '           / Recorder used                                  \n",
       "REQCOMM = '---     '           / Request comment                                \n",
       "OPNAV   = 'SCIENCE '           / Optical navigation type                        \n",
       "MSNPHASE= 'PLUTO   '           / Mission phase                                  \n",
       "MSNSUBPH= 'DP1     '           / Mission subphase                               \n",
       "SCIGRP  = 'Group 3 '           / Science group                                  \n",
       "SAPID   =                 2104 / Science Activity Plan ID                       \n",
       "SAPNAME = 'O_RING_DEP_LORRI_202' / Science Activity Plan name                   \n",
       "SAPDESC = '---     '           / Science Activity Plan description              \n",
       "VISITID =                43732 / Visit ID                                       \n",
       "VISITNAM= 'O_RING_DEP_LORRI_202' / Visit name                                   \n",
       "VISITDSC= 'Ring search, outbound, high-resolution with LORRI' / Visit descriptio\n",
       "RIDEALNG= 'YES     '           / Riding along with other instrument             \n",
       "TARGET  = 'PLUTO   '           / Intended target                                \n",
       "TRGFOVN =                    0 / Num targets in view                            \n",
       "THRUSTX = 'ENABLED '           / X thrusters enabled                            \n",
       "THRUSTY = 'ENABLED '           / Y thrusters enabled                            \n",
       "THRUSTZ = 'ENABLED '           / Z thrusters enabled                            \n",
       "SCANRATE=               -999.0 / G/C scan rate                                  \n",
       "RCMODE  = 'DISABLED'           / Relative control mode                          \n",
       "PNTMTHD = 'RADEC=90.76,14.68=PLUTO' / Pointing method                           \n",
       "SCSPIN  = '3-Axis  '           / Spacecraft spin state                          \n",
       "SPCSEP  = '***GEOMETRY SECTION*************************************'            \n",
       "SPCQUAL = 'RECONSTRUCTED'      / QUALITY:  PREDICT (poor); RECONSTRUCTED        \n",
       "SPCSTAT = 'OK      '           / SPICE status [OK or INCOMPLETE ...]            \n",
       "SPCINST0= 'NH_LORRI'           / Starting SPICE Instrument or FRAME             \n",
       "SPCINSTR= 'NH_LORRI'           / Final SPICE Instrument or FRAME                \n",
       "SPCMET0 =         299789518.58 / RAW MET timestamp                              \n",
       "SPCMETDL=    0.199999988079071 / [s] delta, (Mid-obs time) - (RAW MET)          \n",
       "SPCCBTNM= 'PLUTO   '           / [text] Target input name                       \n",
       "SPCCBTID=                  999 / [SPICE ID] Target                              \n",
       "SPCSCLK0= '0299789518:29000'   / Spacecraft CLocK timestamp                     \n",
       "SPCINSID=               -98300 / [SPICE ID] Instrument                          \n",
       "SPCSCID =                  -98 / [SPICE ID] Spacecraft                          \n",
       "SPCSCNAM= 'NH_SPACECRAFT'      / [SPICE Name] Spacecraft                        \n",
       "SPCSCET =    490755668.8467933 / [s past J2000] Spacecraft mid-obs time, TDB    \n",
       "SPCSCLK = '3/0299789518:39000' / Mid-obs Spacecraft CLocK                       \n",
       "SPCSCDP =     14989475939000.0 / [SCLK milli-ticks] Spacecraft mid-obs time     \n",
       "SPCUTCID= '2015-202T13:00:00.663' / [ISO DOY] Spacecraft mid-obs time, UTC      \n",
       "SPCUTCAL= '2015-07-21T13:00:00.663' / [Cal d] Spacecraft mid-obs time, UTC      \n",
       "SPCUTCJD= 'JD 2457225.0416743' / [Julian d] Spacecraft mid-obs time, UTC        \n",
       "SPCPSEP = '******INSTRUMENT POINTING*******************************'            \n",
       "SPCBRRA =    91.13384434631796 / [degrees] Boresight RA, EME J2000              \n",
       "SPCBRDEC=    14.90945299018135 / [degrees] Boresight DEC, EME J2000             \n",
       "SPCEMEN =    23.14641820298922 / [degrees] EME J2k North Clk Angle, CW from UP  \n",
       "SPCPAXIN=    293.1464182029893 / [degrees] Instr +X Pos ang, E from EMEJ2k N    \n",
       "SPCPAYIN=    23.14641820298922 / [degrees] Instr +Y Pos ang, E from EMEJ2k N    \n",
       "SPCPAZIN=               -999.0 / [degrees] Instr +Z Pos ang, E from EMEJ2k N    \n",
       "SPCQA   =   0.5957598750808996 / cos(theta/2)     - Quaternion to transform     \n",
       "SPCQX   =    0.778288168512256 / sin(theta/2) * X -   instrument vectors        \n",
       "SPCQY   =  -0.1513725230933738 / sin(theta/2) * Y -   to EME J2000 vectors      \n",
       "SPCQZ   =    0.128156378108058 / sin(theta/2) * Z -   ***N.B. SPICE FORMAT      \n",
       "RATEX   =    14.53451277820579 / [urad/s] Angular rate about inst frame +X axis \n",
       "RATEY   =    2.887094884383016 / [urad/s] Angular rate about inst frame +Y axis \n",
       "RATEZ   =    27.47733234155663 / [urad/s] Angular rate about inst frame +Z axis \n",
       "RATEXY  =    14.81848098056133 / [urad/s] Drift rate magnitude in inst XY Plane \n",
       "RATEYZ  =    27.62859224571141 / [urad/s] Drift rate magnitude in inst YZ Plane \n",
       "RATEXZ  =    31.08465625205113 / [urad/s] Drift rate magnitude in inst XZ Plane \n",
       "RATEMAG =    31.21844280516906 / [urad/s] Drift rate of Angular rate vector     \n",
       "SPCSCQA =   0.2324830812254521 / cos(theta/2)     - Quaternion to transform     \n",
       "SPCSCQX =  -0.6726203309765766 / sin(theta/2) * X -   Spacecraft vectors        \n",
       "SPCSCQY =   0.7006400548472055 / sin(theta/2) * Y -   to EME J2000 vectors      \n",
       "SPCSCQZ = -0.05135193126441596 / sin(theta/2) * Z -   ***N.B. SPICE FORMAT      \n",
       "SPCTSEP0= '******Target:  Target->S/C****************************'              \n",
       "SPCTCB  = 'PLUTO   '           / [SPICE name] Target name                       \n",
       "SPCTSCX =    104447.6762692212 / [km] S/C vec wrt Target, X, EMEJ2000           \n",
       "SPCTSCY =   -8121060.606430022 / [km] S/C vec wrt Target, Y                     \n",
       "SPCTSCZ =   -2123974.862512117 / [km] S/C vec wrt Target, Z                     \n",
       "SPCTSCVX=   0.1622830909970618 / [km/s] S/C vel vec wrt Target, X               \n",
       "SPCTSCVY=    -13.3234626794915 / [km/s] S/C vel vec wrt Target, Y               \n",
       "SPCTSCVZ=   -3.462436783962473 / [km/s] S/C vel vec wrt Target, Z               \n",
       "SPCTRANG=    8394867.712297255 / [km] S/C range to Target center                \n",
       "SPCTTGJD= 'JD 2457225.0413502' / [Julian d] Time at Target, UTC                 \n",
       "SPCTSEP1= '******Target:  Target->Sun****************************'              \n",
       "SPCTSOX =   -1200396411.098765 / [km] Sun vec wrt Target, X, EMEJ2000           \n",
       "SPCTSOY =    4443474771.055907 / [km] Sun vec wrt Target, Y                     \n",
       "SPCTSOZ =    1748486025.657629 / [km] Sun vec wrt Target, Z                     \n",
       "SPCTSOVX=   -5.364788731341402 / [km/s] Sun vel vec wrt Target, X               \n",
       "SPCTSOVY=   -0.800136053143547 / [km/s] Sun vel vec wrt Target, Y               \n",
       "SPCTSOVZ=    1.385185506316422 / [km/s] Sun vel vec wrt Target, Z               \n",
       "SPCTSORN=    4923679819.678484 / [km] Sun range to Target center                \n",
       "SPCTSEP2= '******Target:  Target->EarthObserver****************************'    \n",
       "SPCTEOX =   -1128190936.920331 / [km] Earth observer vec wrt Target, X, EMEJ2000\n",
       "SPCTEOY =    4320775698.769859 / [km] Earth obs vec wrt Target, Y               \n",
       "SPCTEOZ =    1695351364.825496 / [km] Earth obs vec wrt Target, Z               \n",
       "SPCTEOVX=    20.34649651212518 / [km/s] Earth obs vel vec wrt Target, X         \n",
       "SPCTEOVY=    12.12048971257127 / [km/s] Earth obs vel vec wrt Target, Y         \n",
       "SPCTEOVZ=    6.985221286360901 / [km/s] Earth obs vel vec wrt Target, Z         \n",
       "SPCTEORN=    4776623669.439013 / [km] Earth observer range to Target center     \n",
       "SPCTEOJD= 'JD 2457225.2257611' / [Julian d] Time at Earth observer              \n",
       "SPCTSEPB= '******Target:  Body-fixed info****************************'          \n",
       "SPCTSCLA=   -43.21703637474955 / [degrees] planetocentric Sub-S/C latitude      \n",
       "SPCTSCLO=    289.0164315164469 / [degrees] planetocentric Sub-S/C EAST longitude\n",
       "SPCTSOLA=    51.57751752764677 / [degrees] planetocentric Sub-Solar latitude    \n",
       "SPCTSOLO=    90.49556150086821 / [degrees] planetocentric Sub-Solar EAST long.  \n",
       "SPCTNAZ =     269.227284370765 / [degrees] Target North Azimuth, CW from UP     \n",
       "SPCSEPS = '******S/C->SUN****************************************'              \n",
       "SPCSSCX =   -1200584904.339837 / [km] Sun vec wrt S/C observer, X, EMEJ2000     \n",
       "SPCSSCY =     4451566680.93541 / [km] Sun vec wrt S/C obs, Y                    \n",
       "SPCSSCZ =    1750626491.394547 / [km] Sun vec wrt S/C obs, Z                    \n",
       "SPCSSCVX=   -5.527071822501587 / [km/s] Sun obs vel vec wrt S/C obs, X          \n",
       "SPCSSCVY=    12.52332662638613 / [km/s] Sun vel vec wrt S/C obs, Y              \n",
       "SPCSSCVZ=    4.847622290308395 / [km/s] Sun vel vec wrt S/C obs, Z              \n",
       "SPCSSCRN=    4931789040.471559 / [km] S/C observer range to sun center          \n",
       "SPCSSCJD= 'JD 2457224.8512730' / [Julian d] Time at Sun                         \n",
       "SPCSEPE = '******EARTH->S/C****************************************'            \n",
       "SPCESCX =    1129034652.015107 / [km] S/C observer vec wrt earth, X, EMEJ2000   \n",
       "SPCESCY =   -4328514757.637504 / [km] S/C obs vec wrt earth, Y                  \n",
       "SPCESCZ =   -1697281618.832991 / [km] S/C obs vec wrt earth, Z                  \n",
       "SPCESCVX=   -20.27181403749633 / [km/s] S/C obs vel vec wrt earth, X            \n",
       "SPCESCVY=   -25.29603255392236 / [km/s] S/C obs vel vec wrt earth, Y            \n",
       "SPCESCVZ=   -10.38353782404115 / [km/s] S/C obs vel vec wrt earth, Z            \n",
       "SPCESCRN=    4784508767.487512 / [km] S/C observer range to earth center        \n",
       "SPCESCJD= 'JD 2457224.8569590' / [Julian d] Time at Earth                       \n",
       "SPCKSEP = '******SPICE KERNELS*************************************'            \n",
       "SPCKNUM =                   47 / COUNT OF LOADED SPICE KERNELS:                 \n",
       "SPCK0001= 'naif0011.tls'       / SPICE kernel 0001                              \n",
       "SPCK0002= 'new-horizons_1205.tsc' / SPICE kernel 0002                           \n",
       "SPCK0003= 'nh_stars_kbo_centaur_ppinp.tpc' / SPICE kernel 0003                  \n",
       "SPCK0004= 'pck00010.tpc'       / SPICE kernel 0004                              \n",
       "SPCK0005= 'nh_v220.tf'         / SPICE kernel 0005                              \n",
       "SPCK0006= 'nh_allinstruments_v002.ti' / SPICE kernel 0006                       \n",
       "SPCK0007= 'nh_alice_v200.ti'   / SPICE kernel 0007                              \n",
       "SPCK0008= 'nh_lorri_v201.ti'   / SPICE kernel 0008                              \n",
       "SPCK0009= 'nh_pepssi_v110.ti'  / SPICE kernel 0009                              \n",
       "SPCK0010= 'nh_ralph_v100.ti'   / SPICE kernel 0010                              \n",
       "SPCK0011= 'nh_rex_v100.ti'     / SPICE kernel 0011                              \n",
       "SPCK0012= 'nh_sdc_v101.ti'     / SPICE kernel 0012                              \n",
       "SPCK0013= 'nh_swap_v200.ti'    / SPICE kernel 0013                              \n",
       "SPCK0014= 'nh_soc_misc_v001.tf' / SPICE kernel 0014                             \n",
       "SPCK0015= 'sb-2002jf56-2.bsp'  / SPICE kernel 0015                              \n",
       "SPCK0016= 'jup260.bsp'         / SPICE kernel 0016                              \n",
       "SPCK0017= 'kbo_centaur_horizons_20131129.bsp' / SPICE kernel 0017               \n",
       "SPCK0018= 'nh_extras.bsp'      / SPICE kernel 0018                              \n",
       "SPCK0019= 'nh_stars.bsp'       / SPICE kernel 0019                              \n",
       "SPCK0020= 'NavPE_de433_od123.bsp' / SPICE kernel 0020                           \n",
       "SPCK0021= 'NavSE_plu047_od123.bsp' / SPICE kernel 0021                          \n",
       "SPCK0022= 'nh_nep_ura_000.bsp' / SPICE kernel 0022                              \n",
       "SPCK0023= 'nh_recon_e2j_v1.bsp' / SPICE kernel 0023                             \n",
       "SPCK0024= 'nh_recon_j2sep07_prelimv1.bsp' / SPICE kernel 0024                   \n",
       "SPCK0025= 'nh_recon_pluto_od122_v01.bsp' / SPICE kernel 0025                    \n",
       "SPCK0026= 'merged_nhpc_2006_v001.bc' / SPICE kernel 0026                        \n",
       "SPCK0027= 'merged_nhpc_2007_v001.bc' / SPICE kernel 0027                        \n",
       "SPCK0028= 'merged_nhpc_2008_v001.bc' / SPICE kernel 0028                        \n",
       "SPCK0029= 'merged_nhpc_2009_v001.bc' / SPICE kernel 0029                        \n",
       "SPCK0030= 'merged_nhpc_2010_v001.bc' / SPICE kernel 0030                        \n",
       "SPCK0031= 'merged_nhpc_2011_v001.bc' / SPICE kernel 0031                        \n",
       "SPCK0032= 'merged_nhpc_2012_v001.bc' / SPICE kernel 0032                        \n",
       "SPCK0033= 'merged_nhpc_2013_v001.bc' / SPICE kernel 0033                        \n",
       "SPCK0034= 'merged_nhpc_2014_v001.bc' / SPICE kernel 0034                        \n",
       "SPCK0035= 'merged_nhpc_2015_v038.bc' / SPICE kernel 0035                        \n",
       "SPCK0036= 'merged_nhpc_2016_01_v019.bc' / SPICE kernel 0036                     \n",
       "SPCK0037= 'merged_nhpc_2016_02_v018.bc' / SPICE kernel 0037                     \n",
       "SPCK0038= 'merged_nhpc_2016_03_v006.bc' / SPICE kernel 0038                     \n",
       "SPCK0039= 'merged_nhpc_2016_04_v020.bc' / SPICE kernel 0039                     \n",
       "SPCK0040= 'merged_nhpc_2016_05_v005.bc' / SPICE kernel 0040                     \n",
       "SPCK0041= 'nhpc_2016_153_03.bc' / SPICE kernel 0041                             \n",
       "SPCK0042= 'nhpc_2016_154_01.bc' / SPICE kernel 0042                             \n",
       "SPCK0043= 'nhpc_2016_155_03.bc' / SPICE kernel 0043                             \n",
       "SPCK0044= 'nhpc_2016_156_02.bc' / SPICE kernel 0044                             \n",
       "SPCK0045= 'nhpc_2016_157_02.bc' / SPICE kernel 0045                             \n",
       "SPCK0046= 'nhpc_2016_158_04.bc' / SPICE kernel 0046                             \n",
       "SPCK0047= 'nhpc_2016_161_01.bc' / SPICE kernel 0047                             \n",
       "WCSSEP  = '******World Coordinate System keywords******************'            \n",
       "CRPIX1  =                127.5 / [WCS PIXEL] x-coordinate of reference pixel    \n",
       "CRPIX2  =                127.5 / [WCS PIXEL] y-coordinate of reference pixel    \n",
       "CD1_1   = -0.001045996093677613 /  dRA/dNAXIS1 linear transform. paramam.       \n",
       "CD1_2   = 0.0004471570760364304 /  dRA/dNAXIS2 linear transform. paramam.       \n",
       "CD2_1   = 0.0004471570760364304 / dDEC/dNAXIS1 linear transform. paramam.       \n",
       "CD2_2   = 0.001045996093677613 / dDEC/dNAXIS2 linear transform. paramam.        \n",
       "CTYPE1  = 'RA---TAN-SIP'       / Coordinate type for the first axis             \n",
       "CTYPE2  = 'DEC--TAN-SIP'       / Coordinate type for the second axis            \n",
       "RADESYS = 'ICRS    '           / Coordinate system definition                   \n",
       "EQUINOX =               2000.0 / Epoch of mean equator and equinox              \n",
       "CUNIT1  = 'deg     '           / Units for first axis                           \n",
       "CUNIT2  = 'deg     '           / Units for second axis                          \n",
       "CRVAL1  =    91.13384434631796 / [deg] Right Ascension at reference pixel       \n",
       "CRVAL2  =    14.90945299018135 / [deg] Declination at reference pixel           \n",
       "A_ORDER =                    3 / Forward SIP; Cubic                             \n",
       "A_3_0   =  -7.309363944497E-08 / Forward SIP; x**3 x y**0                       \n",
       "A_2_1   =  5.8838389330992E-12 / Forward SIP; x**2 x y**1                       \n",
       "A_1_2   = -7.2810573079073E-08 / Forward SIP; x**1 x y**2                       \n",
       "A_0_3   = -7.7222124763245E-15 / Forward SIP; x**0 x y**3                       \n",
       "A_2_0   =  1.4853153381189E-06 / Forward SIP; x**2 x y**0                       \n",
       "A_1_1   =  9.7959645967839E-07 / Forward SIP; x**1 x y**1                       \n",
       "A_0_2   = -1.5598396806578E-09 / Forward SIP; x**0 x y**2                       \n",
       "B_ORDER =                    3 / Forward SIP; Cubic                             \n",
       "B_3_0   = -7.7221397202775E-15 / Forward SIP; x**3 x y**0                       \n",
       "B_2_1   = -7.2808075457509E-08 / Forward SIP; x**2 x y**1                       \n",
       "B_1_2   = 5.883838638417601E-12 / Forward SIP; x**1 x y**2                      \n",
       "B_0_3   = -7.3096142266041E-08 / Forward SIP; x**0 x y**3                       \n",
       "B_2_0   = -1.0305814188049E-09 / Forward SIP; x**2 x y**0                       \n",
       "B_1_1   =  1.4825209196581E-06 / Forward SIP; x**1 x y**1                       \n",
       "B_0_2   = 9.814427226874801E-07 / Forward SIP; x**0 x y**2                      \n",
       "AP_ORDER=                    3 / Reverse SIP; Cubic                             \n",
       "AP_3_0  =  7.3440595935636E-08 / Reverse SIP; x**3 x y**0                       \n",
       "AP_1_2  =  7.3440595935636E-08 / Reverse SIP; x**1 x y**2                       \n",
       "AP_2_0  = -1.4975995507201E-06 / Reverse SIP; x**2 x y**0                       \n",
       "AP_1_1  = -9.8955970313209E-07 / Reverse SIP; x**1 x y**1                       \n",
       "BP_ORDER=                    3 / Reverse SIP; Cubic                             \n",
       "BP_2_1  =  7.3440595935636E-08 / Reverse SIP; x**2 x y**1                       \n",
       "BP_0_3  =  7.3440595935636E-08 / Reverse SIP; x**0 x y**3                       \n",
       "BP_1_1  = -1.4975995507201E-06 / Reverse SIP; x**1 x y**1                       \n",
       "BP_0_2  = -9.8955970313209E-07 / Reverse SIP; x**0 x y**2                       \n",
       "PACMMNT0= '*** Position angles (PAs):  XYZ axes, degrees east of EMEJ2k North'  \n",
       "PACMMNT1= '***   on plane perpendicular to boresight; -999 => Boresight'        \n",
       "PA_XINST=    293.1464182029893 / [degrees] PA +X, East of EMEJ2k North          \n",
       "PA_YINST=    23.14641820298922 / [degrees] PA +Y, East of EMEJ2k North          \n",
       "PA_ZINST=               -999.0 / [degrees] PA +Z, East of EMEJ2k North          \n",
       "PA_SUN  =    64.08491131610208 / [degrees] PA of SUN, East of EMEJ2k North      \n",
       "PA_SUN_X=    130.9384931131128 / [degrees] PA from +X to Sun, East of EMEJ2k N  \n",
       "PA_SUN_Y=    40.93849311311283 / [degrees] PA from +Y to Sun, East of EMEJ2k N  \n",
       "PA_SUN_Z=               -999.0 / [degrees] PA from +Z to Sun, East of EMEJ2k N  \n",
       "ELCMMNT0= '*** Elongation angles: Angular separation btw vector to'             \n",
       "ELCMMNT1= '***   the target and the instrument line of sight.'                  \n",
       "SOL_ELON=    14.52149456311512 / [degrees] Angle btw SUN and Instr Boresight    \n",
       "EAR_ELON=    14.10511836198069 / [degrees] Angle btw EARTH and Instr Boresight  \n",
       "HIGHSSEP= '********************************************************'            \n",
       "WINDOWX =                    0 / X origin of window                             \n",
       "WINDOWY =                    0 / Y origin of window                             \n",
       "WINDOWW =                  257 / Window width                                   \n",
       "WINDOWH =                    0 / Window height                                  \n",
       "CPLANE  =                    0 / Color/plane number                             \n",
       "INSTSSEP= '********************************************************'            \n",
       "LVPS_00 =                  711 / EPU +5 voltage                                 \n",
       "LVPS_01 =                  143 / EPU +5 current                                 \n",
       "LVPS_02 =                  718 / FPU +15 voltage                                \n",
       "LVPS_03 =                   80 / FPU +15 current                                \n",
       "LVPS_04 =                  714 / FPU +6 voltage                                 \n",
       "LVPS_05 =                  162 / FPU +6 current                                 \n",
       "LVPS_06 =                    0 / FPU heater current                             \n",
       "LVPS_07 =                  701 / EPU +2.5 voltage                               \n",
       "LVPS_08 =                  486 / Intermediate ring temperature                  \n",
       "LVPS_09 =                  499 / Mounting foot-top temperature                  \n",
       "LVPS_10 =                  486 / M2 mirror mount temperature                    \n",
       "LVPS_11 =                  430 / Radiator temperature                           \n",
       "LVPS_12 =                  496 / Baffle-aft temperature                         \n",
       "LVPS_13 =                  469 / Baffle-forward temperature                     \n",
       "LVPS_14 =                  485 / M1 mirror support temperature                  \n",
       "LVPS_15 =                  487 / M1 mirror temperature                          \n",
       "FPU_0   =                 2196 / CCD temperature                                \n",
       "FPU_1   =                26615 / M1 V/F temperature                             \n",
       "FPU_2   =                28188 / M2 V/F temperature                             \n",
       "FPU_3   =                29240 / FPU board V/F temperature                      \n",
       "EXPOSURE=                  400 / Exposure time (1 ms)                           \n",
       "CLMP2   =                    0 / Calibration lamp #2 level                      \n",
       "CLMP1   =                    0 / Calibration lamp #1 level                      \n",
       "TEMPCVRT=                    1 / Temperature convers enable  0=disable,1=enable \n",
       "CLMP2PE =                    0 / Cal. Lamp #2 Power Enable  0=on, 1=off         \n",
       "CLMP1PE =                    0 / Cal. Lamp #1 Power Enable  0=on, 1=off         \n",
       "SOURCE  =                    0 / 0=CCD,1=FPUp1,2=FPUp2,3=DPUp1,4=DPUp2          \n",
       "FORMAT  =                    1 / Image format  0=1x1, 1=4x4                     \n",
       "EXPMODE =                    0 / Exposure Mode  0=Manual, 1=Automatic           \n",
       "HDRSRC  = 'IMAGE_DESCRIPTOR'   / Source of housekeeping values above            \n",
       "COMMENT *********************************************************               \n",
       "COMMENT *** LORRI Level 2 software name and version info      ***               \n",
       "COMMENT *********************************************************               \n",
       "L2_SWNAM= 'lorri_level2_pipeline' /Level 2 calibration software                 \n",
       "L2_SWVER= '1.1.3   '           /software version tag                            \n",
       "COMMENT *********************************************************               \n",
       "COMMENT *** LORRI Level 2 software logic flow control flags   ***               \n",
       "COMMENT *********************************************************               \n",
       "IMGSUBTR= 'OMIT    '           / image subtraction step                         \n",
       "BIASCORR= 'PERFORM '           / bias subtraction step                          \n",
       "FILLCORR= 'PERFORM '           / fill missing data                              \n",
       "SLINCORR= 'OMIT    '           / signal linearization step                      \n",
       "CTICORR = 'OMIT    '           / charge transfer inefficiency step              \n",
       "DARKCORR= 'OMIT    '           / dark subtraction step                          \n",
       "SMEARCOR= 'PERFORM '           / smear removal step                             \n",
       "FLATCORR= 'PERFORM '           / flat-fielding step                             \n",
       "GEOMCORR= 'OMIT    '           / geometric correction step                      \n",
       "MASKCORR= 'PERFORM '           / mask missing data                              \n",
       "ABSCCORR= 'PERFORM '           / absolute calibration step                      \n",
       "COMPERR = 'PERFORM '           / compute error estimate                         \n",
       "COMPQUAL= 'PERFORM '           / compute quality flags                          \n",
       "COMMENT *********************************************************               \n",
       "COMMENT *** LORRI Level 2 Reference Filename                  ***               \n",
       "COMMENT *********************************************************               \n",
       "REFDEBIA= 'delta_bias_4x4_synthetic.fit' / debias image filename                \n",
       "REFFLAT = 'cflat_grnd_4x4_synthetic_v2.fit' / flat field image filename         \n",
       "REFDEAD = 'dead_ground_4x4_synthetic.fit' / dead pixel image filename           \n",
       "REFHOT  = 'hot_ground_4x4_synthetic.fit' / hot pixel image filename             \n",
       "REFSUBIM= '        '           / subtraction image filename                     \n",
       "COMMENT *********************************************************               \n",
       "COMMENT *** LORRI Level 2 Absolute Calibration Parameters     ***               \n",
       "COMMENT *** Rxxx keyword units=(DN/s/pixel)/(erg/cm^2/s/A/sr) ***               \n",
       "COMMENT *** Pxxx keyword units=(DN/s)/(erg/cm^2/s/A)          ***               \n",
       "COMMENT *********************************************************               \n",
       "BIASMTHD= 'median of dark column data' / Method used to calculate bias value    \n",
       "BIASLEVL=        522.000000000 / median bias level of dark columns, units=DN    \n",
       "RDNOISE =        1.10000000000 / Read noise, units=DN                           \n",
       "CCDGAIN =        22.0000000000 / CCD gain, units=e/DN                           \n",
       "PIVOT   =        6076.20019531 / LORRI pivot wavelength. units=angstroms        \n",
       "RSOLAR  =        5114880.00000 / Conv to radiance for solar source              \n",
       "RPLUTO  =        4944000.00000 / Conv to radiance for pluto source              \n",
       "RPHOLUS =        6226560.00000 / Conv to radiance for 5145 pholus source        \n",
       "RCHARON =        5049600.00000 / Conv to radiance for charon source             \n",
       "RJUPITER=        4506240.00000 / Conv to radiance for jupiter source            \n",
       "PPLUTO  =    1.23600006204E+16 / Conv to irradiance for pluto source            \n",
       "PSOLAR  =    1.27920004569E+16 / Conv to irradiance for solar source            \n",
       "PPHOLUS =    1.55640002670E+16 / Conv to irradiance for 5145 pholus source      \n",
       "PCHARON =    1.26239993751E+16 / Conv to irradiance for charon source           \n",
       "PJUPITER=    1.12632004054E+16 / Conv to irradiance for jupiter source          \n",
       "PHOTZPT =        19.1400000000 / Zero point for visual magnitude, V             \n",
       "COMMENT *********************************************************               \n",
       "COMMENT *** LORRI Level 2 Calibrated telemetry items          ***               \n",
       "COMMENT *********************************************************               \n",
       "EPU_P5VO=        5.04305504857 / EPU +5 voltage. units=Volts                    \n",
       "EPU_P5CU=       0.143143000000 / EPU +5 current. units=Amps                     \n",
       "FPU_P15V=        14.9797220368 / FPU +15 voltage. units=Volts                   \n",
       "FPU_P15C=      0.0407280000000 / FPU +15 current. units=Amps                    \n",
       "FPU_P6_V=        6.04818995353 / FPU +6 voltage. units=Volts                    \n",
       "FPU_P6_C=       0.162162000000 / FPU +6 current. units=Amps                     \n",
       "FPU_HTRC=        0.00000000000 / FPU heater current. units=Amps                 \n",
       "EPU_25PV=        2.50585987492 / EPU +2.5 voltage. units=Volts                  \n",
       "RINGTEMP=       -70.8007466057 / Intermediate ring temp. units=celsius          \n",
       "MFOOTTMP=       -66.1713738560 / Mounting foot-top temp. units=celsius          \n",
       "M2MNTTMP=       -70.8007466057 / M2 mirror mount temp. units=celsius            \n",
       "RADTEMP =       -90.7369561235 / Radiator temp. units=celsius                   \n",
       "BAFATEMP=       -67.2398321861 / Baffle-aft temp. units=celsius                 \n",
       "BAFFTEMP=       -76.8527979454 / Baffle-forward temp. units=celsius             \n",
       "M1SUPTMP=       -71.1567934932 / M1 mirror support temp. units=celsius          \n",
       "M1MIRTMP=       -70.4446924814 / M1 mirror temp. units=celsius                  \n",
       "CCDTEMP =       -80.8649000000 / CCD temperature. units=celsius                 \n",
       "M1VFTEMP=       -69.5509595000 / M1 V/F temperature. units=celsius              \n",
       "M2VFTEMP=       -70.2149340000 / M2 V/F temperature. units=celsius              \n",
       "FPUBTEMP=        27.0255200000 / FPU board V/F temp. units=celsius              \n",
       "STEMPCVR= 'ENABLE  '           / Temperature conversion enable                  \n",
       "SCLMP2PE= 'OFF     '           / Cal lamp 2 power enable                        \n",
       "SCLMP1PE= 'OFF     '           / Cal lamp 2 power enable                        \n",
       "SSOURCE = 'CCD     '           / Image source                                   \n",
       "SFORMAT = '4X4     '           / Image format                                   \n",
       "SEXPMODE= 'MANUAL  '           / Exposure mode                                  \n",
       "PDUNAME = 'Level 2 LORRI image' /                                               "
      ]
     },
     "execution_count": 144,
     "metadata": {},
     "output_type": "execute_result"
    }
   ],
   "source": [
    "header"
   ]
  },
  {
   "cell_type": "code",
   "execution_count": 138,
   "metadata": {
    "collapsed": false
   },
   "outputs": [
    {
     "data": {
      "text/plain": [
       "3800640.0"
      ]
     },
     "execution_count": 138,
     "metadata": {},
     "output_type": "execute_result"
    }
   ],
   "source": [
    "RSOLAR"
   ]
  },
  {
   "cell_type": "code",
   "execution_count": 139,
   "metadata": {
    "collapsed": false
   },
   "outputs": [
    {
     "data": {
      "text/plain": [
       "4944000.0"
      ]
     },
     "execution_count": 139,
     "metadata": {},
     "output_type": "execute_result"
    }
   ],
   "source": [
    "RPLUTO"
   ]
  },
  {
   "cell_type": "code",
   "execution_count": 145,
   "metadata": {
    "collapsed": false
   },
   "outputs": [
    {
     "data": {
      "text/plain": [
       "1.3457943925233644"
      ]
     },
     "execution_count": 145,
     "metadata": {},
     "output_type": "execute_result"
    }
   ],
   "source": [
    "header['RSOLAR'] /3800640"
   ]
  },
  {
   "cell_type": "code",
   "execution_count": null,
   "metadata": {
    "collapsed": true
   },
   "outputs": [],
   "source": []
  }
 ],
 "metadata": {
  "anaconda-cloud": {},
  "kernelspec": {
   "display_name": "Python [conda env:py3]",
   "language": "python",
   "name": "conda-env-py3-py"
  },
  "language_info": {
   "codemirror_mode": {
    "name": "ipython",
    "version": 3
   },
   "file_extension": ".py",
   "mimetype": "text/x-python",
   "name": "python",
   "nbconvert_exporter": "python",
   "pygments_lexer": "ipython3",
   "version": "3.5.2"
  }
 },
 "nbformat": 4,
 "nbformat_minor": 0
}
